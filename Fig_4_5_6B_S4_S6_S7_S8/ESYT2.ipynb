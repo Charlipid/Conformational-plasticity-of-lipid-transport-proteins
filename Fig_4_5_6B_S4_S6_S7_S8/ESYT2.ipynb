{
 "cells": [
  {
   "cell_type": "code",
   "execution_count": 1,
   "id": "physical-insulin",
   "metadata": {},
   "outputs": [
    {
     "name": "stdout",
     "output_type": "stream",
     "text": [
      "Automatically created module for IPython interactive environment\n"
     ]
    }
   ],
   "source": [
    "import os\n",
    "import matplotlib.pyplot as plt\n",
    "import matplotlib.ticker as ticker\n",
    "from matplotlib.lines import Line2D\n",
    "\n",
    "import pandas as pd\n",
    "import time\n",
    "import shutil\n",
    "import argparse\n",
    "import numpy as np\n",
    "from sklearn.decomposition import PCA, KernelPCA\n",
    "from sklearn.preprocessing import StandardScaler\n",
    "import sys\n",
    "sys.path.append('/DATA/lucaa/software/CLoNe')\n",
    "\n",
    "from matplotlib import rc\n",
    "plt.rcParams['ps.useafm'] = True\n",
    "rc('font',**{'family':'sans-serif','sans-serif':['Helvetica']})\n",
    "\n",
    "from clone import CLoNe\n",
    "from plot import plot_clusters\n",
    "from structural_utils import load_md_args, show_cluster_info\n",
    "\n",
    "import mdtraj\n",
    "import pyemma\n",
    "import seaborn as sns\n",
    "print(__doc__)\n",
    "start = time.time()"
   ]
  },
  {
   "cell_type": "code",
   "execution_count": 2,
   "id": "electric-shirt",
   "metadata": {},
   "outputs": [],
   "source": [
    "# PARAMETERS SETUP\n",
    "\n",
    "# Clustering parameters \n",
    "pdc=6  # neighbour search during clusterint\n",
    "n_resize=4 \n",
    "filt=0.1 \n",
    "verbose=False\n",
    "n_pca=10 # number of PC to include in calculations \n",
    "n_bins= 200  # number of bins for PC hist\n",
    "# Simulations and topology \n",
    "trj_apo='apo/trjcat_md_esyt_apo_center_pbcmol_fit_rot_trans_CA_after10ns_stride10.xtc'   # apo traj\n",
    "trj_holo='holo/trjcat_md_esyt_holo_center_pbcmol_fit_rot_trans_CA_after10ns_stride10.xtc'# holo traj\n",
    "trj_tot='esyt_tot.xtc'   # concatenated total traj\n",
    "\n",
    "topo_apo='apo/apo.pdb'  # pdb or gro of apo\n",
    "\n",
    "# Selection for PCA calculation (see mdtraj syntax)\n",
    "at_sel=\"name CA and resid 4 to 179\"  # try to exclude end loops or regions that move but are not interesting (hides the true PC)\n",
    "n_res=176   # number of residues (still manual insertion, i know...)\n",
    "feat=\"None\"\n",
    "resmin=4\n",
    "resmax=179\n",
    "output_folder = \"results\"\n",
    "\n",
    "apo_name=\"apo\"\n",
    "holo_name=\"holo\"\n",
    "tot_name=\"tot\""
   ]
  },
  {
   "cell_type": "code",
   "execution_count": 3,
   "id": "detailed-jaguar",
   "metadata": {},
   "outputs": [],
   "source": [
    "def calculate_pca(topo, traj, main_folder, syst, at_sel, n_pca ):\n",
    "    # Load trajectory\n",
    "    topology = mdtraj.load(topo).topology\n",
    "    struct_ens = mdtraj.load(traj, top=topo)\n",
    "\n",
    "    # Create result folder based on dataset nam\\e\n",
    "    if not os.path.exists(main_folder):\n",
    "        os.makedirs(main_folder)\n",
    "    out_idx =  1\n",
    "    output_folder = main_folder+\"/%s_%i/\"\n",
    "    while os.path.exists(output_folder%(syst, out_idx)):\n",
    "        out_idx += 1\n",
    "    output_folder = output_folder%(syst, out_idx)\n",
    "    os.makedirs(output_folder)\n",
    "    \n",
    "\n",
    "    selection = struct_ens.topology.select(at_sel)\n",
    "    coords = struct_ens.xyz[:, selection]\n",
    "    coords = coords.reshape(coords.shape[0], coords.shape[1] * coords.shape[2])\n",
    "    headers = [\"C%i\"%x for x in range(len(coords[0]))]  # general headers\n",
    "\n",
    "    # Principal component analysis\n",
    "    original_coords = coords.copy()\n",
    "    pca_obj = PCA(n_components=n_pca)\n",
    "    reddim_coords = pca_obj.fit_transform(coords)\n",
    "    eigenvalues = pca_obj.explained_variance_ratio_\n",
    "    ratio = np.sum(eigenvalues[:n_pca])\n",
    "    pca_headers = [\"PC%i (%.2f)\"%(x + 1, eigenvalues[x]) for x in range(n_pca)]\n",
    "    \n",
    "    print(\"> PCA: %i => %i dimension(s) with eigenval.: %s\"%(len(headers), n_pca, str(eigenvalues)))\n",
    "    print(\"sum of Variance: %s\"%(np.sum(eigenvalues)))\n",
    "    with open(\"%sPCA_coords.txt\"%output_folder, \"w\") as f:\n",
    "        for x in range(n_pca):\n",
    "            f.write(\"PC%i(%.2f) \"%(x + 1, eigenvalues[x]))\n",
    "        f.write(\"\\n\")\n",
    "        for el in reddim_coords:\n",
    "            for n in el:\n",
    "                f.write(\"%f \"%n)\n",
    "            f.write(\"\\n\")  \n",
    "    return pca_obj, reddim_coords, original_coords\n",
    "\n",
    "def calc_magn_vector(pc):\n",
    "    final_length = int(len(pc)/3)\n",
    "    pc_magn = np.empty(final_length)\n",
    "    \n",
    "    for i in range(final_length):\n",
    "        pc_magn[i] = np.sqrt(pc[i*3]**2+pc[i*3+1]**2+pc[i*3+2]**2)\n",
    "    \n",
    "    return pc_magn\n",
    "\n",
    "def save_pc_bfact(init_padding, length_pc, final_padding, structure, pc_component, outpdb):\n",
    "\n",
    "    pc_elongated = np.concatenate((np.zeros(init_padding),calc_magn_vector(pc_component),np.zeros(final_padding)))\n",
    "    system_length_res = len([residue for residue in structure.topology.residues])\n",
    "    system_length_atoms = len([ atom for atom in structure.topology.atoms])\n",
    "\n",
    "    syst_bfact=np.zeros(system_length_atoms)\n",
    "    index=0\n",
    "    for resid in range(system_length_res):\n",
    "        res_len = len(structure.topology.select('resid '+str(resid)))\n",
    "        res_bfact= res_len\n",
    "        syst_bfact[index:index+res_len] = pc_elongated[resid]\n",
    "        index += res_len\n",
    "\n",
    "    structure[0].save_pdb(outpdb, bfactors=syst_bfact*100)"
   ]
  },
  {
   "cell_type": "code",
   "execution_count": 4,
   "id": "d6d2225c-24ac-4baf-8f04-021a33d850ef",
   "metadata": {},
   "outputs": [
    {
     "name": "stderr",
     "output_type": "stream",
     "text": [
      "/DATA/lucaa/software/anaconda3/envs/cloneenv/lib/python3.7/site-packages/mdtraj/core/trajectory.py:422: UserWarning: top= kwarg ignored since file contains topology information\n",
      "  warnings.warn('top= kwarg ignored since file contains topology information')\n"
     ]
    }
   ],
   "source": [
    "struct_ens = mdtraj.load(\"apo/apo.pdb\", top=\"apo/apo.pdb\")\n",
    "#print(topo_apo)\n",
    "selection = struct_ens.topology.select(\"name CA and resid 184 to 362\")\n",
    "#print(len(selection))"
   ]
  },
  {
   "cell_type": "code",
   "execution_count": 5,
   "id": "sound-florida",
   "metadata": {},
   "outputs": [
    {
     "name": "stdout",
     "output_type": "stream",
     "text": [
      "> PCA: 528 => 10 dimension(s) with eigenval.: [0.29478315 0.18881397 0.13522449 0.05490596 0.03773805 0.02773127\n",
      " 0.02416644 0.01904516 0.01528695 0.01261781]\n",
      "sum of Variance: 0.8103132\n",
      "> PCA: 528 => 10 dimension(s) with eigenval.: [0.24933816 0.14353158 0.08648666 0.0539991  0.0428015  0.03354075\n",
      " 0.02769756 0.02570552 0.0206387  0.01864385]\n",
      "sum of Variance: 0.7023834\n",
      "> PCA: 528 => 10 dimension(s) with eigenval.: [0.3868781  0.17234841 0.06890079 0.05066719 0.02969076 0.02449825\n",
      " 0.01832697 0.01612553 0.01493636 0.01165545]\n",
      "sum of Variance: 0.79402786\n"
     ]
    }
   ],
   "source": [
    "# make results folder \n",
    "try:\n",
    "    os.mkdir(output_folder)\n",
    "except FileExistsError:\n",
    "    pass\n",
    "# make images folder \n",
    "try:\n",
    "    os.mkdir(output_folder+'/IMAGES/')\n",
    "except FileExistsError:\n",
    "    pass\n",
    "# Calculate PCA\n",
    "pca_apo, red_dim_coords_apo, orig_coords_apo = calculate_pca(topo_apo, trj_apo, output_folder, apo_name, at_sel, n_pca)\n",
    "pca_holo, red_dim_coords_holo, orig_coords_holo = calculate_pca(topo_apo, trj_holo, output_folder, holo_name, at_sel, n_pca)\n",
    "pca_tot, red_dim_coords_tot, orig_coords_tot = calculate_pca(topo_apo, trj_tot, output_folder, tot_name, at_sel, n_pca)\n"
   ]
  },
  {
   "cell_type": "code",
   "execution_count": 6,
   "id": "94ff1cdf-1fb5-44e9-8d06-8fdec7c17e84",
   "metadata": {},
   "outputs": [],
   "source": [
    "index_apo_end=np.shape(red_dim_coords_apo)[0]\n",
    "index_tot_end=np.shape(red_dim_coords_tot)[0]"
   ]
  },
  {
   "cell_type": "markdown",
   "id": "appreciated-railway",
   "metadata": {},
   "source": [
    "# Figures PC and histograms checking that all pc apo, holo and tot are the similar "
   ]
  },
  {
   "cell_type": "code",
   "execution_count": 19,
   "id": "arranged-screen",
   "metadata": {},
   "outputs": [
    {
     "data": {
      "image/png": "[encoded data removed]",
      "text/plain": [
       "<Figure size 720x216 with 3 Axes>"
      ]
     },
     "metadata": {
      "needs_background": "light"
     },
     "output_type": "display_data"
    }
   ],
   "source": [
    "fig, ax = plt.subplots(1,3, figsize=(10,3), sharey=True, sharex=True)\n",
    "tick_spacing = 20\n",
    "ax[0].xaxis.set_major_locator(ticker.MultipleLocator(tick_spacing))\n",
    "ax[0].tick_params(axis='x', rotation=90)\n",
    "ax[1].tick_params(axis='x', rotation=90)\n",
    "ax[2].tick_params(axis='x', rotation=90)\n",
    "\n",
    "ax[0].set_xlim(resmin+191,resmax+191)\n",
    "ax[0].plot(np.arange(resmin, resmax+1)+191,calc_magn_vector(pca_apo.components_[0]), linewidth=0.8, color='green')\n",
    "ax[1].plot(np.arange(resmin, resmax+1)+191,calc_magn_vector(pca_holo.components_[0]), linewidth=0.8, color='dodgerblue')\n",
    "ax[2].plot(np.arange(resmin, resmax+1)+191,calc_magn_vector(pca_tot.components_[0]), linewidth=0.8, color='red')\n",
    "\n",
    "sns.despine()\n",
    "\n",
    "ax[0].legend(['Apo'], frameon=False)\n",
    "ax[1].legend(['Holo'], frameon=False)\n",
    "ax[2].legend(['Apo+Holo'], frameon=False)\n",
    "\n",
    "ax[0].set_xlabel(\"Residue number\", fontsize=12, labelpad=5)\n",
    "ax[1].set_xlabel(\"Residue number\", fontsize=12, labelpad=5)\n",
    "ax[2].set_xlabel(\"Residue number\", fontsize=12, labelpad=5)\n",
    "ax[0].set_ylabel(\"PC component (a.u.)\", fontsize=12, labelpad=5)\n",
    "fig.tight_layout()\n",
    "\n",
    "ax[0]\n",
    "fig.savefig(output_folder+'/IMAGES/comparison_pc_apo_holo_tot.pdf')\n",
    "\n",
    "plt.show()"
   ]
  },
  {
   "cell_type": "code",
   "execution_count": 8,
   "id": "quality-spare",
   "metadata": {},
   "outputs": [
    {
     "name": "stderr",
     "output_type": "stream",
     "text": [
      "/DATA/lucaa/software/anaconda3/envs/cloneenv/lib/python3.7/site-packages/ipykernel_launcher.py:20: UserWarning: You have mixed positional and keyword arguments, some input may be discarded.\n"
     ]
    },
    {
     "data": {
      "image/png": "[encoded data removed]",
      "text/plain": [
       "<Figure size 360x360 with 1 Axes>"
      ]
     },
     "metadata": {
      "needs_background": "light"
     },
     "output_type": "display_data"
    }
   ],
   "source": [
    "fig, ax = plt.subplots(1,1, figsize=(5,5), sharey=True, sharex=True)\n",
    "\n",
    "min_pc = -4\n",
    "max_pc = 5\n",
    "\n",
    "sns.despine()\n",
    "ax.set_xlim([min_pc,max_pc])\n",
    "ax.set_xticks([-3,-2,-1,0,1,2,3,4])\n",
    "ax.tick_params(axis = 'both', which = 'major', labelsize = 16)\n",
    "ax.set_xlabel(\"PC1\", fontsize=20)\n",
    "ax.set_ylabel(\"# Count\", fontsize=20)\n",
    "\n",
    "ax.hist(red_dim_coords_tot[0:index_apo_end,0], color='green', range=(min_pc, max_pc), bins=n_bins, histtype=\"step\")\n",
    "ax.hist(red_dim_coords_tot[0:index_apo_end,0], color='green', range=(min_pc, max_pc), bins=n_bins, alpha=0.3)\n",
    "\n",
    "ax.hist(red_dim_coords_tot[index_apo_end:index_tot_end,0], color='dodgerblue', range=(min_pc, max_pc), bins=n_bins, histtype=\"step\")\n",
    "ax.hist(red_dim_coords_tot[index_apo_end:index_tot_end,0], color='dodgerblue', range=(min_pc, max_pc), bins=n_bins, alpha=0.3)\n",
    "\n",
    "legend_elements = [Line2D([0], [0], color='green', lw=2, label='Apo'),Line2D([0], [0], color='dodgerblue', lw=2, label='Holo')]\n",
    "ax.legend(['Apo','Holo'], frameon=False, fontsize=16, handles = legend_elements)\n",
    "ax.set_title(\"Apo vs. Holo population\", fontsize=16)\n",
    "\n",
    "fig.tight_layout()\n",
    "fig.savefig(output_folder+'/IMAGES/histograms_pc.pdf')\n",
    "plt.show()"
   ]
  },
  {
   "cell_type": "markdown",
   "id": "peaceful-train",
   "metadata": {},
   "source": [
    "# Clustering\n"
   ]
  },
  {
   "cell_type": "code",
   "execution_count": 7,
   "id": "portable-catering",
   "metadata": {},
   "outputs": [],
   "source": [
    "#clone_apo = CLoNe(pdc=pdc)\n",
    "#clone_holo = CLoNe(pdc=pdc)\n",
    "clone_apoholo = CLoNe(pdc=8)\n",
    "\n",
    "#clone_apo.fit(red_dim_coords_tot[0:index_apo_end,0].reshape(-1, 1)) \n",
    "#clone_holo.fit(red_dim_coords_tot[index_apo_end:index_tot_end,0].reshape(-1, 1)) \n",
    "clone_apoholo.fit(red_dim_coords_tot[:,0].reshape(-1, 1))   "
   ]
  },
  {
   "cell_type": "markdown",
   "id": "a906933e-52dd-45f5-a5b2-eec7c575c1b0",
   "metadata": {},
   "source": [
    "# Population analysis"
   ]
  },
  {
   "cell_type": "code",
   "execution_count": 10,
   "id": "14a5bcd4-dcbe-4747-8356-bd71834f629c",
   "metadata": {},
   "outputs": [],
   "source": [
    "clusters = np.unique(clone_apoholo.labels_)\n",
    "labels_apo = clone_apoholo.labels_[0:index_apo_end]\n",
    "labels_holo = clone_apoholo.labels_[index_apo_end:index_tot_end]\n",
    "pop_list = []\n",
    "for label in clusters:\n",
    "    \n",
    "    count_apo = np.count_nonzero(labels_apo == label)\n",
    "    count_holo = np.count_nonzero(labels_holo == label)\n",
    "    count_tot= np.count_nonzero(clone_apoholo.labels_[0:index_tot_end] == label)\n",
    "    pop_list.append([label, count_apo/count_tot*100, count_holo/count_tot*100, count_tot/len(clone_apoholo.labels_)*100])\n",
    "    #print(label, count_apo, count_holo, count_tot)\n",
    "\n",
    "df = pd.DataFrame(pop_list, columns=['cluster', 'frames apo (%)', 'frames holo (%)', 'cluster relevance (%)'])  \n",
    "\n",
    "df.to_csv(output_folder+'/'+tot_name+\"_1/population_analysis.txt\", sep=\" \", float_format=\"%2.2f\")"
   ]
  },
  {
   "cell_type": "markdown",
   "id": "966fe72a-8172-4dc9-bd46-3ee683201dcc",
   "metadata": {},
   "source": [
    "# Cluster plots"
   ]
  },
  {
   "cell_type": "code",
   "execution_count": 9,
   "id": "played-interest",
   "metadata": {},
   "outputs": [
    {
     "data": {
      "image/png": "[encoded data removed]",
      "text/plain": [
       "<Figure size 288x144 with 2 Axes>"
      ]
     },
     "metadata": {
      "needs_background": "light"
     },
     "output_type": "display_data"
    },
    {
     "data": {
      "image/png": "[encoded data removed]",
      "text/plain": [
       "<Figure size 288x288 with 1 Axes>"
      ]
     },
     "metadata": {
      "needs_background": "light"
     },
     "output_type": "display_data"
    }
   ],
   "source": [
    "pca_headers = [\"PC%i\"%(x + 1) for x in range(n_pca)]\n",
    "#plot_clusters(clone_apo, red_dim_coords_tot[0:index_apo_end,0].reshape(-1, 1), output_folder+'/apo_1',pca_headers[:2] ) \n",
    "#plot_clusters(clone_holo, red_dim_coords_tot[index_apo_end:index_tot_end,0].reshape(-1, 1), output_folder+'/holo_1',pca_headers[:2] )\n",
    "plot_clusters(clone_apoholo, red_dim_coords_tot[:,0].reshape(-1, 1), output_folder+'/'+tot_name+'_1',pca_headers[:2] )"
   ]
  },
  {
   "cell_type": "markdown",
   "id": "described-fitting",
   "metadata": {},
   "source": [
    "# Save clusters"
   ]
  },
  {
   "cell_type": "code",
   "execution_count": 9,
   "id": "included-murder",
   "metadata": {},
   "outputs": [],
   "source": [
    "# Load trajectories\n",
    "#struct_apo = mdtraj.load(trj_apo, top=topo_apo)\n",
    "#struct_holo = mdtraj.load(trj_holo, top=topo_apo)\n",
    "struct_apoholo = mdtraj.load(trj_tot, top=topo_apo)"
   ]
  },
  {
   "cell_type": "code",
   "execution_count": 10,
   "id": "supreme-million",
   "metadata": {},
   "outputs": [
    {
     "ename": "NameError",
     "evalue": "name 'struct_apo' is not defined",
     "output_type": "error",
     "traceback": [
      "\u001b[0;31m---------------------------------------------------------------------------\u001b[0m",
      "\u001b[0;31mNameError\u001b[0m                                 Traceback (most recent call last)",
      "\u001b[0;32m<ipython-input-10-23d5bacf1074>\u001b[0m in \u001b[0;36m<module>\u001b[0;34m\u001b[0m\n\u001b[1;32m      5\u001b[0m \u001b[0;34m[\u001b[0m\u001b[0mstruct_apoholo\u001b[0m\u001b[0;34m[\u001b[0m\u001b[0mcenter\u001b[0m\u001b[0;34m]\u001b[0m\u001b[0;34m.\u001b[0m\u001b[0msave\u001b[0m\u001b[0;34m(\u001b[0m\u001b[0mfolder\u001b[0m\u001b[0;34m+\u001b[0m\u001b[0;34m\"/Center_%d.pdb\"\u001b[0m\u001b[0;34m%\u001b[0m\u001b[0;34m(\u001b[0m\u001b[0mcenter_id\u001b[0m \u001b[0;34m+\u001b[0m \u001b[0;36m1\u001b[0m\u001b[0;34m)\u001b[0m\u001b[0;34m)\u001b[0m \u001b[0;32mfor\u001b[0m \u001b[0mcenter\u001b[0m\u001b[0;34m,\u001b[0m \u001b[0mcenter_id\u001b[0m \u001b[0;32min\u001b[0m \u001b[0mzip\u001b[0m\u001b[0;34m(\u001b[0m\u001b[0mclone_apoholo\u001b[0m\u001b[0;34m.\u001b[0m\u001b[0mcenters\u001b[0m\u001b[0;34m,\u001b[0m \u001b[0munique_labels\u001b[0m\u001b[0;34m)\u001b[0m\u001b[0;34m]\u001b[0m\u001b[0;34m\u001b[0m\u001b[0;34m\u001b[0m\u001b[0m\n\u001b[1;32m      6\u001b[0m \u001b[0;31m# Save trajs\u001b[0m\u001b[0;34m\u001b[0m\u001b[0;34m\u001b[0m\u001b[0;34m\u001b[0m\u001b[0m\n\u001b[0;32m----> 7\u001b[0;31m \u001b[0;34m[\u001b[0m\u001b[0mstruct_apo\u001b[0m\u001b[0;34m[\u001b[0m\u001b[0mclone_apoholo\u001b[0m\u001b[0;34m.\u001b[0m\u001b[0mlabels_\u001b[0m\u001b[0;34m[\u001b[0m\u001b[0;36m0\u001b[0m\u001b[0;34m:\u001b[0m\u001b[0mindex_apo_end\u001b[0m\u001b[0;34m]\u001b[0m \u001b[0;34m==\u001b[0m \u001b[0mlab\u001b[0m\u001b[0;34m]\u001b[0m\u001b[0;34m.\u001b[0m\u001b[0msave\u001b[0m\u001b[0;34m(\u001b[0m\u001b[0mfolder\u001b[0m\u001b[0;34m+\u001b[0m\u001b[0;34m\"/Cluster_apo_%d.xtc\"\u001b[0m\u001b[0;34m%\u001b[0m\u001b[0;34m(\u001b[0m\u001b[0mlab\u001b[0m \u001b[0;34m+\u001b[0m \u001b[0;36m1\u001b[0m\u001b[0;34m)\u001b[0m\u001b[0;34m)\u001b[0m \u001b[0;32mfor\u001b[0m \u001b[0mlab\u001b[0m \u001b[0;32min\u001b[0m \u001b[0munique_labels\u001b[0m\u001b[0;34m]\u001b[0m\u001b[0;34m\u001b[0m\u001b[0;34m\u001b[0m\u001b[0m\n\u001b[0m\u001b[1;32m      8\u001b[0m \u001b[0;34m[\u001b[0m\u001b[0mstruct_holo\u001b[0m\u001b[0;34m[\u001b[0m\u001b[0mclone_apoholo\u001b[0m\u001b[0;34m.\u001b[0m\u001b[0mlabels_\u001b[0m\u001b[0;34m[\u001b[0m\u001b[0mindex_apo_end\u001b[0m\u001b[0;34m:\u001b[0m\u001b[0;34m]\u001b[0m \u001b[0;34m==\u001b[0m \u001b[0mlab\u001b[0m\u001b[0;34m]\u001b[0m\u001b[0;34m.\u001b[0m\u001b[0msave\u001b[0m\u001b[0;34m(\u001b[0m\u001b[0mfolder\u001b[0m\u001b[0;34m+\u001b[0m\u001b[0;34m\"/Cluster_holo_%d.xtc\"\u001b[0m\u001b[0;34m%\u001b[0m\u001b[0;34m(\u001b[0m\u001b[0mlab\u001b[0m \u001b[0;34m+\u001b[0m \u001b[0;36m1\u001b[0m\u001b[0;34m)\u001b[0m\u001b[0;34m)\u001b[0m \u001b[0;32mfor\u001b[0m \u001b[0mlab\u001b[0m \u001b[0;32min\u001b[0m \u001b[0munique_labels\u001b[0m\u001b[0;34m]\u001b[0m\u001b[0;34m\u001b[0m\u001b[0;34m\u001b[0m\u001b[0m\n",
      "\u001b[0;32m<ipython-input-10-23d5bacf1074>\u001b[0m in \u001b[0;36m<listcomp>\u001b[0;34m(.0)\u001b[0m\n\u001b[1;32m      5\u001b[0m \u001b[0;34m[\u001b[0m\u001b[0mstruct_apoholo\u001b[0m\u001b[0;34m[\u001b[0m\u001b[0mcenter\u001b[0m\u001b[0;34m]\u001b[0m\u001b[0;34m.\u001b[0m\u001b[0msave\u001b[0m\u001b[0;34m(\u001b[0m\u001b[0mfolder\u001b[0m\u001b[0;34m+\u001b[0m\u001b[0;34m\"/Center_%d.pdb\"\u001b[0m\u001b[0;34m%\u001b[0m\u001b[0;34m(\u001b[0m\u001b[0mcenter_id\u001b[0m \u001b[0;34m+\u001b[0m \u001b[0;36m1\u001b[0m\u001b[0;34m)\u001b[0m\u001b[0;34m)\u001b[0m \u001b[0;32mfor\u001b[0m \u001b[0mcenter\u001b[0m\u001b[0;34m,\u001b[0m \u001b[0mcenter_id\u001b[0m \u001b[0;32min\u001b[0m \u001b[0mzip\u001b[0m\u001b[0;34m(\u001b[0m\u001b[0mclone_apoholo\u001b[0m\u001b[0;34m.\u001b[0m\u001b[0mcenters\u001b[0m\u001b[0;34m,\u001b[0m \u001b[0munique_labels\u001b[0m\u001b[0;34m)\u001b[0m\u001b[0;34m]\u001b[0m\u001b[0;34m\u001b[0m\u001b[0;34m\u001b[0m\u001b[0m\n\u001b[1;32m      6\u001b[0m \u001b[0;31m# Save trajs\u001b[0m\u001b[0;34m\u001b[0m\u001b[0;34m\u001b[0m\u001b[0;34m\u001b[0m\u001b[0m\n\u001b[0;32m----> 7\u001b[0;31m \u001b[0;34m[\u001b[0m\u001b[0mstruct_apo\u001b[0m\u001b[0;34m[\u001b[0m\u001b[0mclone_apoholo\u001b[0m\u001b[0;34m.\u001b[0m\u001b[0mlabels_\u001b[0m\u001b[0;34m[\u001b[0m\u001b[0;36m0\u001b[0m\u001b[0;34m:\u001b[0m\u001b[0mindex_apo_end\u001b[0m\u001b[0;34m]\u001b[0m \u001b[0;34m==\u001b[0m \u001b[0mlab\u001b[0m\u001b[0;34m]\u001b[0m\u001b[0;34m.\u001b[0m\u001b[0msave\u001b[0m\u001b[0;34m(\u001b[0m\u001b[0mfolder\u001b[0m\u001b[0;34m+\u001b[0m\u001b[0;34m\"/Cluster_apo_%d.xtc\"\u001b[0m\u001b[0;34m%\u001b[0m\u001b[0;34m(\u001b[0m\u001b[0mlab\u001b[0m \u001b[0;34m+\u001b[0m \u001b[0;36m1\u001b[0m\u001b[0;34m)\u001b[0m\u001b[0;34m)\u001b[0m \u001b[0;32mfor\u001b[0m \u001b[0mlab\u001b[0m \u001b[0;32min\u001b[0m \u001b[0munique_labels\u001b[0m\u001b[0;34m]\u001b[0m\u001b[0;34m\u001b[0m\u001b[0;34m\u001b[0m\u001b[0m\n\u001b[0m\u001b[1;32m      8\u001b[0m \u001b[0;34m[\u001b[0m\u001b[0mstruct_holo\u001b[0m\u001b[0;34m[\u001b[0m\u001b[0mclone_apoholo\u001b[0m\u001b[0;34m.\u001b[0m\u001b[0mlabels_\u001b[0m\u001b[0;34m[\u001b[0m\u001b[0mindex_apo_end\u001b[0m\u001b[0;34m:\u001b[0m\u001b[0;34m]\u001b[0m \u001b[0;34m==\u001b[0m \u001b[0mlab\u001b[0m\u001b[0;34m]\u001b[0m\u001b[0;34m.\u001b[0m\u001b[0msave\u001b[0m\u001b[0;34m(\u001b[0m\u001b[0mfolder\u001b[0m\u001b[0;34m+\u001b[0m\u001b[0;34m\"/Cluster_holo_%d.xtc\"\u001b[0m\u001b[0;34m%\u001b[0m\u001b[0;34m(\u001b[0m\u001b[0mlab\u001b[0m \u001b[0;34m+\u001b[0m \u001b[0;36m1\u001b[0m\u001b[0;34m)\u001b[0m\u001b[0;34m)\u001b[0m \u001b[0;32mfor\u001b[0m \u001b[0mlab\u001b[0m \u001b[0;32min\u001b[0m \u001b[0munique_labels\u001b[0m\u001b[0;34m]\u001b[0m\u001b[0;34m\u001b[0m\u001b[0;34m\u001b[0m\u001b[0m\n",
      "\u001b[0;31mNameError\u001b[0m: name 'struct_apo' is not defined"
     ]
    }
   ],
   "source": [
    "unique_labels = range(len(clone_apoholo.centers)) \n",
    "folder = output_folder+'/'+tot_name+'_1'\n",
    "\n",
    "# Save center\n",
    "[struct_apoholo[center].save(folder+\"/Center_%d.pdb\"%(center_id + 1)) for center, center_id in zip(clone_apoholo.centers, unique_labels)]\n",
    "# Save trajs\n",
    "[struct_apo[clone_apoholo.labels_[0:index_apo_end] == lab].save(folder+\"/Cluster_apo_%d.xtc\"%(lab + 1)) for lab in unique_labels]\n",
    "[struct_holo[clone_apoholo.labels_[index_apo_end:] == lab].save(folder+\"/Cluster_holo_%d.xtc\"%(lab + 1)) for lab in unique_labels]"
   ]
  },
  {
   "cell_type": "markdown",
   "id": "671e89b2-5b26-48b2-8eb2-d35d1eae6692",
   "metadata": {},
   "source": [
    "# Save extreme structures"
   ]
  },
  {
   "cell_type": "code",
   "execution_count": 11,
   "id": "878f6ab6-254c-423b-80f0-f48e4d2ac774",
   "metadata": {},
   "outputs": [],
   "source": [
    "minframe=[100,-1,-2]\n",
    "maxframe=[-100,-1,-2]\n",
    "for frame in zip(red_dim_coords_tot[:,0].reshape(-1, 1), clone_apoholo.labels_, range(len(clone_apoholo.labels_))):\n",
    "    if frame[1] != -1:\n",
    "        if frame[0] < minframe[0]:\n",
    "            minframe = frame\n",
    "        if frame[0] > maxframe[0]:\n",
    "            maxframe = frame\n",
    "\n",
    "folder = output_folder+'/'+tot_name+'_1'\n",
    "struct_apoholo[minframe[2]].save(folder+\"/extremeleft.pdb\")          \n",
    "struct_apoholo[maxframe[2]].save(folder+\"/extremeright.pdb\")          \n"
   ]
  },
  {
   "cell_type": "code",
   "execution_count": 11,
   "id": "6903cad1-cae9-4915-8d3d-9214ff59fa27",
   "metadata": {},
   "outputs": [],
   "source": [
    "a = sorted(zip(red_dim_coords_tot[:,0].reshape(-1, 1), clone_apoholo.labels_, range(len(clone_apoholo.labels_))))\n",
    "a = [el for el in a if el[1] != -1]\n",
    "a[0]\n",
    "struct_apoholo[a[0][2]].save(folder+\"/extremeleft1.pdb\")\n",
    "struct_apoholo[a[1][2]].save(folder+\"/extremeleft2.pdb\")\n",
    "struct_apoholo[a[2][2]].save(folder+\"/extremeleft3.pdb\")\n",
    "struct_apoholo[a[3][2]].save(folder+\"/extremeleft4.pdb\")\n",
    "struct_apoholo[a[4][2]].save(folder+\"/extremeleft5.pdb\")\n",
    "struct_apoholo[a[5][2]].save(folder+\"/extremeleft6.pdb\")\n",
    "struct_apoholo[a[6][2]].save(folder+\"/extremeleft7.pdb\")\n",
    "struct_apoholo[a[7][2]].save(folder+\"/extremeleft8.pdb\")\n",
    "struct_apoholo[a[8][2]].save(folder+\"/extremeleft9.pdb\")\n",
    "struct_apoholo[a[9][2]].save(folder+\"/extremeleft10.pdb\")\n",
    "struct_apoholo[a[10][2]].save(folder+\"/extremeleft11.pdb\")\n",
    "struct_apoholo[a[11][2]].save(folder+\"/extremeleft12.pdb\")\n",
    "struct_apoholo[a[12][2]].save(folder+\"/extremeleft13.pdb\")\n",
    "struct_apoholo[a[13][2]].save(folder+\"/extremeleft14.pdb\")\n",
    "struct_apoholo[a[14][2]].save(folder+\"/extremeleft15.pdb\")\n",
    "struct_apoholo[a[15][2]].save(folder+\"/extremeleft16.pdb\")\n",
    "struct_apoholo[a[16][2]].save(folder+\"/extremeleft17.pdb\")\n",
    "struct_apoholo[a[17][2]].save(folder+\"/extremeleft18.pdb\")\n",
    "struct_apoholo[a[18][2]].save(folder+\"/extremeleft19.pdb\")\n",
    "struct_apoholo[a[19][2]].save(folder+\"/extremeleft20.pdb\")\n",
    "\n",
    "struct_apoholo[a[-1][2]].save(folder+\"/extremeright1.pdb\")\n",
    "struct_apoholo[a[-2][2]].save(folder+\"/extremeright2.pdb\")\n",
    "struct_apoholo[a[-3][2]].save(folder+\"/extremeright3.pdb\")\n",
    "struct_apoholo[a[-4][2]].save(folder+\"/extremeright4.pdb\") \n",
    "struct_apoholo[a[-5][2]].save(folder+\"/extremeright5.pdb\")\n",
    "struct_apoholo[a[-6][2]].save(folder+\"/extremeright6.pdb\")\n",
    "struct_apoholo[a[-7][2]].save(folder+\"/extremeright7.pdb\")\n",
    "struct_apoholo[a[-8][2]].save(folder+\"/extremeright8.pdb\")\n",
    "struct_apoholo[a[-9][2]].save(folder+\"/extremeright9.pdb\")\n",
    "struct_apoholo[a[-10][2]].save(folder+\"/extremeright10.pdb\")\n",
    "struct_apoholo[a[-11][2]].save(folder+\"/extremeright11.pdb\")\n",
    "struct_apoholo[a[-12][2]].save(folder+\"/extremeright12.pdb\")\n",
    "struct_apoholo[a[-13][2]].save(folder+\"/extremeright13.pdb\")\n",
    "struct_apoholo[a[-14][2]].save(folder+\"/extremeright14.pdb\") \n",
    "struct_apoholo[a[-15][2]].save(folder+\"/extremeright15.pdb\")\n",
    "struct_apoholo[a[-16][2]].save(folder+\"/extremeright16.pdb\")\n",
    "struct_apoholo[a[-17][2]].save(folder+\"/extremeright17.pdb\")\n",
    "struct_apoholo[a[-18][2]].save(folder+\"/extremeright18.pdb\")\n",
    "struct_apoholo[a[-19][2]].save(folder+\"/extremeright19.pdb\")\n",
    "struct_apoholo[a[-20][2]].save(folder+\"/extremeright20.pdb\")"
   ]
  },
  {
   "cell_type": "markdown",
   "id": "61077a95-474a-4e84-b699-6ea9f2ca089f",
   "metadata": {},
   "source": [
    " # Save  PC in B-fact"
   ]
  },
  {
   "cell_type": "code",
   "execution_count": 13,
   "id": "2166fe27-64e7-4b4e-8bcd-710610921686",
   "metadata": {},
   "outputs": [],
   "source": [
    "folder = output_folder\n",
    "save_pc_bfact(1,176,184,struct_apo, pca_apo.components_[0],folder+\"/IMAGES/esyt_apo_pc0.pdb\")\n",
    "save_pc_bfact(1,176,184,struct_apo, pca_holo.components_[0],folder+\"/IMAGES/esyt_holo_pc0.pdb\")\n",
    "save_pc_bfact(1,176,184,struct_apo, pca_tot.components_[0],folder+\"/IMAGES/esyt_apoholo_pc0.pdb\")"
   ]
  },
  {
   "cell_type": "code",
   "execution_count": null,
   "id": "7a986520-384b-4028-a6cf-1e72441fd448",
   "metadata": {},
   "outputs": [],
   "source": []
  },
  {
   "cell_type": "code",
   "execution_count": null,
   "id": "babbde17-9ac1-4a29-afb6-1122f2f11c1c",
   "metadata": {},
   "outputs": [],
   "source": []
  },
  {
   "cell_type": "code",
   "execution_count": 18,
   "id": "c3b27866-0c62-4561-9922-ad66a6862c62",
   "metadata": {},
   "outputs": [
    {
     "name": "stdout",
     "output_type": "stream",
     "text": [
      "1 12.67643947408191 87.32356052591808 56.2650930240468 7.132410462229176 49.132682561817624\n",
      "0 99.98369941725417 0.016300582745833164 41.731573755994695 41.72477126628346 0.006802489711234312\n",
      "-1 57.05782312925171 42.9421768707483 1.9999319751028877 1.141117649059556 0.8588143260433319\n"
     ]
    }
   ],
   "source": [
    "\n",
    "clusters = np.unique(clone_apoholo.labels_)\n",
    "labels_apo = clone_apoholo.labels_[0:29400]\n",
    "labels_holo = clone_apoholo.labels_[29400:58800]\n",
    "pop_list = []\n",
    "for label in clusters[::-1]:\n",
    "    count_apo = np.count_nonzero(labels_apo == label)\n",
    "    count_holo = np.count_nonzero(labels_holo == label)\n",
    "    count_tot= np.count_nonzero(clone_apoholo.labels_[0:58800] == label)\n",
    "    pop_list.append([label, count_apo/count_tot*100, count_holo/count_tot*100, count_tot/len(clone_apoholo.labels_)*100, count_apo/count_tot*100*count_tot/len(clone_apoholo.labels_), count_holo/count_tot*100*count_tot/len(clone_apoholo.labels_)])\n",
    "    print(label, count_apo/count_tot*100, count_holo/count_tot*100, count_tot/len(clone_apoholo.labels_)*100,count_apo/count_tot*100*count_tot/len(clone_apoholo.labels_),count_holo/count_tot*100*count_tot/len(clone_apoholo.labels_) )\n",
    "\n",
    "df = pd.DataFrame(pop_list, columns=['cluster', 'frames apo (%)', 'frames holo (%)', 'cluster relevance (%)', 'weighted_cluster_relevance_apo','weighted_cluster_relevance_holo', ])  \n",
    "\n",
    "df.to_csv(output_folder+'/'+tot_name+\"_1/population_analysis.txt\", sep=\" \", float_format=\"%2.2f\")\n"
   ]
  },
  {
   "cell_type": "code",
   "execution_count": 47,
   "id": "3d86c04f-2f25-4d28-aee4-942fbbdc1177",
   "metadata": {},
   "outputs": [
    {
     "data": {
      "image/png": "[encoded data removed]",
      "text/plain": [
       "<Figure size 180x72 with 2 Axes>"
      ]
     },
     "metadata": {},
     "output_type": "display_data"
    }
   ],
   "source": [
    "from itertools import islice, cycle\n",
    "import statsmodels.api as sm\n",
    "import matplotlib.cm as cm\n",
    "fig, (ax1, ax2) = plt.subplots(1, 2, gridspec_kw={'width_ratios': [4, 1]}, figsize=(2.5,1), )\n",
    "plt.subplots_adjust(wspace=0.5)\n",
    "color_list = np.array(['#68a92e','#bbe398','#88ce4b'])\n",
    "colors = np.array(list(islice(cycle(color_list),len(clone_apoholo.centers))))\n",
    "min_pc = -3\n",
    "max_pc = 4\n",
    "axcolor = '#222222'\n",
    "axcolor2 = '#AAAAAA'\n",
    "hfont = {'fontname':'Helvetica'}\n",
    "\n",
    "\n",
    "centers = np.array(clone_apoholo.centers)\n",
    "labels = np.array(clone_apoholo.labels_)\n",
    "labels_all = np.array(clone_apoholo.labels_all)\n",
    "core = clone_apoholo.core_card\n",
    "\n",
    "sns.despine(left=True)\n",
    "#PLOT 1 \n",
    "ax1.set_xlim([min_pc,max_pc])\n",
    "ax1.set_ylim([0,1.5])\n",
    "ax1.set_xticks([-3,-2,-1,0,1,2,3,4])\n",
    "ax1.set_yticks([0,0.5, 1, 1.50])\n",
    "ax1.set_xlabel(\"PC1\", fontsize=8, labelpad=3)\n",
    "ax1.set_ylabel(\"Prob. density\", fontsize=8)\n",
    "\n",
    "ax1.tick_params(axis = 'both', which = 'major', labelsize = 8, pad=1.5, length=2)\n",
    "ax1.tick_params(width=0.5)\n",
    "# change all spines\n",
    "for axis in ['top','bottom','left','right']:\n",
    "    ax1.spines[axis].set_linewidth(0.5)\n",
    "# axes colors\n",
    "ax1.xaxis.label.set_color(axcolor)\n",
    "ax1.yaxis.label.set_color(axcolor2)         \n",
    "ax1.tick_params(axis='x', colors=axcolor)    \n",
    "ax1.tick_params(axis='y', colors=axcolor2)  \n",
    "ax1.spines['left'].set_color(axcolor2)\n",
    "ax1.spines['bottom'].set_color(axcolor)  \n",
    "    \n",
    "ax1.hist(red_dim_coords_tot[0:index_apo_end,0], color='#FAA336', range=(min_pc, max_pc), bins=n_bins, histtype=\"step\", zorder=-1, density=True, linewidth=0.2,  alpha=0.5)\n",
    "ax1.hist(red_dim_coords_tot[0:index_apo_end,0], color='#FAA336', range=(min_pc, max_pc), bins=n_bins, histtype=\"stepfilled\", zorder=-1, alpha=0.2, density=True, linewidth=0.2)\n",
    "ax1.hist(red_dim_coords_tot[index_apo_end:index_tot_end,0], color='#998EC3', range=(min_pc, max_pc), bins=n_bins, histtype=\"step\", zorder=-1, density=True, linewidth=0.2)\n",
    "ax1.hist(red_dim_coords_tot[index_apo_end:index_tot_end,0], color='#998EC3', range=(min_pc, max_pc), bins=n_bins, histtype=\"stepfilled\", zorder=-1, alpha=0.6, density=True, linewidth=0.2)\n",
    "    \n",
    "# Mask for plotting\n",
    "assigned_mask = np.where(labels != -1)\n",
    "outliers_mask = np.where(labels == -1)\n",
    "\n",
    "# Sort some values for better visualization after\n",
    "data = red_dim_coords_tot[:,0].reshape(-1, 1)\n",
    "arcore = np.argsort(core)\n",
    "s_cores = core[arcore]\n",
    "s_x = data[arcore]\n",
    "\n",
    "ypos=[1.35]\n",
    "# Plot clusters\n",
    "ax1.axvline(x=0.2, color='#AAAAAA', linestyle='--', ymax=0.9, linewidth=0.2, zorder=-1)\n",
    "ax1.scatter(data[assigned_mask, 0], ypos * len(data[assigned_mask]), marker='|', s=3, color=colors[labels[assigned_mask]], zorder=1, clip_on=False)\n",
    "ax1.scatter(data[outliers_mask, 0], ypos * len(data[outliers_mask]), marker='D', s=0.05, color='black', zorder=1, clip_on=False)\n",
    "ax1.scatter(data[centers, 0], ypos * len(data[centers]), marker='D', s=2, color='black', zorder=1, clip_on=False)\n",
    "\n",
    "ax1.text(-1.45,1.45, \"C1\", fontsize=8)\n",
    "ax1.text(1.2,1.45, \"C2\", fontsize=8)\n",
    "\n",
    "#PLOT 2 \n",
    "ax2.set_ylim([0,100])\n",
    "ax2.set_xticks([0,1])\n",
    "ax2.tick_params(axis = 'both', which = 'major', labelsize = 8, pad=1, length=2)\n",
    "#ax2.set_xlabel(\"Clusters\", fontsize=20, labelpad=5)\n",
    "ax2.set_ylabel(\"Population %\", fontsize=8, labelpad=-2, **hfont)\n",
    "    \n",
    "# set colors \n",
    "ax2.tick_params(width=0.5)\n",
    "ax2.xaxis.label.set_color(axcolor)       \n",
    "ax2.yaxis.label.set_color(axcolor2)          \n",
    "ax2.tick_params(axis='x', colors=axcolor) \n",
    "ax2.tick_params(axis='y', colors=axcolor2)\n",
    "ax2.spines['left'].set_color(axcolor2)        \n",
    "ax2.spines['bottom'].set_color(axcolor)  \n",
    "# change all spines\n",
    "for axis in ['top','bottom','left','right']:\n",
    "    ax2.spines[axis].set_linewidth(0.5)\n",
    "\n",
    "\n",
    "new_df = df[['weighted_cluster_relevance_apo','weighted_cluster_relevance_holo']]\n",
    "new_df.plot(kind='bar', legend=False, width=0.8, ax=ax2, color=['#faa336','#a782d9','black'], stacked=True)\n",
    "\n",
    "ax2.set_xticklabels([\"C1\",\"C2\", \"\"], rotation = 90, ha='center',**hfont, fontsize=8)\n",
    "ax2.text(2.01,-28,'*', ha='center', fontsize=14, color=axcolor)\n",
    "\n",
    "\n",
    "#fig.tight_layout()\n",
    "fig.savefig(output_folder+'/IMAGES/total_figure.png', dpi=600, bbox_inches='tight')"
   ]
  },
  {
   "cell_type": "code",
   "execution_count": 8,
   "id": "52c39dba-8fc2-414f-b46a-9a5e034cb599",
   "metadata": {},
   "outputs": [
    {
     "name": "stdout",
     "output_type": "stream",
     "text": [
      "0 99.98777456294063 0.012225437059374872 41.731573755994695 41.726471888711266 0.005101867283425734\n",
      "1 12.67643947408191 87.32960556143267 56.2650930240468 7.132410462229176 49.13608380667324\n",
      "-1 57.05782312925171 42.9421768707483 1.9999319751028877 1.141117649059556 0.8588143260433319\n"
     ]
    },
    {
     "data": {
      "image/png": "[encoded data removed]",
      "text/plain": [
       "<Figure size 180x72 with 2 Axes>"
      ]
     },
     "metadata": {},
     "output_type": "display_data"
    }
   ],
   "source": [
    "clusters = np.unique(clone_apoholo.labels_)\n",
    "labels_apo = clone_apoholo.labels_[0:index_apo_end]\n",
    "labels_holo = clone_apoholo.labels_[index_apo_end:index_tot_end]\n",
    "pop_list = []\n",
    "for label in [0,1,-1]:\n",
    "    count_apo = np.count_nonzero(labels_apo == label)\n",
    "    count_holo = np.count_nonzero(labels_holo == label)\n",
    "    count_tot= np.count_nonzero(clone_apoholo.labels_[0:58800] == label)\n",
    "    pop_list.append([label, count_apo/count_tot*100, count_holo/count_tot*100, count_tot/len(clone_apoholo.labels_)*100, count_apo/count_tot*100*count_tot/len(clone_apoholo.labels_), count_holo/count_tot*100*count_tot/len(clone_apoholo.labels_)])\n",
    "    print(label, count_apo/count_tot*100, count_holo/count_tot*100, count_tot/len(clone_apoholo.labels_)*100,count_apo/count_tot*100*count_tot/len(clone_apoholo.labels_),count_holo/count_tot*100*count_tot/len(clone_apoholo.labels_) )\n",
    "\n",
    "df = pd.DataFrame(pop_list, columns=['cluster', 'frames apo (%)', 'frames holo (%)', 'cluster relevance (%)', 'weighted_cluster_relevance_apo','weighted_cluster_relevance_holo', ])  \n",
    "\n",
    "df.to_csv(output_folder+'/'+tot_name+\"_1/population_analysis.txt\", sep=\" \", float_format=\"%2.2f\")\n",
    "\n",
    "from itertools import islice, cycle\n",
    "import statsmodels.api as sm\n",
    "import matplotlib.cm as cm\n",
    "fig, (ax1, ax2) = plt.subplots(1, 2, gridspec_kw={'width_ratios': [4, 1]}, figsize=(2.5,1), )\n",
    "plt.subplots_adjust(wspace=0.5)\n",
    "color_list = np.array(['#8CBEB2','#F2EBBF', \"#5C4B51\"])\n",
    "colors = np.array(list(islice(cycle(color_list),len(clone_apoholo.centers))))\n",
    "min_pc = -3\n",
    "max_pc = 4\n",
    "axcolor = '#222222'\n",
    "axcolor2 = '#AAAAAA'\n",
    "hfont = {'fontname':'Helvetica'}\n",
    "\n",
    "\n",
    "centers = np.array(clone_apoholo.centers)\n",
    "labels = np.array(clone_apoholo.labels_)\n",
    "labels_all = np.array(clone_apoholo.labels_all)\n",
    "core = clone_apoholo.core_card\n",
    "\n",
    "sns.despine(left=True)\n",
    "#PLOT 1 \n",
    "ax1.set_xlim([min_pc,max_pc])\n",
    "ax1.set_ylim([0,1.5])\n",
    "ax1.set_xticks([-3,-2,-1,0,1,2,3,4])\n",
    "ax1.set_yticks([0,0.5, 1, 1.50])\n",
    "ax1.set_xlabel(\"PC1\", fontsize=8, labelpad=3)\n",
    "ax1.set_ylabel(\"Prob. density\", fontsize=8)\n",
    "\n",
    "ax1.tick_params(axis = 'both', which = 'major', labelsize = 8, pad=1.5, length=2)\n",
    "ax1.tick_params(width=0.5)\n",
    "# change all spines\n",
    "for axis in ['top','bottom','left','right']:\n",
    "    ax1.spines[axis].set_linewidth(0.5)\n",
    "# axes colors\n",
    "ax1.xaxis.label.set_color(axcolor)\n",
    "ax1.yaxis.label.set_color(axcolor2)         \n",
    "ax1.tick_params(axis='x', colors=axcolor)    \n",
    "ax1.tick_params(axis='y', colors=axcolor2)  \n",
    "ax1.spines['left'].set_color(axcolor2)\n",
    "ax1.spines['bottom'].set_color(axcolor)  \n",
    "    \n",
    "ax1.hist(red_dim_coords_tot[0:index_apo_end,0], color='#FAA336', range=(min_pc, max_pc), bins=n_bins, histtype=\"step\", zorder=-1, density=True, linewidth=0.2,  alpha=0.5)\n",
    "ax1.hist(red_dim_coords_tot[0:index_apo_end,0], color='#FAA336', range=(min_pc, max_pc), bins=n_bins, histtype=\"stepfilled\", zorder=-1, alpha=0.4, density=True, linewidth=0.2)\n",
    "ax1.hist(red_dim_coords_tot[index_apo_end:index_tot_end,0], color='#998EC3', range=(min_pc, max_pc), bins=n_bins, histtype=\"step\", zorder=-1, density=True, linewidth=0.2)\n",
    "ax1.hist(red_dim_coords_tot[index_apo_end:index_tot_end,0], color='#998EC3', range=(min_pc, max_pc), bins=n_bins, histtype=\"stepfilled\", zorder=-1, alpha=0.6, density=True, linewidth=0.2)\n",
    "    \n",
    "# Mask for plotting\n",
    "assigned_mask = np.where(labels != -1)\n",
    "outliers_mask = np.where(labels == -1)\n",
    "\n",
    "# Sort some values for better visualization after\n",
    "data = red_dim_coords_tot[:,0].reshape(-1, 1)\n",
    "arcore = np.argsort(core)\n",
    "s_cores = core[arcore]\n",
    "s_x = data[arcore]\n",
    "\n",
    "ypos=[1.35]\n",
    "# Plot clusters\n",
    "ax1.axvline(x=0.2, color='#AAAAAA', linestyle='--', ymax=0.9, linewidth=0.2, zorder=-1)\n",
    "ax1.scatter(data[assigned_mask, 0], ypos * len(data[assigned_mask]), marker='|', s=3, color=colors[labels[assigned_mask]], zorder=1, clip_on=False)\n",
    "ax1.scatter(data[outliers_mask, 0], ypos * len(data[outliers_mask]), marker='D', s=0.05, color=color_list[2], zorder=1, clip_on=False)\n",
    "ax1.scatter(data[centers, 0], ypos * len(data[centers]), marker='D', s=2, color='black', zorder=1, clip_on=False)\n",
    "\n",
    "ax1.text(-1.45,1.45, \"C1\", fontsize=6)\n",
    "ax1.text(1.2,1.45, \"C2\", fontsize=6)\n",
    "\n",
    "#PLOT 2 \n",
    "ax2.set_ylim([0,50])\n",
    "ax2.set_yticks([0,12.5,25,37.5,50])\n",
    "ax2.set_yticklabels([0,25,50,75,100])\n",
    "ax2.set_xticks([0,1])\n",
    "ax2.tick_params(axis = 'both', which = 'major', labelsize = 8, pad=1, length=2)\n",
    "#ax2.set_xlabel(\"Clusters\", fontsize=20, labelpad=5)\n",
    "ax2.set_ylabel(\"Population %\", fontsize=8, labelpad=-2, **hfont)\n",
    "    \n",
    "# set colors \n",
    "ax2.tick_params(width=0.5)\n",
    "ax2.xaxis.label.set_color(axcolor)       \n",
    "ax2.yaxis.label.set_color(axcolor2)          \n",
    "ax2.tick_params(axis='x', colors=axcolor) \n",
    "ax2.tick_params(axis='y', colors=axcolor2)\n",
    "ax2.spines['left'].set_color(axcolor2)        \n",
    "ax2.spines['bottom'].set_color(axcolor)  \n",
    "# change all spines\n",
    "for axis in ['top','bottom','left','right']:\n",
    "    ax2.spines[axis].set_linewidth(0.5)\n",
    "\n",
    "\n",
    "new_df = df[['weighted_cluster_relevance_holo','weighted_cluster_relevance_apo', ]]\n",
    "new_df.transpose().plot(kind='bar', legend=False, width=0.8, ax=ax2, color=color_list, stacked=True)\n",
    "\n",
    "ax2.set_xticklabels([\"Holo\", \"Apo\"], rotation = 90, ha='center',**hfont, fontsize=8)\n",
    "ax2.get_xticklabels()[0].set_color(\"#998EC3\")\n",
    "ax2.get_xticklabels()[1].set_color(\"#FAA336\")\n",
    "\n",
    "\n",
    "#fig.tight_layout()\n",
    "fig.savefig(output_folder+'/IMAGES/total_figure.png', dpi=600, bbox_inches='tight')"
   ]
  },
  {
   "cell_type": "code",
   "execution_count": 10,
   "id": "fc94c5aa-a261-4e96-aefb-192344211b09",
   "metadata": {},
   "outputs": [
    {
     "name": "stdout",
     "output_type": "stream",
     "text": [
      "(5881,)\n",
      "(5881,)\n"
     ]
    },
    {
     "data": {
      "image/png": "[encoded data removed]",
      "text/plain": [
       "<Figure size 547.2x216 with 2 Axes>"
      ]
     },
     "metadata": {
      "needs_background": "light"
     },
     "output_type": "display_data"
    }
   ],
   "source": [
    "fig, (ax1, ax2) = plt.subplots(1, 2, gridspec_kw={'width_ratios': [1, 1]}, figsize=(7.6,3), )\n",
    "\n",
    "sns.despine()\n",
    "vol = np.loadtxt('pocket/mdpout_descriptors.txt', skiprows=1, unpack=True)\n",
    "lab = clone_apoholo.labels_[::10]\n",
    "print(np.shape(vol[0]))\n",
    "print(np.shape(lab))\n",
    "#plt.scatter(lab, vol[1], s=0.01)\n",
    "colorlist= ['#8CBEB2','#F2EBBF','#6C9AC4', \"#5C4B51\"]\n",
    "lab = [colorlist[0] if x==0 else x for x in lab]\n",
    "lab = [colorlist[1] if x==1 else x for x in lab]\n",
    "lab = [colorlist[2] if x==2 else x for x in lab]\n",
    "lab = [colorlist[-1] if x==-1 else x for x in lab]\n",
    "#lab\n",
    "ax1.set_xlabel('PC1', fontsize=12)\n",
    "ax2.set_xlabel('PC1', fontsize=12)\n",
    "ax1.set_ylabel('Volume (\\u212b$^3$)', fontsize=12)\n",
    "\n",
    "ax1.scatter(red_dim_coords_tot[::10,0], vol[1], s=0.5, c=['#FAA336']*2940+['#998EC3']*2941)\n",
    "ax2.scatter(red_dim_coords_tot[::10,0], vol[1], s=0.5, c=lab)\n",
    "\n",
    "fig.savefig(output_folder+'/IMAGES/volume.png', dpi=600, bbox_inches='tight')\n"
   ]
  },
  {
   "cell_type": "code",
   "execution_count": 19,
   "id": "6e344b51-9f76-47cf-b6e7-e37ae45640af",
   "metadata": {},
   "outputs": [
    {
     "data": {
      "image/png": "[encoded data removed]",
      "text/plain": [
       "<Figure size 180x72 with 2 Axes>"
      ]
     },
     "metadata": {},
     "output_type": "display_data"
    }
   ],
   "source": [
    "\n",
    "fig, (ax1, ax2) = plt.subplots(1, 2, gridspec_kw={'width_ratios': [3, 1]}, figsize=(2.5,1),sharey=True)\n",
    "plt.subplots_adjust(wspace=0.1)\n",
    "color_list = np.array(['#8CBEB2','#F2EBBF','#6C9AC4', \"#5C4B51\"])\n",
    "colors = np.array(list(islice(cycle(color_list),len(clone_apoholo.centers))))\n",
    "min_pc = -3\n",
    "max_pc = 4\n",
    "axcolor = '#222222'\n",
    "axcolor2 = '#AAAAAA'\n",
    "hfont = {'fontname':'Helvetica'}\n",
    "\n",
    "\n",
    "sns.despine(left=False)\n",
    "#PLOT 1 \n",
    "ax1.set_xlim([-4,5])\n",
    "ax1.set_ylim([0,2500])\n",
    "ax1.set_xticks([-3,-2,-1,0,1,2,3,4])\n",
    "ax1.set_yticks([0,500,1000,1500,2000,2500])\n",
    "ax1.set_yticklabels([0,5,10,15,20,25])\n",
    "\n",
    "ax1.set_xlabel(\"PC1\", fontsize=8, labelpad=3)\n",
    "ax1.set_ylabel('Volume (nm$^3$)', fontsize=8)\n",
    "\n",
    "ax1.tick_params(axis = 'both', which = 'major', labelsize = 8, pad=1.5, length=2)\n",
    "ax1.tick_params(width=0.5)\n",
    "# change all spines\n",
    "for axis in ['top','bottom','left','right']:\n",
    "    ax1.spines[axis].set_linewidth(0.5)\n",
    "# axes colors\n",
    "ax1.xaxis.label.set_color(axcolor)\n",
    "ax1.yaxis.label.set_color(axcolor)         \n",
    "ax1.tick_params(axis='x', colors=axcolor)    \n",
    "ax1.tick_params(axis='y', colors=axcolor)  \n",
    "ax1.spines['left'].set_color(axcolor)\n",
    "ax1.spines['bottom'].set_color(axcolor)  \n",
    "    \n",
    "colorlist= ['#8CBEB2','#F2EBBF','#6C9AC4', \"#5C4B51\"]\n",
    "\n",
    "ax1.scatter(red_dim_coords_tot[::10,0], vol[1], c=['#FAA336']*2941+['#998EC3']*2940, marker='o', s=0.2, linestyle='None',edgecolors=None, linewidths=0 )\n",
    "    \n",
    "    \n",
    "#PLOT 2 \n",
    "#ax2.set_ylim([0,50])\n",
    "#ax2.set_yticks([])\n",
    "#ax2.set_yticklabels([0,25,50,75,100])\n",
    "#ax2.set_xticks([0,1])\n",
    "ax2.tick_params(axis = 'both', which = 'major', labelsize = 8, pad=1, length=2)\n",
    "#ax2.set_xlabel(\"Clusters\", fontsize=20, labelpad=5)\n",
    "#ax2.set_ylabel(\"Population %\", fontsize=8, labelpad=-2, **hfont)\n",
    "    \n",
    "# set colors \n",
    "ax2.tick_params(width=0.5)\n",
    "ax2.xaxis.label.set_color(axcolor)       \n",
    "ax2.yaxis.label.set_color(axcolor)          \n",
    "ax2.tick_params(axis='x', colors=axcolor) \n",
    "ax2.tick_params(axis='y', colors=axcolor)\n",
    "ax2.spines['left'].set_color(axcolor)        \n",
    "ax2.spines['bottom'].set_color(axcolor)  \n",
    "# change all spines\n",
    "for axis in ['top','bottom','left','right']:\n",
    "    ax2.spines[axis].set_linewidth(0.5)\n",
    "\n",
    "\n",
    "ax2.set_xticklabels([\"Holo\", \"Apo\"], rotation = 90, ha='center',**hfont, fontsize=8)\n",
    "ax2.get_xticklabels()[0].set_color(\"#998EC3\")\n",
    "ax2.get_xticklabels()[1].set_color(\"#FAA336\")\n",
    "\n",
    "\n",
    "vol = np.loadtxt('pocket/mdpout_descriptors.txt', skiprows=1, unpack=True)\n",
    "color = dict(boxes='black', whiskers='black', medians='red', caps='black')\n",
    "data=[vol[1,2940:],vol[1,0:2940]]\n",
    "\n",
    "boxprops = dict(linestyle='-', linewidth=0.3, color='black')\n",
    "flierprops = dict(marker='o', markerfacecolor='black', linewidth=0.2, markersize=0.5, fillstyle='full', markeredgewidth=0.0)\n",
    "medianprops = dict(linestyle='-', linewidth=0.3, color='black')\n",
    "#meanpointprops = dict(marker='D', markeredgecolor='black', markerfacecolor='firebrick')\n",
    "#meanlineprops = dict(linestyle='--', linewidth=2.5, color='purple')\n",
    "whiskerprops = dict(linestyle='-',linewidth=0.3, color='black')\n",
    "capprops = dict(linewidth=0.3, color='black')\n",
    "\n",
    "\n",
    "bp = ax2.boxplot(data, widths=0.3,patch_artist=True,\n",
    "            flierprops=flierprops, \n",
    "            whiskerprops = whiskerprops,\n",
    "            boxprops=boxprops,\n",
    "            medianprops=medianprops,\n",
    "            capprops=capprops)\n",
    "\n",
    "colors=['#998EC3','#FAA336']\n",
    "for patch, color in zip(bp['boxes'], colors):\n",
    "    patch.set_facecolor(color)\n",
    "\n",
    "fig.savefig(output_folder+'/IMAGES/volume_figure.png', dpi=600, bbox_inches='tight')"
   ]
  },
  {
   "cell_type": "code",
   "execution_count": null,
   "id": "b2c93003-154e-46a6-9b91-9a59649d1de2",
   "metadata": {},
   "outputs": [],
   "source": []
  }
 ],
 "metadata": {
  "kernelspec": {
   "display_name": "Python 3",
   "language": "python",
   "name": "python3"
  },
  "language_info": {
   "codemirror_mode": {
    "name": "ipython",
    "version": 3
   },
   "file_extension": ".py",
   "mimetype": "text/x-python",
   "name": "python",
   "nbconvert_exporter": "python",
   "pygments_lexer": "ipython3",
   "version": "3.8.10"
  }
 },
 "nbformat": 4,
 "nbformat_minor": 5
}
