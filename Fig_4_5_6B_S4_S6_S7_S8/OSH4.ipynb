{
 "cells": [
  {
   "cell_type": "code",
   "execution_count": 1,
   "id": "b43789e5-f30e-4948-9218-461cab481053",
   "metadata": {},
   "outputs": [
    {
     "name": "stdout",
     "output_type": "stream",
     "text": [
      "Automatically created module for IPython interactive environment\n"
     ]
    }
   ],
   "source": [
    "import os\n",
    "import matplotlib.pyplot as plt\n",
    "import matplotlib.ticker as ticker\n",
    "from matplotlib.lines import Line2D\n",
    "from matplotlib import rc\n",
    "import seaborn as sns\n",
    "plt.rcParams['ps.useafm'] = True\n",
    "rc('font',**{'family':'sans-serif','sans-serif':['Helvetica']})\n",
    "\n",
    "import pandas as pd\n",
    "import time\n",
    "import shutil\n",
    "import argparse\n",
    "import numpy as np\n",
    "from sklearn.decomposition import PCA, KernelPCA\n",
    "from sklearn.preprocessing import StandardScaler\n",
    "import sys\n",
    "sys.path.append('/DATA/lucaa/software/CLoNe')\n",
    "\n",
    "from clone import CLoNe\n",
    "from plot import plot_clusters\n",
    "from structural_utils import load_md_args, show_cluster_info\n",
    "\n",
    "import mdtraj\n",
    "import pyemma\n",
    "\n",
    "print(__doc__)\n",
    "start = time.time()\n",
    "\n",
    "\n",
    "def calculate_pca(topo, traj, main_folder, syst, at_sel, n_pca ):\n",
    "    # Load trajectory\n",
    "    topology = mdtraj.load(topo).topology\n",
    "    struct_ens = mdtraj.load(traj, top=topo)\n",
    "\n",
    "    # Create result folder based on dataset nam\\e\n",
    "    if not os.path.exists(main_folder):\n",
    "        os.makedirs(main_folder)\n",
    "    out_idx =  1\n",
    "    output_folder = main_folder+\"/%s_%i/\"\n",
    "    while os.path.exists(output_folder%(syst, out_idx)):\n",
    "        out_idx += 1\n",
    "    output_folder = output_folder%(syst, out_idx)\n",
    "    os.makedirs(output_folder)\n",
    "    \n",
    "\n",
    "    selection = struct_ens.topology.select(at_sel)\n",
    "    coords = struct_ens.xyz[:, selection]\n",
    "    coords = coords.reshape(coords.shape[0], coords.shape[1] * coords.shape[2])\n",
    "    headers = [\"C%i\"%x for x in range(len(coords[0]))]  # general headers\n",
    "\n",
    "    # Principal component analysis\n",
    "    original_coords = coords.copy()\n",
    "    pca_obj = PCA(n_components=n_pca)\n",
    "    reddim_coords = pca_obj.fit_transform(coords)\n",
    "    eigenvalues = pca_obj.explained_variance_ratio_\n",
    "    ratio = np.sum(eigenvalues[:n_pca])\n",
    "    pca_headers = [\"PC%i (%.2f)\"%(x + 1, eigenvalues[x]) for x in range(n_pca)]\n",
    "    \n",
    "    print(\"> PCA: %i => %i dimension(s) with eigenval.: %s\"%(len(headers), n_pca, str(eigenvalues)))\n",
    "    print(\"sum of Variance: %s\"%(np.sum(eigenvalues)))\n",
    "    with open(\"%sPCA_coords.txt\"%output_folder, \"w\") as f:\n",
    "        for x in range(n_pca):\n",
    "            f.write(\"PC%i(%.2f) \"%(x + 1, eigenvalues[x]))\n",
    "        f.write(\"\\n\")\n",
    "        for el in reddim_coords:\n",
    "            for n in el:\n",
    "                f.write(\"%f \"%n)\n",
    "            f.write(\"\\n\")  \n",
    "    return pca_obj, reddim_coords, original_coords\n",
    "\n",
    "\n",
    "def calc_magn_vector(pc):\n",
    "    final_length = int(len(pc)/3)\n",
    "    pc_magn = np.empty(final_length)\n",
    "    \n",
    "    for i in range(final_length):\n",
    "        pc_magn[i] = np.sqrt(pc[i*3]**2+pc[i*3+1]**2+pc[i*3+2]**2)\n",
    "    \n",
    "    return pc_magn\n",
    "\n",
    "\n",
    "def save_pc_bfact(init_padding, length_pc, final_padding, structure, pc_component, outpdb):\n",
    "\n",
    "    pc_elongated = np.concatenate((np.zeros(init_padding),calc_magn_vector(pc_component),np.zeros(final_padding)))\n",
    "    system_length_res = len([residue for residue in structure.topology.residues])\n",
    "    system_length_atoms = len([ atom for atom in structure.topology.atoms])\n",
    "\n",
    "    syst_bfact=np.zeros(system_length_atoms)\n",
    "    index=0\n",
    "    for resid in range(system_length_res):\n",
    "        res_len = len(structure.topology.select('resid '+str(resid)))\n",
    "        res_bfact= res_len\n",
    "        syst_bfact[index:index+res_len] = pc_elongated[resid]\n",
    "        index += res_len\n",
    "\n",
    "    structure[0].save_pdb(outpdb, bfactors=syst_bfact*100)\n",
    "    \n",
    "# Check convercence PC\n",
    "def calculate_pca_convergence(topo, traj, main_folder, syst, at_sel, n_pca, nframes, nsim ):\n",
    "    # Load trajectory\n",
    "    topology = mdtraj.load(topo).topology\n",
    "    struct_ens = mdtraj.load(traj, top=topo)\n",
    "\n",
    "    # Create result folder based on dataset nam\\e\n",
    "    if not os.path.exists(main_folder):\n",
    "        os.makedirs(main_folder)\n",
    "    out_idx =  1\n",
    "    output_folder = main_folder+\"/%s_%i/\"\n",
    "    while os.path.exists(output_folder%(syst, out_idx)):\n",
    "        out_idx += 1\n",
    "    output_folder = output_folder%(syst, out_idx)\n",
    "    os.makedirs(output_folder)\n",
    "    \n",
    "    selection = struct_ens.topology.select(at_sel)\n",
    "    coords = struct_ens.xyz[:, selection]\n",
    "    coords = coords.reshape(coords.shape[0], coords.shape[1] * coords.shape[2])\n",
    "    headers = [\"C%i\"%x for x in range(len(coords[0]))]  # general headers\n",
    "    \n",
    "    frameslist = np.multiply(np.arange(1,nsim+1),nframes)\n",
    "    original_coords = coords.copy()\n",
    "    pcas_list = []\n",
    "    reddim_coords_list = []\n",
    "    print(np.shape(coords))\n",
    "    # Principal component analysis\n",
    "    for section in frameslist:\n",
    "        pca_obj = PCA(n_components=n_pca)\n",
    "        \n",
    "        reddim_coords = pca_obj.fit_transform(coords[0:section])\n",
    "        pcas_list.append(pca_obj)\n",
    "        #eigenvalues = pca_obj.explained_variance_ratio_\n",
    "        #ratio = np.sum(eigenvalues[:n_pca])\n",
    "        #pca_headers = [\"PC%i (%.2f)\"%(x + 1, eigenvalues[x]) for x in range(n_pca)]\n",
    "    \n",
    "        #print(\"> PCA: %i => %i dimension(s) with eigenval.: %s\"%(len(headers), n_pca, str(eigenvalues)))\n",
    "        #print(\"sum of Variance: %s\"%(np.sum(eigenvalues)))\n",
    "  \n",
    "    return pcas_list"
   ]
  },
  {
   "cell_type": "code",
   "execution_count": 2,
   "id": "electric-shirt",
   "metadata": {},
   "outputs": [],
   "source": [
    "# PARAMETERS SETUP\n",
    "\n",
    "# Clustering parameters \n",
    "pdc=8  # neighbour search during clusterint\n",
    "n_resize=4 \n",
    "filt=0.1 \n",
    "verbose=False\n",
    "n_pca=10 # number of PC to include in calculations \n",
    "n_bins= 220  # number of bins for PC hist\n",
    "# Simulations and topology \n",
    "trj_apoerg='apofromerg/trjcat_md_osh4_fromerg_apo_replica1to6_center_pbcmol_fit_rot_trans_CA_after10ns_every10thframe.xtc'   # apo traj\n",
    "trj_apopi4p='apofrompi4p/trjcat_md_osh4_frompi4p_apo_replica1to6_center_pbcmol_fit_rot_trans_CA_after10ns_every10thframe.xtc'# holo traj\n",
    "trj_tot='apo_combined.xtc'   # concatenated total traj\n",
    "\n",
    "topo_apoerg='apofromerg/apo.gro'  # pdb or gro of apo\n",
    "topo_apopi4p='apofrompi4p/apo.gro'  # pdb or gro of apo\n",
    "\n",
    "# Selection for PCA calculation (see mdtraj syntax)\n",
    "at_sel=\"name CA\"  # try to exclude end loops or regions that move but are not interesting (hides the true PC)\n",
    "n_res=434   # number of residues (still manual insertion, i know...)\n",
    "feat=\"None\"\n",
    "resmin=1\n",
    "resmax=434\n",
    "output_folder = \"results\"\n",
    "\n",
    "apoerg_name=\"apoerg\"\n",
    "apopi4p_name=\"apopi4p\"\n",
    "tot_name=\"tot\""
   ]
  },
  {
   "cell_type": "code",
   "execution_count": null,
   "id": "detailed-jaguar",
   "metadata": {},
   "outputs": [],
   "source": []
  },
  {
   "cell_type": "code",
   "execution_count": 3,
   "id": "sound-florida",
   "metadata": {},
   "outputs": [
    {
     "name": "stdout",
     "output_type": "stream",
     "text": [
      "> PCA: 1302 => 10 dimension(s) with eigenval.: [0.2144447  0.13825288 0.08313446 0.06724425 0.0619177  0.04653654\n",
      " 0.04236741 0.0320905  0.02094879 0.01946767]\n",
      "sum of Variance: 0.7264049\n",
      "> PCA: 1302 => 10 dimension(s) with eigenval.: [0.38118064 0.1301691  0.07019241 0.05248499 0.0466113  0.03630571\n",
      " 0.02830876 0.02195584 0.01897934 0.01837242]\n",
      "sum of Variance: 0.80456054\n",
      "> PCA: 1302 => 10 dimension(s) with eigenval.: [0.27008805 0.11130071 0.07493005 0.06271265 0.04730292 0.04141399\n",
      " 0.03471547 0.03187364 0.02689891 0.02137279]\n",
      "sum of Variance: 0.7226092\n"
     ]
    }
   ],
   "source": [
    "# make results folder \n",
    "try:\n",
    "    os.mkdir(output_folder)\n",
    "except FileExistsError:\n",
    "    pass\n",
    "# make images folder \n",
    "try:\n",
    "    os.mkdir(output_folder+'/IMAGES/')\n",
    "except FileExistsError:\n",
    "    pass\n",
    "# Calculate PCA\n",
    "pca_apoerg, red_dim_coords_apoerg, orig_coords_apoerg = calculate_pca(topo_apoerg, trj_apoerg, output_folder, apoerg_name, at_sel, n_pca)\n",
    "pca_apopi4p, red_dim_coords_apopi4p, orig_coords_apopi4p = calculate_pca(topo_apopi4p, trj_apopi4p, output_folder, apopi4p_name, at_sel, n_pca)\n",
    "pca_tot, red_dim_coords_tot, orig_coords_tot = calculate_pca(topo_apoerg, trj_tot, output_folder, tot_name, at_sel, n_pca)\n"
   ]
  },
  {
   "cell_type": "code",
   "execution_count": 4,
   "id": "cf85134c-a3de-4833-973a-c9629775bedf",
   "metadata": {},
   "outputs": [],
   "source": [
    "index_apo_end=np.shape(red_dim_coords_apoerg)[0]\n",
    "index_tot_end=np.shape(red_dim_coords_tot)[0]"
   ]
  },
  {
   "cell_type": "markdown",
   "id": "appreciated-railway",
   "metadata": {},
   "source": [
    "# Figures PC and histograms checking that all pc apo, holo and tot are the similar "
   ]
  },
  {
   "cell_type": "code",
   "execution_count": 20,
   "id": "36d0daf8-80b5-4ba3-8247-fb8018f28340",
   "metadata": {},
   "outputs": [
    {
     "data": {
      "image/png": "[encoded data removed]",
      "text/plain": [
       "<Figure size 720x216 with 3 Axes>"
      ]
     },
     "metadata": {
      "needs_background": "light"
     },
     "output_type": "display_data"
    }
   ],
   "source": [
    "fig, ax = plt.subplots(1,3, figsize=(10,3), sharey=True, sharex=True)\n",
    "tick_spacing = 20\n",
    "ax[0].xaxis.set_major_locator(ticker.MultipleLocator(tick_spacing))\n",
    "ax[0].tick_params(axis='x', rotation=90)\n",
    "ax[1].tick_params(axis='x', rotation=90)\n",
    "ax[2].tick_params(axis='x', rotation=90)\n",
    "\n",
    "ax[0].set_xlim(resmin,resmax)\n",
    "ax[0].plot(np.arange(resmin, resmax+1),calc_magn_vector(pca_apoerg.components_[0]), linewidth=0.8, color='green')\n",
    "ax[1].plot(np.arange(resmin, resmax+1),calc_magn_vector(pca_apopi4p.components_[0]), linewidth=0.8, color='dodgerblue')\n",
    "ax[2].plot(np.arange(resmin, resmax+1),calc_magn_vector(pca_tot.components_[0]), linewidth=0.8, color='red')\n",
    "\n",
    "sns.despine()\n",
    "\n",
    "ax[0].legend(['ApoErg'], frameon=False)\n",
    "ax[1].legend(['ApoPI4P'], frameon=False)\n",
    "ax[2].legend(['Apo+Holo'], frameon=False)\n",
    "\n",
    "ax[0].set_xlabel(\"Residue number\", fontsize=12, labelpad=5)\n",
    "ax[1].set_xlabel(\"Residue number\", fontsize=12, labelpad=5)\n",
    "ax[2].set_xlabel(\"Residue number\", fontsize=12, labelpad=5)\n",
    "ax[0].set_ylabel(\"PC component (a.u.)\", fontsize=12, labelpad=5)\n",
    "fig.tight_layout()\n",
    "\n",
    "fig.savefig(output_folder+'/IMAGES/comparison_pc_apo_holo_tot.pdf')\n",
    "\n",
    "plt.show()"
   ]
  },
  {
   "cell_type": "code",
   "execution_count": null,
   "id": "ac321ba2-3986-42bc-b6a1-4865f36d67a1",
   "metadata": {},
   "outputs": [],
   "source": []
  },
  {
   "cell_type": "code",
   "execution_count": 23,
   "id": "quality-spare",
   "metadata": {},
   "outputs": [
    {
     "name": "stderr",
     "output_type": "stream",
     "text": [
      "/DATA/lucaa/software/anaconda3/envs/cloneenv/lib/python3.7/site-packages/ipykernel_launcher.py:21: UserWarning: You have mixed positional and keyword arguments, some input may be discarded.\n"
     ]
    },
    {
     "data": {
      "image/png": "[encoded data removed]",
      "text/plain": [
       "<Figure size 360x360 with 1 Axes>"
      ]
     },
     "metadata": {
      "needs_background": "light"
     },
     "output_type": "display_data"
    }
   ],
   "source": [
    "fig, ax = plt.subplots(1,1, figsize=(5,5), sharey=True, sharex=True)\n",
    "\n",
    "min_pc = -10\n",
    "max_pc = 10\n",
    "\n",
    "sns.despine()\n",
    "ax.set_xlim([min_pc,max_pc])\n",
    "ax.set_xticks([-3,-2,-1,0,1,2,3,4])\n",
    "ax.tick_params(axis = 'both', which = 'major', labelsize = 16)\n",
    "ax.set_xlabel(\"PC1\", fontsize=20)\n",
    "ax.set_ylabel(\"# Count\", fontsize=20)\n",
    "\n",
    "ax.hist(red_dim_coords_tot[0:index_apo_end,0], color='green', range=(min_pc, max_pc), bins=n_bins, histtype=\"step\")\n",
    "ax.hist(red_dim_coords_tot[index_apo_end:,0], color='blue', range=(min_pc, max_pc), bins=n_bins, histtype=\"step\")\n",
    "#ax.hist(red_dim_coords_tot[0:index_apo_end,0], color='green', range=(min_pc, max_pc), bins=n_bins, alpha=0.3)\n",
    "\n",
    "#ax.hist(red_dim_coords_tot[index_apo_end:index_tot_end,0], color='dodgerblue', range=(min_pc, max_pc), bins=n_bins, histtype=\"step\")\n",
    "#ax.hist(red_dim_coords_tot[index_apo_end:index_tot_end,0], color='dodgerblue', range=(min_pc, max_pc), bins=n_bins, alpha=0.3)\n",
    "\n",
    "legend_elements = [Line2D([0], [0], color='green', lw=2, label='ApoErg'),Line2D([0], [0], color='dodgerblue', lw=2, label='ApoPI4p')]\n",
    "ax.legend(['ApoErg','ApoPI4p'], frameon=False, fontsize=16, handles = legend_elements)\n",
    "ax.set_title(\"Apo vs. Holo population\", fontsize=16)\n",
    "\n",
    "fig.tight_layout()\n",
    "fig.savefig(output_folder+'/IMAGES/histograms_pc.pdf')\n",
    "plt.show()"
   ]
  },
  {
   "cell_type": "code",
   "execution_count": 7,
   "id": "d6635740-36d9-480d-a82a-95cbb1ad2535",
   "metadata": {},
   "outputs": [
    {
     "data": {
      "image/png": "[encoded data removed]",
      "text/plain": [
       "<Figure size 432x216 with 2 Axes>"
      ]
     },
     "metadata": {},
     "output_type": "display_data"
    }
   ],
   "source": [
    "new_data = (red_dim_coords_apo[0:29400,0].reshape(6,4900))\n",
    "#new_data_holo = (red_dim_coords_tot[29400:58800,0].reshape(6,4900))\n",
    "\n",
    "fig, ax1 = plt.subplots(1, 2, figsize=(6,3), sharex=True, sharey=True )\n",
    "color_list = np.array(['#E1E6FA','#C4D7ED','#ABC8E2','#375D81','#183152','#0e1d31'])\n",
    "color_list2 = np.array(['#e8f7e2','#d0eec5','#b9e6a8','#8ad56d','#5ec137','#418626'])\n",
    "color_list3=np.array(['#ffc0c3','#ffa1a5','#ff8186','#ff6268','#ff424a','#ff222c',\n",
    "                      '#ff030e','#e3000a','#c30008','#a30007','#840006','#650004'])\n",
    "color_list4=np.array(['#def3d5','#cdedc1','#bce7ac','#ace197','#9bdb82','#8ad56d',\n",
    "                      '#7acf58','#69c944','#5bbc36','#51a730','#47932a','#3d7e24'])\n",
    "color_list5=np.array(['#c2dbff','#a3c9ff','#85b7ff','#67a5ff','#4893ff','#2a81ff',\n",
    "                      '#0b6fff','#0060ec','#0054cd','#0047af','#003b90','#002e72'])\n",
    "\n",
    "min_pc = -5\n",
    "max_pc = 5\n",
    "axcolor = '#222222'\n",
    "axcolor2 = '#AAAAAA'\n",
    "hfont = {'fontname':'Helvetica'}\n",
    "\n",
    "sns.despine(left=True)\n",
    "\n",
    "#PLOT 1 \n",
    "ax1[0].set_xlim([min_pc,max_pc])\n",
    "#ax1[0].set_ylim([0,1.5])\n",
    "ax1[0].set_xticks([-4,-2,0,2,4])\n",
    "#ax1[0].set_yticks([0,0.5, 1,1.5])\n",
    "ax1[0].set_xlabel(\"PC1\", fontsize=12, labelpad=3)\n",
    "ax1[0].set_ylabel(\"Prob. density\", fontsize=12)\n",
    "ax1[0].tick_params(axis = 'both', which = 'major', labelsize =12, pad=1.5, length=2)\n",
    "ax1[0].tick_params(width=0.5)\n",
    "# change all spines\n",
    "for axis in ['top','bottom','left','right']:\n",
    "    ax1[0].spines[axis].set_linewidth(0.5)\n",
    "# axes colors\n",
    "ax1[0].xaxis.label.set_color(axcolor)\n",
    "ax1[0].yaxis.label.set_color(axcolor2)         \n",
    "ax1[0].tick_params(axis='x', colors=axcolor)    \n",
    "ax1[0].tick_params(axis='y', colors=axcolor2)  \n",
    "ax1[0].spines['left'].set_color(axcolor2)\n",
    "ax1[0].spines['bottom'].set_color(axcolor)  \n",
    "\n",
    "ax1[0].hist(new_data[0:6].T, range=(min_pc, max_pc), bins=n_bins, histtype=\"bar\", stacked=True, zorder=-1, density=True, linewidth=0.2, color=color_list)\n",
    "#ax1[1].hist(new_data_holo[0:6].T, range=(min_pc, max_pc), bins=n_bins, histtype=\"bar\", stacked=True, zorder=-1, density=True, linewidth=0.2, color=color_list2)\n",
    "\n",
    "#ax1.hist(red_dim_coords_apo[:,0], color='#FAA336', range=(min_pc, max_pc), bins=n_bins, histtype=\"stepfilled\", zorder=-1, alpha=0.3, density=True, linewidth=0.2)\n",
    "custom_lines = [Line2D([0], [0], color='#002e72', lw=4)]\n",
    "ax1[0].legend(custom_lines, ['Apo', 'Holo'], frameon=False, fontsize=12)\n",
    "\n",
    "#plt.show()\n",
    "fig.savefig(output_folder+'/IMAGES/hist_convergence.png', dpi=600, bbox_inches='tight')"
   ]
  },
  {
   "cell_type": "code",
   "execution_count": 6,
   "id": "54d4e83f-0cb9-4b7a-b69f-8734e63379ac",
   "metadata": {},
   "outputs": [
    {
     "name": "stdout",
     "output_type": "stream",
     "text": [
      "(29401, 477)\n",
      "[-0.2830825, 0.91736984, -0.9089627, -0.917364, -0.9957702, 1.0]\n"
     ]
    }
   ],
   "source": [
    "nframes=4900\n",
    "nsim=6\n",
    "pc_list_conv = calculate_pca_convergence(topo_apo, trj_apo, output_folder, apo_name, at_sel, n_pca, nframes, nsim)\n",
    "product=[0]*6\n",
    "for i in range(6):\n",
    "    product[i] = np.dot(pc_list_conv[i].components_[0],pc_list_conv[5].components_[0])\n",
    "    \n",
    "print(product)"
   ]
  },
  {
   "cell_type": "code",
   "execution_count": 9,
   "id": "173a20fd-4cbb-4f76-9eda-ecdc5b81c0c7",
   "metadata": {},
   "outputs": [
    {
     "data": {
      "image/png": "[encoded data removed]",
      "text/plain": [
       "<Figure size 360x216 with 1 Axes>"
      ]
     },
     "metadata": {
      "needs_background": "light"
     },
     "output_type": "display_data"
    }
   ],
   "source": [
    "fig, ax1 = plt.subplots(1, 1, figsize=(5,3))\n",
    "tick_spacing = 20\n",
    "sns.despine()\n",
    "color_list = ['#ffa7ab','#ff898f','#ff6c72','#ff4f56','#ff313a','#ff313a','#ff141e','#f5000b','#d80009','#bb0008','#9d0007','#800006','#620004']\n",
    "ax1.xaxis.set_major_locator(ticker.MultipleLocator(tick_spacing))\n",
    "ax1.tick_params(axis='x', rotation=90)\n",
    "ax1.set_xlim(resmin,resmax)\n",
    "ax1.set_ylabel(\"PC1\", fontsize=16, labelpad=3)\n",
    "ax1.set_xlabel(\"Residue Number\", fontsize=16)\n",
    "\n",
    "ax1.plot(calc_magn_vector(pc_list_conv[0].components_[0]), color=color_list[0])\n",
    "ax1.plot(calc_magn_vector(pc_list_conv[1].components_[0]), color=color_list[1])\n",
    "ax1.plot(calc_magn_vector(pc_list_conv[2].components_[0]), color=color_list[2])\n",
    "ax1.plot(calc_magn_vector(pc_list_conv[3].components_[0]), color=color_list[3])\n",
    "ax1.plot(calc_magn_vector(pc_list_conv[4].components_[0]), color=color_list[4])\n",
    "ax1.plot(calc_magn_vector(pc_list_conv[5].components_[0]), color=color_list[5])\n",
    "\n",
    "ax1.legend(['0.5 \\u00b5s','1.0 \\u00b5s','1.5 \\u00b5s','2.0 \\u00b5s','2.5 \\u00b5s','3.0 \\u00b5s',\n",
    "            '3.5 \\u00b5s','4.0 \\u00b5s','4.5 \\u00b5s','5.0 \\u00b5s','5.5 \\u00b5s','6.0 \\u00b5s'], frameon=False, loc=(1.04,0) )\n",
    "\n",
    "\n",
    "\n",
    "fig.tight_layout()\n",
    "fig.savefig('pc_conv.png')"
   ]
  },
  {
   "cell_type": "markdown",
   "id": "peaceful-train",
   "metadata": {},
   "source": [
    "# Clustering\n"
   ]
  },
  {
   "cell_type": "code",
   "execution_count": 5,
   "id": "portable-catering",
   "metadata": {},
   "outputs": [
    {
     "ename": "NameError",
     "evalue": "name 'red_dim_coords_apo' is not defined",
     "output_type": "error",
     "traceback": [
      "\u001b[0;31m---------------------------------------------------------------------------\u001b[0m",
      "\u001b[0;31mNameError\u001b[0m                                 Traceback (most recent call last)",
      "\u001b[0;32m<ipython-input-5-4ca03d6ca2dc>\u001b[0m in \u001b[0;36m<module>\u001b[0;34m\u001b[0m\n\u001b[1;32m      3\u001b[0m \u001b[0;31m#clone_apoholo = CLoNe(pdc=pdb)\u001b[0m\u001b[0;34m\u001b[0m\u001b[0;34m\u001b[0m\u001b[0;34m\u001b[0m\u001b[0m\n\u001b[1;32m      4\u001b[0m \u001b[0;34m\u001b[0m\u001b[0m\n\u001b[0;32m----> 5\u001b[0;31m \u001b[0mclone_apo\u001b[0m\u001b[0;34m.\u001b[0m\u001b[0mfit\u001b[0m\u001b[0;34m(\u001b[0m\u001b[0mred_dim_coords_apo\u001b[0m\u001b[0;34m[\u001b[0m\u001b[0;36m0\u001b[0m\u001b[0;34m:\u001b[0m\u001b[0mindex_apo_end\u001b[0m\u001b[0;34m,\u001b[0m\u001b[0;36m0\u001b[0m\u001b[0;34m]\u001b[0m\u001b[0;34m.\u001b[0m\u001b[0mreshape\u001b[0m\u001b[0;34m(\u001b[0m\u001b[0;34m-\u001b[0m\u001b[0;36m1\u001b[0m\u001b[0;34m,\u001b[0m \u001b[0;36m1\u001b[0m\u001b[0;34m)\u001b[0m\u001b[0;34m)\u001b[0m\u001b[0;34m\u001b[0m\u001b[0;34m\u001b[0m\u001b[0m\n\u001b[0m\u001b[1;32m      6\u001b[0m \u001b[0;31m#clone_holo.fit(red_dim_coords_tot[index_apo_end:index_tot_end,0].reshape(-1, 1))\u001b[0m\u001b[0;34m\u001b[0m\u001b[0;34m\u001b[0m\u001b[0;34m\u001b[0m\u001b[0m\n\u001b[1;32m      7\u001b[0m \u001b[0;31m#clone_apoholo.fit(red_dim_coords_tot[:,0].reshape(-1, 1))\u001b[0m\u001b[0;34m\u001b[0m\u001b[0;34m\u001b[0m\u001b[0;34m\u001b[0m\u001b[0m\n",
      "\u001b[0;31mNameError\u001b[0m: name 'red_dim_coords_apo' is not defined"
     ]
    }
   ],
   "source": [
    "clone_apo = CLoNe(pdc=15)\n",
    "#clone_holo = CLoNe(pdc=pdc)\n",
    "#clone_apoholo = CLoNe(pdc=pdb)\n",
    "\n",
    "clone_apo.fit(red_dim_coords_apo[0:index_apo_end,0].reshape(-1, 1)) \n",
    "#clone_holo.fit(red_dim_coords_tot[index_apo_end:index_tot_end,0].reshape(-1, 1)) \n",
    "#clone_apoholo.fit(red_dim_coords_tot[:,0].reshape(-1, 1)) "
   ]
  },
  {
   "cell_type": "code",
   "execution_count": 42,
   "id": "61bee3a4-addd-45aa-8ed0-4707868978be",
   "metadata": {},
   "outputs": [
    {
     "data": {
      "text/plain": [
       "(4900, 6)"
      ]
     },
     "execution_count": 42,
     "metadata": {},
     "output_type": "execute_result"
    }
   ],
   "source": [
    "np.shape(red_dim_coords_apo[1:,0].reshape(4900,6))"
   ]
  },
  {
   "cell_type": "markdown",
   "id": "982fdaf2-b9ab-4db7-a063-cd3ba6a0f926",
   "metadata": {},
   "source": [
    "# Population analysis"
   ]
  },
  {
   "cell_type": "code",
   "execution_count": 7,
   "id": "361eb570-d6ea-43ff-b19d-7c74c01c73ce",
   "metadata": {},
   "outputs": [
    {
     "ename": "NameError",
     "evalue": "name 'clone_apoholo' is not defined",
     "output_type": "error",
     "traceback": [
      "\u001b[0;31m---------------------------------------------------------------------------\u001b[0m",
      "\u001b[0;31mNameError\u001b[0m                                 Traceback (most recent call last)",
      "\u001b[0;32m<ipython-input-7-30738e8ba946>\u001b[0m in \u001b[0;36m<module>\u001b[0;34m\u001b[0m\n\u001b[0;32m----> 1\u001b[0;31m \u001b[0mclusters\u001b[0m \u001b[0;34m=\u001b[0m \u001b[0mnp\u001b[0m\u001b[0;34m.\u001b[0m\u001b[0munique\u001b[0m\u001b[0;34m(\u001b[0m\u001b[0mclone_apoholo\u001b[0m\u001b[0;34m.\u001b[0m\u001b[0mlabels_\u001b[0m\u001b[0;34m)\u001b[0m\u001b[0;34m\u001b[0m\u001b[0;34m\u001b[0m\u001b[0m\n\u001b[0m\u001b[1;32m      2\u001b[0m \u001b[0mlabels_apo\u001b[0m \u001b[0;34m=\u001b[0m \u001b[0mclone_apoholo\u001b[0m\u001b[0;34m.\u001b[0m\u001b[0mlabels_\u001b[0m\u001b[0;34m[\u001b[0m\u001b[0;36m0\u001b[0m\u001b[0;34m:\u001b[0m\u001b[0mindex_apo_end\u001b[0m\u001b[0;34m]\u001b[0m\u001b[0;34m\u001b[0m\u001b[0;34m\u001b[0m\u001b[0m\n\u001b[1;32m      3\u001b[0m \u001b[0mlabels_holo\u001b[0m \u001b[0;34m=\u001b[0m \u001b[0mclone_apoholo\u001b[0m\u001b[0;34m.\u001b[0m\u001b[0mlabels_\u001b[0m\u001b[0;34m[\u001b[0m\u001b[0mindex_apo_end\u001b[0m\u001b[0;34m:\u001b[0m\u001b[0mindex_tot_end\u001b[0m\u001b[0;34m]\u001b[0m\u001b[0;34m\u001b[0m\u001b[0;34m\u001b[0m\u001b[0m\n\u001b[1;32m      4\u001b[0m \u001b[0mpop_list\u001b[0m \u001b[0;34m=\u001b[0m \u001b[0;34m[\u001b[0m\u001b[0;34m]\u001b[0m\u001b[0;34m\u001b[0m\u001b[0;34m\u001b[0m\u001b[0m\n\u001b[1;32m      5\u001b[0m \u001b[0;32mfor\u001b[0m \u001b[0mlabel\u001b[0m \u001b[0;32min\u001b[0m \u001b[0mclusters\u001b[0m\u001b[0;34m:\u001b[0m\u001b[0;34m\u001b[0m\u001b[0;34m\u001b[0m\u001b[0m\n",
      "\u001b[0;31mNameError\u001b[0m: name 'clone_apoholo' is not defined"
     ]
    }
   ],
   "source": [
    "clusters = np.unique(clone_apoholo.labels_)\n",
    "labels_apo = clone_apoholo.labels_[0:index_apo_end]\n",
    "labels_holo = clone_apoholo.labels_[index_apo_end:index_tot_end]\n",
    "pop_list = []\n",
    "for label in clusters:\n",
    "    \n",
    "    count_apo = np.count_nonzero(labels_apo == label)\n",
    "    count_holo = np.count_nonzero(labels_holo == label)\n",
    "    count_tot= np.count_nonzero(clone_apoholo.labels_[0:index_tot_end] == label)\n",
    "    pop_list.append([label, count_apo/count_tot*100, count_holo/count_tot*100, count_tot/len(clone_apoholo.labels_)*100])\n",
    "    #print(label, count_apo, count_holo, count_tot)\n",
    "\n",
    "df = pd.DataFrame(pop_list, columns=['cluster', 'frames apo (%)', 'frames holo (%)', 'cluster relevance (%)'])  \n",
    "\n",
    "df.to_csv(output_folder+'/'+tot_name+\"_1/population_analysis.txt\", sep=\" \", float_format=\"%2.2f\")"
   ]
  },
  {
   "cell_type": "markdown",
   "id": "acfa9ed5-adb0-4efa-af3f-f5c91670dd3e",
   "metadata": {},
   "source": [
    "# Cluster plots"
   ]
  },
  {
   "cell_type": "code",
   "execution_count": 6,
   "id": "played-interest",
   "metadata": {},
   "outputs": [
    {
     "data": {
      "image/png": "[encoded data removed]",
      "text/plain": [
       "<Figure size 288x144 with 2 Axes>"
      ]
     },
     "metadata": {
      "needs_background": "light"
     },
     "output_type": "display_data"
    },
    {
     "data": {
      "image/png": "[encoded data removed]",
      "text/plain": [
       "<Figure size 288x288 with 1 Axes>"
      ]
     },
     "metadata": {
      "needs_background": "light"
     },
     "output_type": "display_data"
    }
   ],
   "source": [
    "pca_headers = [\"PC%i\"%(x + 1) for x in range(n_pca)]\n",
    "plot_clusters(clone_apo, red_dim_coords_apo[0:index_apo_end,0].reshape(-1, 1), output_folder+'/apo_1',pca_headers[:2] ) \n",
    "#plot_clusters(clone_holo, red_dim_coords_tot[index_apo_end:index_tot_end,0].reshape(-1, 1), output_folder+'/holo_1',pca_headers[:2] )\n",
    "#plot_clusters(clone_apoholo, red_dim_coords_tot[:,0].reshape(-1, 1), output_folder+'/'+tot_name+'_1',pca_headers[:2] )"
   ]
  },
  {
   "cell_type": "markdown",
   "id": "described-fitting",
   "metadata": {},
   "source": [
    "# Save clusters"
   ]
  },
  {
   "cell_type": "code",
   "execution_count": 12,
   "id": "included-murder",
   "metadata": {},
   "outputs": [],
   "source": [
    "# Load trajectories\n",
    "struct_apo = mdtraj.load(trj_apo, top=topo_apo)\n",
    "#struct_holo = mdtraj.load(trj_holo, top=topo_apo)\n",
    "#struct_apoholo = mdtraj.load(trj_tot, top=topo_apo"
   ]
  },
  {
   "cell_type": "code",
   "execution_count": 12,
   "id": "supreme-million",
   "metadata": {},
   "outputs": [
    {
     "data": {
      "text/plain": [
       "[None, None, None]"
      ]
     },
     "execution_count": 12,
     "metadata": {},
     "output_type": "execute_result"
    }
   ],
   "source": [
    "unique_labels = range(len(clone_apo.centers)) \n",
    "folder = output_folder+'/'+apo_name+'_1'\n",
    "\n",
    "# Save center\n",
    "[struct_apo[center].save(folder+\"/Center_%d.pdb\"%(center_id + 1)) for center, center_id in zip(clone_apo.centers, unique_labels)]\n",
    "# Save trajs\n",
    "[struct_apo[clone_apo.labels_[0:index_apo_end] == lab].save(folder+\"/Cluster_apo_%d.xtc\"%(lab + 1)) for lab in unique_labels]\n",
    "#[struct_holo[clone_apoholo.labels_[index_apo_end:] == lab].save(folder+\"/Cluster_holo_%d.xtc\"%(lab + 1)) for lab in unique_labels]"
   ]
  },
  {
   "cell_type": "markdown",
   "id": "dcb21938-fc93-4fae-a610-81788afe6451",
   "metadata": {},
   "source": [
    "# Save extreme structures"
   ]
  },
  {
   "cell_type": "code",
   "execution_count": 13,
   "id": "37323ffc-f972-4bd9-99b4-d38b50399529",
   "metadata": {},
   "outputs": [],
   "source": [
    "minframe=[100,-1,-2]\n",
    "maxframe=[-100,-1,-2]\n",
    "for frame in zip(red_dim_coords_apo[:,0].reshape(-1, 1), clone_apo.labels_, range(len(clone_apo.labels_))):\n",
    "    if frame[1] != -1:\n",
    "        if frame[0] < minframe[0]:\n",
    "            minframe = frame\n",
    "        if frame[0] > maxframe[0]:\n",
    "            maxframe = frame\n",
    "\n",
    "folder = output_folder+'/'+apo_name+'_1'\n",
    "struct_apo[minframe[2]].save(folder+\"/extremeleft.pdb\")          \n",
    "struct_apo[maxframe[2]].save(folder+\"/extremeright.pdb\") "
   ]
  },
  {
   "cell_type": "code",
   "execution_count": 15,
   "id": "bf3bc966-07d9-4632-b77c-acbe0cce1997",
   "metadata": {},
   "outputs": [],
   "source": [
    "a = sorted(zip(red_dim_coords_apo[:,0].reshape(-1, 1), clone_apo.labels_, range(len(clone_apo.labels_))))\n",
    "a = [el for el in a if el[1] != -1]\n",
    "a[0]\n",
    "struct_apo[a[0][2]].save(folder+\"/extremeleft1.pdb\")\n",
    "struct_apo[a[1][2]].save(folder+\"/extremeleft2.pdb\")\n",
    "struct_apo[a[2][2]].save(folder+\"/extremeleft3.pdb\")\n",
    "struct_apo[a[3][2]].save(folder+\"/extremeleft4.pdb\")\n",
    "struct_apo[a[4][2]].save(folder+\"/extremeleft5.pdb\")\n",
    "struct_apo[a[5][2]].save(folder+\"/extremeleft6.pdb\")\n",
    "struct_apo[a[6][2]].save(folder+\"/extremeleft7.pdb\")\n",
    "struct_apo[a[7][2]].save(folder+\"/extremeleft8.pdb\")\n",
    "struct_apo[a[8][2]].save(folder+\"/extremeleft9.pdb\")\n",
    "struct_apo[a[9][2]].save(folder+\"/extremeleft10.pdb\")\n",
    "struct_apo[a[10][2]].save(folder+\"/extremeleft11.pdb\")\n",
    "struct_apo[a[11][2]].save(folder+\"/extremeleft12.pdb\")\n",
    "struct_apo[a[12][2]].save(folder+\"/extremeleft13.pdb\")\n",
    "struct_apo[a[13][2]].save(folder+\"/extremeleft14.pdb\")\n",
    "struct_apo[a[14][2]].save(folder+\"/extremeleft15.pdb\")\n",
    "struct_apo[a[15][2]].save(folder+\"/extremeleft16.pdb\")\n",
    "struct_apo[a[16][2]].save(folder+\"/extremeleft17.pdb\")\n",
    "struct_apo[a[17][2]].save(folder+\"/extremeleft18.pdb\")\n",
    "struct_apo[a[18][2]].save(folder+\"/extremeleft19.pdb\")\n",
    "struct_apo[a[19][2]].save(folder+\"/extremeleft20.pdb\")\n",
    "\n",
    "struct_apo[a[-1][2]].save(folder+\"/extremeright1.pdb\")\n",
    "struct_apo[a[-2][2]].save(folder+\"/extremeright2.pdb\")\n",
    "struct_apo[a[-3][2]].save(folder+\"/extremeright3.pdb\")\n",
    "struct_apo[a[-4][2]].save(folder+\"/extremeright4.pdb\") \n",
    "struct_apo[a[-5][2]].save(folder+\"/extremeright5.pdb\")\n",
    "struct_apo[a[-6][2]].save(folder+\"/extremeright6.pdb\")\n",
    "struct_apo[a[-7][2]].save(folder+\"/extremeright7.pdb\")\n",
    "struct_apo[a[-8][2]].save(folder+\"/extremeright8.pdb\")\n",
    "struct_apo[a[-9][2]].save(folder+\"/extremeright9.pdb\") \n",
    "struct_apo[a[-10][2]].save(folder+\"/extremeright10.pdb\")\n",
    "struct_apo[a[-11][2]].save(folder+\"/extremeright11.pdb\")\n",
    "struct_apo[a[-12][2]].save(folder+\"/extremeright12.pdb\")\n",
    "struct_apo[a[-13][2]].save(folder+\"/extremeright13.pdb\")\n",
    "struct_apo[a[-14][2]].save(folder+\"/extremeright14.pdb\") \n",
    "struct_apo[a[-15][2]].save(folder+\"/extremeright15.pdb\")\n",
    "struct_apo[a[-16][2]].save(folder+\"/extremeright16.pdb\")\n",
    "struct_apo[a[-17][2]].save(folder+\"/extremeright17.pdb\")\n",
    "struct_apo[a[-18][2]].save(folder+\"/extremeright18.pdb\")\n",
    "struct_apo[a[-19][2]].save(folder+\"/extremeright19.pdb\") \n",
    "struct_apo[a[-20][2]].save(folder+\"/extremeright20.pdb\")"
   ]
  },
  {
   "cell_type": "markdown",
   "id": "ca59b9fd-7f1a-456f-b617-791f2114064e",
   "metadata": {},
   "source": [
    " # Save  PC in B-fact"
   ]
  },
  {
   "cell_type": "code",
   "execution_count": 15,
   "id": "ec590db2-5d0b-4605-a00e-2a3a5728040e",
   "metadata": {},
   "outputs": [],
   "source": [
    "folder = output_folder\n",
    "save_pc_bfact(3,158,3,struct_apo, pca_apo.components_[0],folder+\"/IMAGES/gm2a_apo_pc0.pdb\")\n",
    "#save_pc_bfact(2,199,5,struct_apo, pca_holo.components_[0],folder+\"/IMAGES/gm2a_holo_pc0.pdb\")\n",
    "#save_pc_bfact(2,199,5,struct_apo, pca_tot.components_[0],folder+\"/IMAGES/gm2a_apoholo_pc0.pdb\")"
   ]
  },
  {
   "cell_type": "markdown",
   "id": "633527f4-cc15-4e3c-b8e3-1ba8cc44471b",
   "metadata": {},
   "source": [
    "# HISTOGRAM FOR MAIN FIGURE\n"
   ]
  },
  {
   "cell_type": "code",
   "execution_count": 11,
   "id": "a8434619-e091-40e3-beb9-65bd346d52b3",
   "metadata": {},
   "outputs": [
    {
     "data": {
      "image/png": "[encoded data removed]",
      "text/plain": [
       "<Figure size 360x360 with 1 Axes>"
      ]
     },
     "metadata": {},
     "output_type": "display_data"
    }
   ],
   "source": [
    "from itertools import islice, cycle\n",
    "import statsmodels.api as sm\n",
    "import matplotlib.cm as cm\n",
    "\n",
    "def plot_clusters_formainfig(clone, data, path, headers=None):\n",
    "    color_list = np.array(['#ff7295','#faa336','#a782d9' ])\n",
    "    colors = np.array(list(islice(cycle(color_list),len(clone.centers))))\n",
    "    \n",
    "    fig, ax = plt.subplots(1,1, figsize=(5,5), sharey=True, sharex=True)\n",
    "\n",
    "    min_pc = -5\n",
    "    max_pc = 5\n",
    "\n",
    "    sns.despine(left=True)\n",
    "    ax.set_xlim([min_pc,max_pc])\n",
    "    ax.set_ylim([0,0.35])\n",
    "\n",
    "    ax.set_xticks([-5,-4,-3,-2,-1,0,1,2,3,4,5])\n",
    "    ax.tick_params(axis = 'both', which = 'major', labelsize = 16)\n",
    "    ax.set_xlabel(\"PC1\", fontsize=20, labelpad=5)\n",
    "    ax.set_ylabel(\"Prob. density\", fontsize=20)\n",
    "    \n",
    "    # change all spines\n",
    "    for axis in ['top','bottom','left','right']:\n",
    "        ax.spines[axis].set_linewidth(1.5)\n",
    "    # increase tick width\n",
    "    axcolor = '#222222'\n",
    "    axcolor2 = '#AAAAAA'\n",
    "    ax.tick_params(width=1.5)\n",
    "    ax.xaxis.label.set_color(axcolor)        #setting up X-axis label color to yellow\n",
    "    ax.yaxis.label.set_color(axcolor2)          #setting up Y-axis label color to blue\n",
    "    ax.tick_params(axis='x', colors=axcolor)    #setting up X-axis tick color to red\n",
    "    ax.tick_params(axis='y', colors=axcolor2)    #setting up X-axis tick color to red\n",
    "\n",
    "    ax.spines['left'].set_color(axcolor2)        # setting up Y-axis tick color to red\n",
    "    ax.spines['bottom'].set_color(axcolor)  \n",
    "    \n",
    "    centers = np.array(clone.centers)\n",
    "    labels = np.array(clone.labels_)\n",
    "    labels_all = np.array(clone.labels_all)\n",
    "    core = clone.core_card\n",
    "    rho = clone.rho\n",
    "\n",
    "    ax.hist(red_dim_coords_apo[0:,0], color='#FAA336', range=(min_pc, max_pc), bins=n_bins, histtype=\"step\", zorder=-1, density=True)\n",
    "    ax.hist(red_dim_coords_apo[0:,0], color='#FAA336', range=(min_pc, max_pc), bins=n_bins, histtype=\"stepfilled\", zorder=-1, alpha=0.3, density=True)\n",
    "    \n",
    "    # Mask for plotting\n",
    "    assigned_mask = np.where(labels != -1)\n",
    "    outliers_mask = np.where(labels == -1)\n",
    "\n",
    "    # Sort some values for better visualization after\n",
    "    arcore = np.argsort(core)\n",
    "    s_cores = core[arcore]\n",
    "    s_x = data[arcore]\n",
    "    \n",
    "    ypos=[0.31]\n",
    "    # Plot clusters\n",
    "    ax.scatter(data[assigned_mask, 0], ypos * len(data[assigned_mask]), marker='|', color=colors[labels[assigned_mask]], zorder=1, clip_on=False)\n",
    "    ax.scatter(data[outliers_mask, 0], ypos * len(data[outliers_mask]), marker='D', s=2, color='black', zorder=1, clip_on=False)\n",
    "    ax.scatter(data[centers, 0], ypos * len(data[centers]), marker='D', s=30, color='black', zorder=1, clip_on=False)\n",
    "\n",
    "\n",
    "    fig.tight_layout()\n",
    "    fig.savefig(output_folder+'/IMAGES/histograms_pc_clustering_mainfig.pdf', dpi=600)\n",
    "    plt.show()\n",
    "\n",
    "    \n",
    "plot_clusters_formainfig(clone_apo, red_dim_coords_apo[:,0].reshape(-1, 1), output_folder+'/'+tot_name+'_1',pca_headers[:2] )"
   ]
  },
  {
   "cell_type": "code",
   "execution_count": 8,
   "id": "7fb81a39-ac84-42b8-a99c-a551f20901de",
   "metadata": {},
   "outputs": [
    {
     "name": "stdout",
     "output_type": "stream",
     "text": [
      "0 100.0 46.042651610489436 46.042651610489436\n",
      "1 99.99349381912818 52.27713343083569 52.273732185980066\n",
      "-1 100.0 1.680214958674875 1.680214958674875\n"
     ]
    },
    {
     "data": {
      "image/png": "[encoded data removed]",
      "text/plain": [
       "<Figure size 180x72 with 2 Axes>"
      ]
     },
     "metadata": {},
     "output_type": "display_data"
    }
   ],
   "source": [
    "from itertools import islice, cycle\n",
    "import statsmodels.api as sm\n",
    "import matplotlib.cm as cm\n",
    "\n",
    "clusters = np.unique(clone_apo.labels_)\n",
    "labels_apo = clone_apo.labels_[0:29400]\n",
    "pop_list = []\n",
    "for label in [0,1,-1]:\n",
    "    count_apo = np.count_nonzero(labels_apo == label)\n",
    "    #count_holo = np.count_nonzero(labels_holo == label)\n",
    "    count_tot= np.count_nonzero(clone_apo.labels_[:] == label)\n",
    "    pop_list.append([label, count_apo/count_tot*100, count_tot/len(clone_apo.labels_)*100, count_apo/count_tot*100*count_tot/len(clone_apo.labels_)])\n",
    "    print(label, count_apo/count_tot*100, count_tot/len(clone_apo.labels_)*100, count_apo/count_tot*100*count_tot/len(clone_apo.labels_))\n",
    "\n",
    "df = pd.DataFrame(pop_list, columns=['cluster', 'frames apo (%)', 'cluster relevance (%)', 'weighted_cluster_relevance_apo'])  \n",
    "df.to_csv(output_folder+'/'+apo_name+\"_1/population_analysis.txt\", sep=\" \", float_format=\"%2.2f\")\n",
    "\n",
    "fig, (ax1, ax2) = plt.subplots(1, 2, gridspec_kw={'width_ratios': [4, 0.4]}, figsize=(2.5,1), )\n",
    "plt.subplots_adjust(wspace=0.5)\n",
    "color_list = np.array(['#8CBEB2','#F2EBBF','#f49090', \"#5C4B51\"])\n",
    "colors = np.array(list(islice(cycle(color_list),len(clone_apo.centers))))\n",
    "min_pc = -5\n",
    "max_pc = 5\n",
    "axcolor = '#222222'\n",
    "axcolor2 = '#AAAAAA'\n",
    "hfont = {'fontname':'Helvetica'}\n",
    "\n",
    "centers = np.array(clone_apo.centers)\n",
    "labels = np.array(clone_apo.labels_)\n",
    "labels_all = np.array(clone_apo.labels_all)\n",
    "core = clone_apo.core_card\n",
    "\n",
    "sns.despine(left=True)\n",
    "\n",
    "#PLOT 1 \n",
    "ax1.set_xlim([min_pc,max_pc])\n",
    "ax1.set_ylim([0,1])\n",
    "ax1.set_xticks([-4,-2,0,2,4])\n",
    "ax1.set_yticks([0,0.5, 1])\n",
    "ax1.set_xlabel(\"PC1\", fontsize=8, labelpad=3)\n",
    "ax1.set_ylabel(\"Prob. density\", fontsize=8)\n",
    "\n",
    "ax1.tick_params(axis = 'both', which = 'major', labelsize = 8, pad=1.5, length=2)\n",
    "ax1.tick_params(width=0.5)\n",
    "# change all spines\n",
    "for axis in ['top','bottom','left','right']:\n",
    "    ax1.spines[axis].set_linewidth(0.5)\n",
    "# axes colors\n",
    "ax1.xaxis.label.set_color(axcolor)\n",
    "ax1.yaxis.label.set_color(axcolor2)         \n",
    "ax1.tick_params(axis='x', colors=axcolor)    \n",
    "ax1.tick_params(axis='y', colors=axcolor2)  \n",
    "ax1.spines['left'].set_color(axcolor2)\n",
    "ax1.spines['bottom'].set_color(axcolor)  \n",
    "    \n",
    "ax1.hist(red_dim_coords_apo[:,0], color='#FAA336', range=(min_pc, max_pc), bins=n_bins, histtype=\"step\", zorder=-1, density=True, linewidth=0.2)\n",
    "ax1.hist(red_dim_coords_apo[:,0], color='#FAA336', range=(min_pc, max_pc), bins=n_bins, histtype=\"stepfilled\", zorder=-1, alpha=0.3, density=True, linewidth=0.2)\n",
    "    \n",
    "# Mask for plotting\n",
    "assigned_mask = np.where(labels != -1)\n",
    "outliers_mask = np.where(labels == -1)\n",
    "\n",
    "# Sort some values for better visualization after\n",
    "data = red_dim_coords_apo[:,0].reshape(-1, 1)\n",
    "arcore = np.argsort(core)\n",
    "s_cores = core[arcore]\n",
    "s_x = data[arcore]\n",
    "\n",
    "ypos=[0.92]\n",
    "# Plot clusters\n",
    "ax1.axvline(x=0.1, color='#AAAAAA', linestyle='--', ymax=ypos[0], linewidth=0.2, zorder=-1)\n",
    "#ax1.axvline(x=-0.87, color='#AAAAAA', linestyle='--', ymax=ypos[0], linewidth=0.2, zorder=-1)\n",
    "\n",
    "ax1.scatter(data[assigned_mask, 0], ypos * len(data[assigned_mask]), marker='|', s=3, color=colors[labels[assigned_mask]], zorder=1, clip_on=False)\n",
    "ax1.scatter(data[outliers_mask, 0], ypos * len(data[outliers_mask]), marker='*', s=0.02, color=color_list[3], zorder=1, clip_on=False)\n",
    "ax1.scatter(data[centers, 0], ypos * len(data[centers]), marker='D', s=2, color='black', zorder=1, clip_on=False)\n",
    "\n",
    "ax1.text(-2.90,0.99, \"C1\", fontsize=6)\n",
    "ax1.text(2.0,0.99, \"C2\", fontsize=6)\n",
    "#ax1.text(1.8,0.99, \"C3\", fontsize=8)\n",
    "\n",
    "#PLOT 2 \n",
    "ax2.set_ylim([0,100])\n",
    "ax2.set_xticks([0,1])\n",
    "ax2.tick_params(axis = 'both', which = 'major', labelsize = 8, pad=1, length=2)\n",
    "ax2.set_ylabel(\"Population %\", fontsize=8, labelpad=-2, **hfont)\n",
    "    \n",
    "# set colors \n",
    "ax2.tick_params(width=0.5)\n",
    "ax2.xaxis.label.set_color(axcolor)       \n",
    "ax2.yaxis.label.set_color(axcolor2)          \n",
    "ax2.tick_params(axis='x', colors=axcolor) \n",
    "ax2.tick_params(axis='y', colors=axcolor2)\n",
    "ax2.spines['left'].set_color(axcolor2)        \n",
    "ax2.spines['bottom'].set_color(axcolor)  \n",
    "# change all spines\n",
    "for axis in ['top','bottom','left','right']:\n",
    "    ax2.spines[axis].set_linewidth(0.5)\n",
    "\n",
    "\n",
    "new_df = df[['weighted_cluster_relevance_apo']]\n",
    "new_df.transpose().plot(kind='bar', legend=False, width=0.8, ax=ax2, color=[color_list[0], color_list[1], color_list[3]], stacked=True)\n",
    "\n",
    "ax2.set_xticklabels([\"\"], rotation = 90, ha='center',**hfont, fontsize=8)\n",
    "\n",
    "\n",
    "#fig.tight_layout()\n",
    "fig.savefig(output_folder+'/IMAGES/total_figure.png', dpi=1200, bbox_inches='tight')"
   ]
  },
  {
   "cell_type": "code",
   "execution_count": 9,
   "id": "822b08ed-aaa0-4d2c-976f-8c1adbe0ff0a",
   "metadata": {},
   "outputs": [],
   "source": [
    "new_data = red_dim_coords_apo[1:,0].reshape(6,4900)"
   ]
  },
  {
   "cell_type": "code",
   "execution_count": 18,
   "id": "a2fff906-7751-47db-a363-0723eeaa75c2",
   "metadata": {},
   "outputs": [
    {
     "data": {
      "text/plain": [
       "(4900, 3)"
      ]
     },
     "execution_count": 18,
     "metadata": {},
     "output_type": "execute_result"
    }
   ],
   "source": [
    "np.shape(new_data[0:3].T)"
   ]
  },
  {
   "cell_type": "code",
   "execution_count": 7,
   "id": "ce53ac2f-e5b9-46e6-a594-fe73f078c3fb",
   "metadata": {},
   "outputs": [
    {
     "ename": "NameError",
     "evalue": "name 'new_data' is not defined",
     "output_type": "error",
     "traceback": [
      "\u001b[0;31m---------------------------------------------------------------------------\u001b[0m",
      "\u001b[0;31mNameError\u001b[0m                                 Traceback (most recent call last)",
      "\u001b[0;32m<ipython-input-7-127b191a3eb2>\u001b[0m in \u001b[0;36m<module>\u001b[0;34m\u001b[0m\n\u001b[1;32m     29\u001b[0m \u001b[0max1\u001b[0m\u001b[0;34m.\u001b[0m\u001b[0mspines\u001b[0m\u001b[0;34m[\u001b[0m\u001b[0;34m'bottom'\u001b[0m\u001b[0;34m]\u001b[0m\u001b[0;34m.\u001b[0m\u001b[0mset_color\u001b[0m\u001b[0;34m(\u001b[0m\u001b[0maxcolor\u001b[0m\u001b[0;34m)\u001b[0m\u001b[0;34m\u001b[0m\u001b[0;34m\u001b[0m\u001b[0m\n\u001b[1;32m     30\u001b[0m \u001b[0;34m\u001b[0m\u001b[0m\n\u001b[0;32m---> 31\u001b[0;31m \u001b[0max1\u001b[0m\u001b[0;34m.\u001b[0m\u001b[0mhist\u001b[0m\u001b[0;34m(\u001b[0m\u001b[0mnew_data\u001b[0m\u001b[0;34m[\u001b[0m\u001b[0;36m0\u001b[0m\u001b[0;34m:\u001b[0m\u001b[0;36m6\u001b[0m\u001b[0;34m]\u001b[0m\u001b[0;34m.\u001b[0m\u001b[0mT\u001b[0m\u001b[0;34m,\u001b[0m \u001b[0mrange\u001b[0m\u001b[0;34m=\u001b[0m\u001b[0;34m(\u001b[0m\u001b[0mmin_pc\u001b[0m\u001b[0;34m,\u001b[0m \u001b[0mmax_pc\u001b[0m\u001b[0;34m)\u001b[0m\u001b[0;34m,\u001b[0m \u001b[0mbins\u001b[0m\u001b[0;34m=\u001b[0m\u001b[0mn_bins\u001b[0m\u001b[0;34m,\u001b[0m \u001b[0mhisttype\u001b[0m\u001b[0;34m=\u001b[0m\u001b[0;34m\"bar\"\u001b[0m\u001b[0;34m,\u001b[0m \u001b[0mstacked\u001b[0m\u001b[0;34m=\u001b[0m\u001b[0;32mTrue\u001b[0m\u001b[0;34m,\u001b[0m \u001b[0mzorder\u001b[0m\u001b[0;34m=\u001b[0m\u001b[0;34m-\u001b[0m\u001b[0;36m1\u001b[0m\u001b[0;34m,\u001b[0m \u001b[0mdensity\u001b[0m\u001b[0;34m=\u001b[0m\u001b[0;32mTrue\u001b[0m\u001b[0;34m,\u001b[0m \u001b[0mlinewidth\u001b[0m\u001b[0;34m=\u001b[0m\u001b[0;36m0.2\u001b[0m\u001b[0;34m)\u001b[0m\u001b[0;34m\u001b[0m\u001b[0;34m\u001b[0m\u001b[0m\n\u001b[0m\u001b[1;32m     32\u001b[0m \u001b[0max1\u001b[0m\u001b[0;34m.\u001b[0m\u001b[0mhist\u001b[0m\u001b[0;34m(\u001b[0m\u001b[0mred_dim_coords_apo\u001b[0m\u001b[0;34m[\u001b[0m\u001b[0;34m:\u001b[0m\u001b[0;34m,\u001b[0m\u001b[0;36m0\u001b[0m\u001b[0;34m]\u001b[0m\u001b[0;34m,\u001b[0m \u001b[0mcolor\u001b[0m\u001b[0;34m=\u001b[0m\u001b[0;34m'#FAA336'\u001b[0m\u001b[0;34m,\u001b[0m \u001b[0mrange\u001b[0m\u001b[0;34m=\u001b[0m\u001b[0;34m(\u001b[0m\u001b[0mmin_pc\u001b[0m\u001b[0;34m,\u001b[0m \u001b[0mmax_pc\u001b[0m\u001b[0;34m)\u001b[0m\u001b[0;34m,\u001b[0m \u001b[0mbins\u001b[0m\u001b[0;34m=\u001b[0m\u001b[0mn_bins\u001b[0m\u001b[0;34m,\u001b[0m \u001b[0mhisttype\u001b[0m\u001b[0;34m=\u001b[0m\u001b[0;34m\"stepfilled\"\u001b[0m\u001b[0;34m,\u001b[0m \u001b[0mzorder\u001b[0m\u001b[0;34m=\u001b[0m\u001b[0;34m-\u001b[0m\u001b[0;36m1\u001b[0m\u001b[0;34m,\u001b[0m \u001b[0malpha\u001b[0m\u001b[0;34m=\u001b[0m\u001b[0;36m0.3\u001b[0m\u001b[0;34m,\u001b[0m \u001b[0mdensity\u001b[0m\u001b[0;34m=\u001b[0m\u001b[0;32mTrue\u001b[0m\u001b[0;34m,\u001b[0m \u001b[0mlinewidth\u001b[0m\u001b[0;34m=\u001b[0m\u001b[0;36m0.2\u001b[0m\u001b[0;34m)\u001b[0m\u001b[0;34m\u001b[0m\u001b[0;34m\u001b[0m\u001b[0m\n\u001b[1;32m     33\u001b[0m \u001b[0;34m\u001b[0m\u001b[0m\n",
      "\u001b[0;31mNameError\u001b[0m: name 'new_data' is not defined"
     ]
    },
    {
     "data": {
      "image/png": "[encoded data removed]",
      "text/plain": [
       "<Figure size 144x72 with 1 Axes>"
      ]
     },
     "metadata": {},
     "output_type": "display_data"
    }
   ],
   "source": [
    "fig, ax1 = plt.subplots(1, 1, figsize=(2,1) )\n",
    "color_list = np.array(['#68a92e','#bbe398','#88ce4b'])\n",
    "min_pc = -5\n",
    "max_pc = 5\n",
    "axcolor = '#222222'\n",
    "axcolor2 = '#AAAAAA'\n",
    "hfont = {'fontname':'Helvetica'}\n",
    "\n",
    "sns.despine(left=True)\n",
    "\n",
    "#PLOT 1 \n",
    "ax1.set_xlim([min_pc,max_pc])\n",
    "ax1.set_ylim([0,1])\n",
    "ax1.set_xticks([-4,-2,0,2,4])\n",
    "ax1.set_yticks([0,0.25,0.5,0.75, 1])\n",
    "ax1.set_xlabel(\"PC1\", fontsize=8, labelpad=3)\n",
    "ax1.set_ylabel(\"Prob. density\", fontsize=8)\n",
    "ax1.tick_params(axis = 'both', which = 'major', labelsize = 8, pad=1.5, length=2)\n",
    "ax1.tick_params(width=0.5)\n",
    "# change all spines\n",
    "for axis in ['top','bottom','left','right']:\n",
    "    ax1.spines[axis].set_linewidth(0.5)\n",
    "# axes colors\n",
    "ax1.xaxis.label.set_color(axcolor)\n",
    "ax1.yaxis.label.set_color(axcolor2)         \n",
    "ax1.tick_params(axis='x', colors=axcolor)    \n",
    "ax1.tick_params(axis='y', colors=axcolor2)  \n",
    "ax1.spines['left'].set_color(axcolor2)\n",
    "ax1.spines['bottom'].set_color(axcolor)  \n",
    "\n",
    "ax1.hist(new_data[0:6].T, range=(min_pc, max_pc), bins=n_bins, histtype=\"bar\", stacked=True, zorder=-1, density=True, linewidth=0.2)\n",
    "ax1.hist(red_dim_coords_apo[:,0], color='#FAA336', range=(min_pc, max_pc), bins=n_bins, histtype=\"stepfilled\", zorder=-1, alpha=0.3, density=True, linewidth=0.2)\n",
    "    \n",
    "#plt.show()\n",
    "fig.savefig(output_folder+'/IMAGES/convergence.png', dpi=600, bbox_inches='tight')"
   ]
  }
 ],
 "metadata": {
  "kernelspec": {
   "display_name": "Python 3",
   "language": "python",
   "name": "python3"
  },
  "language_info": {
   "codemirror_mode": {
    "name": "ipython",
    "version": 3
   },
   "file_extension": ".py",
   "mimetype": "text/x-python",
   "name": "python",
   "nbconvert_exporter": "python",
   "pygments_lexer": "ipython3",
   "version": "3.7.10"
  }
 },
 "nbformat": 4,
 "nbformat_minor": 5
}
