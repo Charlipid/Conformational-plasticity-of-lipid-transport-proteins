{
 "cells": [
  {
   "cell_type": "code",
   "execution_count": 2,
   "id": "deb822cf",
   "metadata": {},
   "outputs": [
    {
     "name": "stdout",
     "output_type": "stream",
     "text": [
      "Automatically created module for IPython interactive environment\n"
     ]
    }
   ],
   "source": [
    "import os\n",
    "import matplotlib.pyplot as plt\n",
    "import matplotlib.ticker as ticker\n",
    "from matplotlib.lines import Line2D\n",
    "\n",
    "import pandas as pd\n",
    "import time\n",
    "import shutil\n",
    "import argparse\n",
    "import numpy as np\n",
    "from sklearn.decomposition import PCA, KernelPCA\n",
    "from sklearn.preprocessing import StandardScaler\n",
    "import sys\n",
    "# sys.path.append('/DATA/lucaa/software/CLoNe')\n",
    "# from clone import CLoNe\n",
    "# from plot import plot_clusters\n",
    "# from structural_utils import load_md_args, show_cluster_info\n",
    "\n",
    "# from matplotlib import rc\n",
    "# plt.rcParams['ps.useafm'] = True\n",
    "# rc('font',**{'family':'sans-serif','sans-serif':['Helvetica']})\n",
    "\n",
    "import mdtraj\n",
    "import pyemma\n",
    "import seaborn as sns\n",
    "print(__doc__)\n",
    "start = time.time()"
   ]
  },
  {
   "cell_type": "code",
   "execution_count": 3,
   "id": "247662f8",
   "metadata": {},
   "outputs": [],
   "source": [
    "# PARAMETERS SETUP\n",
    "\n",
    "# Clustering parameters \n",
    "pdc=8   # neighbour search during clusterint\n",
    "n_resize=4 \n",
    "filt=0.1 \n",
    "verbose=False\n",
    "n_pca=10 # number of PC to include in calculations \n",
    "n_bins= 200  # number of bins for PC hist\n",
    "# Simulations and topology \n",
    "trj_apo='traj_cert_apo.xtc'   # apo traj\n",
    "trj_mut='traj_mut_apo.xtc'  # holo traj\n",
    "trj_holo='trjcat_cert_holo_fit_CA.xtc'\n",
    "# trj_tot='traj_cert_tot.xtc'   # concatenated total traj\n",
    "trj_tot2='cert_apo_holo.xtc'   # concatenated total traj\n",
    "trj_mtot='mut_holo.xtc'\n",
    "trj_mtot2='apo5p_holo5p.xtc'\n",
    "\n",
    "topo_apo='apo_wt_ca.gro'  # pdb or gro of apo\n",
    "\n",
    "# Selection for PCA calculation (see mdtraj syntax)\n",
    "at_sel=\"name CA and residue 423 to 594 and (not residue 507 to 517)\"  # try to exclude end loops or regions that move but are not interesting (hides the true PC)\n",
    "n_res=161   # number of residues (still manual insertion, i know...)\n",
    "feat=\"None\"\n",
    "resmin=423\n",
    "resmax=594\n",
    "output_folder = \"results_holo5p\"\n",
    "\n",
    "apo_name=\"apo\"\n",
    "holo_name=\"holo\"\n",
    "mut_name=\"mut\"\n",
    "tot_name=\"tot\"\n",
    "tot2_name=\"tot2\"\n",
    "mtot_name=\"mtot\""
   ]
  },
  {
   "cell_type": "code",
   "execution_count": 4,
   "id": "d078d6f4",
   "metadata": {},
   "outputs": [],
   "source": [
    "def calculate_pca(topo, traj, main_folder, syst, at_sel, n_pca ):\n",
    "    # Load trajectory\n",
    "    topology = mdtraj.load(topo).topology\n",
    "    struct_ens = mdtraj.load(traj, top=topo)\n",
    "\n",
    "    # Create result folder based on dataset nam\\e\n",
    "    if not os.path.exists(main_folder):\n",
    "        os.makedirs(main_folder)\n",
    "    out_idx =  1\n",
    "    output_folder = main_folder+\"/%s_%i/\"\n",
    "    while os.path.exists(output_folder%(syst, out_idx)):\n",
    "        out_idx += 1\n",
    "    output_folder = output_folder%(syst, out_idx)\n",
    "    os.makedirs(output_folder)\n",
    "    \n",
    "\n",
    "    selection = struct_ens.topology.select(at_sel)\n",
    "    coords = struct_ens.xyz[:, selection]\n",
    "    coords = coords.reshape(coords.shape[0], coords.shape[1] * coords.shape[2])\n",
    "    headers = [\"C%i\"%x for x in range(len(coords[0]))]  # general headers\n",
    "\n",
    "    # Principal component analysis\n",
    "    original_coords = coords.copy()\n",
    "    pca_obj = PCA(n_components=n_pca)\n",
    "    reddim_coords = pca_obj.fit_transform(coords)\n",
    "    eigenvalues = pca_obj.explained_variance_ratio_\n",
    "    ratio = np.sum(eigenvalues[:n_pca])\n",
    "    pca_headers = [\"PC%i (%.2f)\"%(x + 1, eigenvalues[x]) for x in range(n_pca)]\n",
    "    \n",
    "    print(\"> PCA: %i => %i dimension(s) with eigenval.: %s\"%(len(headers), n_pca, str(eigenvalues)))\n",
    "    print(\"sum of Variance: %s\"%(np.sum(eigenvalues)))\n",
    "    with open(\"%sPCA_coords.txt\"%output_folder, \"w\") as f:\n",
    "        for x in range(n_pca):\n",
    "            f.write(\"PC%i(%.2f) \"%(x + 1, eigenvalues[x]))\n",
    "        f.write(\"\\n\")\n",
    "        for el in reddim_coords:\n",
    "            for n in el:\n",
    "                f.write(\"%f \"%n)\n",
    "            f.write(\"\\n\")  \n",
    "    return pca_obj, reddim_coords, original_coords\n",
    "\n",
    "def calc_magn_vector(pc):\n",
    "    final_length = int(len(pc)/3)\n",
    "    pc_magn = np.empty(final_length)\n",
    "    \n",
    "    for i in range(final_length):\n",
    "        pc_magn[i] = np.sqrt(pc[i*3]**2+pc[i*3+1]**2+pc[i*3+2]**2)\n",
    "    \n",
    "    return pc_magn\n",
    "\n",
    "def save_pc_bfact(init_padding, length_pc, final_padding, structure, pc_component, outpdb):\n",
    "\n",
    "    pc_elongated = np.concatenate((np.zeros(init_padding),calc_magn_vector(pc_component),np.zeros(final_padding)))\n",
    "    system_length_res = len([residue for residue in structure.topology.residues])\n",
    "    system_length_atoms = len([ atom for atom in structure.topology.atoms])\n",
    "\n",
    "    syst_bfact=np.zeros(system_length_atoms)\n",
    "    index=0\n",
    "    for resid in range(system_length_res):\n",
    "        res_len = len(structure.topology.select('resid '+str(resid)))\n",
    "        res_bfact= res_len\n",
    "        syst_bfact[index:index+res_len] = pc_elongated[resid]\n",
    "        index += res_len\n",
    "\n",
    "    structure[0].save_pdb(outpdb, bfactors=syst_bfact*100)"
   ]
  },
  {
   "cell_type": "code",
   "execution_count": 6,
   "id": "3a45c203",
   "metadata": {},
   "outputs": [
    {
     "name": "stdout",
     "output_type": "stream",
     "text": [
      "> PCA: 483 => 10 dimension(s) with eigenval.: [0.14907686 0.10204159 0.08603086 0.07493022 0.06221103 0.04858981\n",
      " 0.03136811 0.0286983  0.02400017 0.02190166]\n",
      "sum of Variance: 0.6288486\n",
      "> PCA: 483 => 10 dimension(s) with eigenval.: [0.12034631 0.11185008 0.06940148 0.06333797 0.04444917 0.03862698\n",
      " 0.03468355 0.02969229 0.02865811 0.02478724]\n",
      "sum of Variance: 0.5658332\n",
      "> PCA: 483 => 10 dimension(s) with eigenval.: [0.21221831 0.10794813 0.08396838 0.06061887 0.05057234 0.04632992\n",
      " 0.03962941 0.03209789 0.02614524 0.02225888]\n",
      "sum of Variance: 0.6817874\n",
      "> PCA: 483 => 10 dimension(s) with eigenval.: [0.12044723 0.0977632  0.07060727 0.06362145 0.05660815 0.04675879\n",
      " 0.04033707 0.02964779 0.02661574 0.02462564]\n",
      "sum of Variance: 0.5770323\n",
      "> PCA: 483 => 10 dimension(s) with eigenval.: [0.16561736 0.10050204 0.08039514 0.05838557 0.04596226 0.04209333\n",
      " 0.03659157 0.0320143  0.02913876 0.0239794 ]\n",
      "sum of Variance: 0.6146797\n",
      "> PCA: 483 => 10 dimension(s) with eigenval.: [0.16006702 0.09904682 0.08951991 0.06416538 0.05068278 0.04319581\n",
      " 0.03771172 0.0332633  0.02732146 0.02541433]\n",
      "sum of Variance: 0.63038856\n"
     ]
    }
   ],
   "source": [
    "# make results folder \n",
    "try:\n",
    "    os.mkdir(output_folder)\n",
    "except FileExistsError:\n",
    "    pass\n",
    "# make images folder \n",
    "try:\n",
    "    os.mkdir(output_folder+'/IMAGES/')\n",
    "except FileExistsError:\n",
    "    pass\n",
    "# Calculate PCA\n",
    "pca_apo, red_dim_coords_apo, orig_coords_apo = calculate_pca(topo_apo, trj_apo, output_folder, apo_name, at_sel, n_pca)\n",
    "pca_holo, red_dim_coords_holo, orig_coords_holo = calculate_pca(topo_apo, trj_holo, output_folder, holo_name, at_sel, n_pca)\n",
    "pca_mut, red_dim_coords_mut, orig_coords_mut = calculate_pca(topo_apo, trj_mut, output_folder, mut_name, at_sel, n_pca)\n",
    "# pca_tot, red_dim_coords_tot, orig_coords_tot = calculate_pca(topo_apo, trj_tot, output_folder, tot_name, at_sel, n_pca)\n",
    "pca_tot2, red_dim_coords_tot2, orig_coords_tot2 = calculate_pca(topo_apo, trj_tot2, output_folder, tot2_name, at_sel, n_pca)\n",
    "pca_mtot, red_dim_coords_mtot, orig_coords_mtot = calculate_pca(topo_apo, trj_mtot, output_folder, mtot_name, at_sel, n_pca)\n",
    "pca_mtot2, red_dim_coords_mtot2, orig_coords_mtot2 = calculate_pca(topo_apo, trj_mtot2, output_folder, mtot_name, at_sel, n_pca)"
   ]
  },
  {
   "cell_type": "code",
   "execution_count": 8,
   "id": "b22bc22b",
   "metadata": {},
   "outputs": [],
   "source": [
    "index_apo_end=np.shape(red_dim_coords_apo)[0]\n",
    "index_tot_end=np.shape(red_dim_coords_tot2)[0]"
   ]
  },
  {
   "cell_type": "code",
   "execution_count": 10,
   "id": "ccd6c403-840e-4a2a-8bdb-38f0ea3f070d",
   "metadata": {},
   "outputs": [
    {
     "data": {
      "text/plain": [
       "58801"
      ]
     },
     "execution_count": 10,
     "metadata": {},
     "output_type": "execute_result"
    }
   ],
   "source": [
    "index_tot_end"
   ]
  },
  {
   "cell_type": "markdown",
   "id": "20aec4f6",
   "metadata": {},
   "source": [
    "# Figures PC and histograms checking that all pc apo, holo and tot are the similar "
   ]
  },
  {
   "cell_type": "code",
   "execution_count": 11,
   "id": "54977f5d-24b2-4d8e-a916-bbdf38426257",
   "metadata": {},
   "outputs": [],
   "source": [
    "# def read_xvg(fname):\n",
    "#     data=[]\n",
    "#     with open(fname) as f:\n",
    "#         for line in f:\n",
    "#             if not line.startswith((\"@\",\"#\")):\n",
    "#                 data.append(np.array([float(s) for s in line.split()]))\n",
    "#     data=np.vstack(data)\n",
    "#     return data\n",
    "\n",
    "# #RMSF\n",
    "# data = read_xvg(\"rmsf_apo.xvg\")\n",
    "# r, rmsf = data[:,0], data[:,1]\n",
    "# rmsf_asterc = []\n",
    "# # for i in range(6):\n",
    "#     # rmsf_asterc.append(0)  \n",
    "# for i in rmsf:\n",
    "#     rmsf_asterc.append(i)\n",
    "# # for i in range(24):\n",
    "# #     rmsf_asterc.append(0)  \n",
    "\n",
    "# def NormalizeData(z):\n",
    "#     return (z - np.min(z)) / (np.max(z) - np.min(z))\n",
    "\n",
    "# apor = NormalizeData(rmsf_asterc)\n",
    "\n",
    "# data = read_xvg(\"rmsf_holo.xvg\")\n",
    "# r, rmsf = data[:,0], data[:,1]\n",
    "# rmsf_asterc = []\n",
    "# # for i in range(6):\n",
    "#     # rmsf_asterc.append(0)  \n",
    "# for i in rmsf:\n",
    "#     rmsf_asterc.append(i)\n",
    "# # for i in range(24):\n",
    "# #     rmsf_asterc.append(0)  \n",
    "\n",
    "# holor = NormalizeData(rmsf_asterc)\n",
    "\n",
    "# data = read_xvg(\"rmsf_mut.xvg\")\n",
    "# r, rmsf = data[:,0], data[:,1]\n",
    "# rmsf_asterc = []\n",
    "# # for i in range(6):\n",
    "#     # rmsf_asterc.append(0)  \n",
    "# for i in rmsf:\n",
    "#     rmsf_asterc.append(i)\n",
    "# # for i in range(24):\n",
    "# #     rmsf_asterc.append(0)  \n",
    "\n",
    "# mutr = NormalizeData(rmsf_asterc)\n",
    "\n",
    "# fig, ax = plt.subplots(1,3, figsize=(11,3), sharey=True, sharex=True)\n",
    "# tick_spacing = 20\n",
    "# ax[0].xaxis.set_major_locator(ticker.MultipleLocator(tick_spacing))\n",
    "# ax[0].tick_params(axis='x', rotation=90)\n",
    "# ax[1].tick_params(axis='x', rotation=90)\n",
    "# ax[2].tick_params(axis='x', rotation=90)\n",
    "# # ax[3].tick_params(axis='x', rotation=90)\n",
    "\n",
    "# ax[0].set_xlim(resmin,resmax)\n",
    "# ax[0].plot(np.arange(resmin, resmax+1),apor, linewidth=0.8, color='green')\n",
    "# ax[1].plot(np.arange(resmin, resmax+1),holor, linewidth=0.8, color='dodgerblue')\n",
    "# ax[2].plot(np.arange(resmin, resmax+1),mutr, linewidth=0.8, color='red')\n",
    "\n",
    "# sns.despine()\n",
    "\n",
    "# ax[0].legend(['Apo'], frameon=False)\n",
    "# ax[1].legend(['Holo'], frameon=False)\n",
    "# ax[2].legend(['Mut'], frameon=False)\n",
    "# # ax[3].legend(['Apo+Holo+Mut'], frameon=False)\n",
    "\n",
    "\n",
    "# ax[0].set_xlabel(\"Residue number\", fontsize=12, labelpad=5)\n",
    "# ax[1].set_xlabel(\"Residue number\", fontsize=12, labelpad=5)\n",
    "# ax[2].set_xlabel(\"Residue number\", fontsize=12, labelpad=5)\n",
    "# # ax[3].set_xlabel(\"Residue number\", fontsize=12, labelpad=5)\n",
    "# ax[0].set_ylabel(\"RMSF (normalized)\", fontsize=12, labelpad=5)\n",
    "# fig.tight_layout()\n",
    "\n",
    "# fig.savefig(\"comparison_rmsf_apo_holo_mut.png\", dpi=500, bbox_inches='tight')\n",
    "\n",
    "# plt.show()"
   ]
  },
  {
   "cell_type": "code",
   "execution_count": 12,
   "id": "3ffec969-e105-46b7-bcdf-bb006d172020",
   "metadata": {},
   "outputs": [],
   "source": [
    "# apo = apor.flatten()\n",
    "# holo = holor.flatten()\n",
    "# mut1 = mutr.flatten()\n",
    "\n",
    "# def NormalizeData(z):\n",
    "#     return (z - np.min(z)) / (np.max(z) - np.min(z))\n",
    "\n",
    "# def RMSD(xr,yr):\n",
    "#     #Normalize\n",
    "#     x = NormalizeData(xr)\n",
    "#     y = NormalizeData(yr)\n",
    "    \n",
    "#     # Compute differences\n",
    "#     differences = np.array(x) - np.array(y)\n",
    "\n",
    "#     # Root Mean Square Deviation (RMSD)\n",
    "#     return np.sqrt(np.mean(differences**2))\n",
    "\n",
    "# ah = RMSD (apo,holo)\n",
    "\n",
    "# print(f\"RMSD Apo vs Holo: {ah}\")\n",
    "\n",
    "# mh1 = RMSD (mut1,holo)\n",
    "\n",
    "# print(f\"RMSD Mutant vs Holo: {mh1}\")\n",
    "\n",
    "# ma1 = RMSD (mut1,apo)\n",
    "\n",
    "# print(f\"RMSD Mutant vs Apo: {ma1}\")"
   ]
  },
  {
   "cell_type": "code",
   "execution_count": 13,
   "id": "b3303712",
   "metadata": {},
   "outputs": [],
   "source": [
    "# fig, ax = plt.subplots(1,3, figsize=(11,3), sharey=True, sharex=True)\n",
    "# tick_spacing = 20\n",
    "# ax[0].xaxis.set_major_locator(ticker.MultipleLocator(tick_spacing))\n",
    "# ax[0].tick_params(axis='x', rotation=90)\n",
    "# ax[1].tick_params(axis='x', rotation=90)\n",
    "# ax[2].tick_params(axis='x', rotation=90)\n",
    "# # ax[3].tick_params(axis='x', rotation=90)\n",
    "\n",
    "# ax[0].set_xlim(resmin,resmax)\n",
    "# ax[0].plot(np.arange(resmin, resmax),np.insert(calc_magn_vector(pca_apo.components_[0]),84,[0]*10), linewidth=0.8, color='green')\n",
    "# ax[1].plot(np.arange(resmin, resmax),np.insert(calc_magn_vector(pca_holo.components_[0]),84,[0]*10), linewidth=0.8, color='dodgerblue')\n",
    "# ax[2].plot(np.arange(resmin, resmax),np.insert(calc_magn_vector(pca_mut.components_[0]),84,[0]*10), linewidth=0.8, color='red')\n",
    "# # ax[3].plot(np.arange(resmin, resmax),np.insert(calc_magn_vector(pca_tot.components_[0]),84,[0]*10), linewidth=0.8, color='red')\n",
    "\n",
    "\n",
    "# sns.despine()\n",
    "\n",
    "# ax[0].legend(['Apo'], frameon=False)\n",
    "# ax[1].legend(['Holo'], frameon=False)\n",
    "# ax[2].legend(['Mut'], frameon=False)\n",
    "# # ax[3].legend(['Apo+Mut+Holo'], frameon=False)\n",
    "\n",
    "# ax[0].set_xlabel(\"Residue number\", fontsize=12, labelpad=5)\n",
    "# ax[1].set_xlabel(\"Residue number\", fontsize=12, labelpad=5)\n",
    "# ax[2].set_xlabel(\"Residue number\", fontsize=12, labelpad=5)\n",
    "# # ax[3].set_xlabel(\"Residue number\", fontsize=12, labelpad=5)\n",
    "# ax[0].set_ylabel(\"PC component (a.u.)\", fontsize=12, labelpad=5)\n",
    "# fig.tight_layout()\n",
    "\n",
    "# fig.savefig(output_folder+'/IMAGES/comparison_pc_apo_holo.pdf')\n",
    "# fig.savefig(\"comparison_pc_apo_holo.png\",dpi=500,bbox_inches=\"tight\")\n",
    "\n",
    "# plt.show()"
   ]
  },
  {
   "cell_type": "code",
   "execution_count": 14,
   "id": "0776bb06-69ca-4ac0-948a-d22ccb4f740a",
   "metadata": {},
   "outputs": [],
   "source": [
    "# apo = calc_magn_vector(pca_apo.components_[0]).flatten()\n",
    "# holo = calc_magn_vector(pca_holo.components_[0]).flatten()\n",
    "# mut1 = calc_magn_vector(pca_mut.components_[0]).flatten()\n",
    "\n",
    "# def NormalizeData(z):\n",
    "#     return (z - np.min(z)) / (np.max(z) - np.min(z))\n",
    "\n",
    "# def RMSD(xr,yr):\n",
    "#     #Normalize\n",
    "#     x = NormalizeData(xr)\n",
    "#     y = NormalizeData(yr)\n",
    "    \n",
    "#     # Compute differences\n",
    "#     differences = np.array(x) - np.array(y)\n",
    "\n",
    "#     # Root Mean Square Deviation (RMSD)\n",
    "#     return np.sqrt(np.mean(differences**2))\n",
    "\n",
    "# ah = RMSD (apo,holo)\n",
    "\n",
    "# print(f\"RMSD Apo vs Holo: {ah}\")\n",
    "\n",
    "# mh1 = RMSD (mut1,holo)\n",
    "\n",
    "# print(f\"RMSD Mutant vs Holo: {mh1}\")\n",
    "\n",
    "# ma1 = RMSD (mut1,apo)\n",
    "\n",
    "# print(f\"RMSD Mutant vs Apo: {ma1}\")"
   ]
  },
  {
   "cell_type": "code",
   "execution_count": 15,
   "id": "09da25ac-0bf4-4a7c-b247-2a9424f8b4a5",
   "metadata": {},
   "outputs": [],
   "source": [
    "# fig, ax = plt.subplots(1,2, figsize=(8,3), sharey=True, sharex=True)\n",
    "# tick_spacing = 20\n",
    "# ax[0].xaxis.set_major_locator(ticker.MultipleLocator(tick_spacing))\n",
    "# ax[0].tick_params(axis='x', rotation=90)\n",
    "# ax[1].tick_params(axis='x', rotation=90)\n",
    "# # ax[2].tick_params(axis='x', rotation=90)\n",
    "# # ax[3].tick_params(axis='x', rotation=90)\n",
    "\n",
    "# ax[0].set_xlim(resmin,resmax)\n",
    "# ax[0].plot(np.arange(resmin, resmax),np.insert(calc_magn_vector(pca_tot2.components_[0]),84,[0]*10), linewidth=0.8, color='orange')\n",
    "# ax[1].plot(np.arange(resmin, resmax),np.insert(calc_magn_vector(pca_tot.components_[0]),84,[0]*10), linewidth=0.8, color='purple')\n",
    "# # ax[2].plot(np.arange(resmin, resmax),np.insert(calc_magn_vector(pca_holo.components_[0]),84,[0]*10), linewidth=0.8, color='orange')\n",
    "# # ax[3].plot(np.arange(resmin, resmax),np.insert(calc_magn_vector(pca_tot.components_[0]),84,[0]*10), linewidth=0.8, color='red')\n",
    "\n",
    "\n",
    "# sns.despine()\n",
    "\n",
    "# ax[0].legend(['Apo+Holo'], frameon=False)\n",
    "# ax[1].legend(['Apo+Mut+Holo'], frameon=False)\n",
    "# # ax[2].legend(['Holo'], frameon=False)\n",
    "# # ax[3].legend(['Apo+Mut+Holo'], frameon=False)\n",
    "\n",
    "# ax[0].set_xlabel(\"Residue number\", fontsize=12, labelpad=5)\n",
    "# ax[1].set_xlabel(\"Residue number\", fontsize=12, labelpad=5)\n",
    "# # ax[2].set_xlabel(\"Residue number\", fontsize=12, labelpad=5)\n",
    "# # ax[3].set_xlabel(\"Residue number\", fontsize=12, labelpad=5)\n",
    "# ax[0].set_ylabel(\"PC component (a.u.)\", fontsize=12, labelpad=5)\n",
    "# fig.tight_layout()\n",
    "\n",
    "# fig.savefig(\"comparison_pc_tot.png\",dpi=500,bbox_inches=\"tight\")\n",
    "\n",
    "# plt.show()"
   ]
  },
  {
   "cell_type": "code",
   "execution_count": 16,
   "id": "428f40db-ae19-435c-b7ee-a0fc457b603f",
   "metadata": {},
   "outputs": [
    {
     "name": "stderr",
     "output_type": "stream",
     "text": [
      "/tmp/ipykernel_6976/1570549132.py:30: UserWarning: You have mixed positional and keyword arguments, some input may be discarded.\n",
      "  ax.legend(['Mutant','Holo'], frameon=False, fontsize=16, handles = legend_elements)\n"
     ]
    },
    {
     "data": {
      "image/png": "[encoded data removed]",
      "text/plain": [
       "<Figure size 500x500 with 1 Axes>"
      ]
     },
     "metadata": {},
     "output_type": "display_data"
    }
   ],
   "source": [
    "fig, ax = plt.subplots(1,1, figsize=(5,5), sharey=True, sharex=True)\n",
    "\n",
    "min_pc = -4\n",
    "max_pc = 5\n",
    "\n",
    "sns.despine()\n",
    "ax.set_xlim([min_pc,max_pc])\n",
    "ax.set_xticks([-3,-2,-1,0,1,2,3,4])\n",
    "ax.tick_params(axis = 'both', which = 'major', labelsize = 16)\n",
    "ax.set_xlabel(\"PC1\", fontsize=20)\n",
    "ax.set_ylabel(\"# Count\", fontsize=20)\n",
    "\n",
    "a = 'green'\n",
    "h = 'dodgerblue'\n",
    "m = 'red'\n",
    "\n",
    "# ax.hist(red_dim_coords_tot[0:index_apo_end,0], color='green', range=(min_pc, max_pc), bins=n_bins, histtype=\"step\")\n",
    "# ax.hist(red_dim_coords_tot[0:index_apo_end,0], color='green', range=(min_pc, max_pc), bins=n_bins, alpha=0.3)\n",
    "\n",
    "# ax.hist(red_dim_coords_tot[index_apo_end:index_tot_end,0], color='dodgerblue', range=(min_pc, max_pc), bins=n_bins, histtype=\"step\")\n",
    "# ax.hist(red_dim_coords_tot[index_apo_end:index_tot_end,0], color='dodgerblue', range=(min_pc, max_pc), bins=n_bins, alpha=0.3)\n",
    "\n",
    "ax.hist(red_dim_coords_mtot[0:index_apo_end,0], color=m, range=(min_pc, max_pc), bins=n_bins, histtype=\"step\")\n",
    "ax.hist(red_dim_coords_mtot[0:index_apo_end,0], color=m, range=(min_pc, max_pc), bins=n_bins, alpha=0.3)\n",
    "\n",
    "ax.hist(red_dim_coords_mtot[index_apo_end:index_tot_end,0], color=h, range=(min_pc, max_pc), bins=n_bins, histtype=\"step\")\n",
    "ax.hist(red_dim_coords_mtot[index_apo_end:index_tot_end,0], color=h, range=(min_pc, max_pc), bins=n_bins, alpha=0.3)\n",
    "\n",
    "legend_elements = [Line2D([0], [0], color=m, lw=2, label='Mutant'),Line2D([0], [0], color=h, lw=2, label='Holo')]\n",
    "ax.legend(['Mutant','Holo'], frameon=False, fontsize=16, handles = legend_elements)\n",
    "\n",
    "ax.set_title(\"Mutant vs. Holo population\", fontsize=16)\n",
    "\n",
    "fig.tight_layout()\n",
    "# fig.savefig(output_folder+'/IMAGES/histograms_mut_holo.pdf')\n",
    "# fig.savefig('histograms_mut_holo.png',dpi=500,bbox_inches='tight')\n",
    "plt.show()"
   ]
  },
  {
   "cell_type": "code",
   "execution_count": 19,
   "id": "2bfc809d-7f62-4a69-b16f-c7fc19b6ac6c",
   "metadata": {},
   "outputs": [
    {
     "name": "stderr",
     "output_type": "stream",
     "text": [
      "/tmp/ipykernel_6976/2449378152.py:31: UserWarning: You have mixed positional and keyword arguments, some input may be discarded.\n",
      "  ax.legend(['Mutant','Holo'], frameon=False, fontsize=16, handles = legend_elements)\n"
     ]
    },
    {
     "data": {
      "image/png": "[encoded data removed]",
      "text/plain": [
       "<Figure size 500x500 with 1 Axes>"
      ]
     },
     "metadata": {},
     "output_type": "display_data"
    }
   ],
   "source": [
    "fig, ax = plt.subplots(1,1, figsize=(5,5), sharey=True, sharex=True)\n",
    "\n",
    "min_pc = -4\n",
    "max_pc = 5\n",
    "\n",
    "sns.despine()\n",
    "ax.set_xlim([min_pc,max_pc])\n",
    "ax.set_xticks([-3,-2,-1,0,1,2,3,4])\n",
    "ax.tick_params(axis = 'both', which = 'major', labelsize = 16)\n",
    "ax.set_xlabel(\"PC1\", fontsize=20)\n",
    "ax.set_ylabel(\"# Count\", fontsize=20)\n",
    "\n",
    "a = 'green'\n",
    "h = 'dodgerblue'\n",
    "m = 'red'\n",
    "hm = 'orange'\n",
    "\n",
    "# ax.hist(red_dim_coords_tot[0:index_apo_end,0], color='green', range=(min_pc, max_pc), bins=n_bins, histtype=\"step\")\n",
    "# ax.hist(red_dim_coords_tot[0:index_apo_end,0], color='green', range=(min_pc, max_pc), bins=n_bins, alpha=0.3)\n",
    "\n",
    "# ax.hist(red_dim_coords_tot[index_apo_end:index_tot_end,0], color='dodgerblue', range=(min_pc, max_pc), bins=n_bins, histtype=\"step\")\n",
    "# ax.hist(red_dim_coords_tot[index_apo_end:index_tot_end,0], color='dodgerblue', range=(min_pc, max_pc), bins=n_bins, alpha=0.3)\n",
    "\n",
    "ax.hist(red_dim_coords_mtot2[0:index_apo_end,0], color=m, range=(min_pc, max_pc), bins=n_bins, histtype=\"step\")\n",
    "ax.hist(red_dim_coords_mtot2[0:index_apo_end,0], color=m, range=(min_pc, max_pc), bins=n_bins, alpha=0.3)\n",
    "\n",
    "ax.hist(red_dim_coords_mtot2[index_apo_end:index_tot_end,0], color=hm, range=(min_pc, max_pc), bins=n_bins, histtype=\"step\")\n",
    "ax.hist(red_dim_coords_mtot2[index_apo_end:index_tot_end,0], color=hm, range=(min_pc, max_pc), bins=n_bins, alpha=0.3)\n",
    "\n",
    "legend_elements = [Line2D([0], [0], color=m, lw=2, label='Apo-5P'),Line2D([0], [0], color=hm, lw=2, label='Holo-5P')]\n",
    "ax.legend(['Mutant','Holo'], frameon=False, fontsize=16, handles = legend_elements)\n",
    "\n",
    "ax.set_title(\"Apo-mutant vs. Holo-mutant population\", fontsize=16)\n",
    "\n",
    "fig.tight_layout()\n",
    "fig.savefig(output_folder+'/IMAGES/histograms_mut_holo.pdf',bbox_inches='tight')\n",
    "fig.savefig('histograms_apo5p_holo5p.png',dpi=500,bbox_inches='tight')\n",
    "plt.show()"
   ]
  },
  {
   "cell_type": "code",
   "execution_count": 20,
   "id": "b37b66b8-6924-4997-a8d8-433908e18b5a",
   "metadata": {},
   "outputs": [
    {
     "name": "stderr",
     "output_type": "stream",
     "text": [
      "/tmp/ipykernel_6976/533813785.py:30: UserWarning: You have mixed positional and keyword arguments, some input may be discarded.\n",
      "  ax.legend(['Apo','Holo'], frameon=False, fontsize=16, handles = legend_elements)\n"
     ]
    },
    {
     "data": {
      "image/png": "[encoded data removed]",
      "text/plain": [
       "<Figure size 500x500 with 1 Axes>"
      ]
     },
     "metadata": {},
     "output_type": "display_data"
    }
   ],
   "source": [
    "fig, ax = plt.subplots(1,1, figsize=(5,5), sharey=True, sharex=True)\n",
    "\n",
    "min_pc = -4\n",
    "max_pc = 5\n",
    "\n",
    "sns.despine()\n",
    "ax.set_xlim([min_pc,max_pc])\n",
    "ax.set_xticks([-3,-2,-1,0,1,2,3,4])\n",
    "ax.tick_params(axis = 'both', which = 'major', labelsize = 16)\n",
    "ax.set_xlabel(\"PC1\", fontsize=20)\n",
    "ax.set_ylabel(\"# Count\", fontsize=20)\n",
    "\n",
    "a = 'green'\n",
    "h = 'dodgerblue'\n",
    "m = 'red'\n",
    "\n",
    "ax.hist(red_dim_coords_tot2[0:index_apo_end,0], color='green', range=(min_pc, max_pc), bins=n_bins, histtype=\"step\")\n",
    "ax.hist(red_dim_coords_tot2[0:index_apo_end,0], color='green', range=(min_pc, max_pc), bins=n_bins, alpha=0.3)\n",
    "\n",
    "ax.hist(red_dim_coords_tot2[index_apo_end:index_tot_end,0], color='dodgerblue', range=(min_pc, max_pc), bins=n_bins, histtype=\"step\")\n",
    "ax.hist(red_dim_coords_tot2[index_apo_end:index_tot_end,0], color='dodgerblue', range=(min_pc, max_pc), bins=n_bins, alpha=0.3)\n",
    "\n",
    "# ax.hist(red_dim_coords_mtot[0:index_apo_end,0], color=m, range=(min_pc, max_pc), bins=n_bins, histtype=\"step\")\n",
    "# ax.hist(red_dim_coords_mtot[0:index_apo_end,0], color=m, range=(min_pc, max_pc), bins=n_bins, alpha=0.3)\n",
    "\n",
    "# ax.hist(red_dim_coords_mtot[index_apo_end:index_tot_end,0], color=h, range=(min_pc, max_pc), bins=n_bins, histtype=\"step\")\n",
    "# ax.hist(red_dim_coords_mtot[index_apo_end:index_tot_end,0], color=h, range=(min_pc, max_pc), bins=n_bins, alpha=0.3)\n",
    "\n",
    "legend_elements = [Line2D([0], [0], color=a, lw=2, label='Apo'),Line2D([0], [0], color=h, lw=2, label='Holo')]\n",
    "ax.legend(['Apo','Holo'], frameon=False, fontsize=16, handles = legend_elements)\n",
    "\n",
    "ax.set_title(\"Apo vs. Holo population\", fontsize=16)\n",
    "\n",
    "fig.tight_layout()\n",
    "# fig.savefig(output_folder+'/IMAGES/histograms_apo_holo.pdf')\n",
    "# fig.savefig('histograms_apo_holo.png',dpi=500,bbox_inches='tight')\n",
    "plt.show()"
   ]
  },
  {
   "cell_type": "code",
   "execution_count": 24,
   "id": "163710e3-d08c-4a86-8b42-c280c74f6726",
   "metadata": {},
   "outputs": [
    {
     "data": {
      "text/plain": [
       "62.400000000000006"
      ]
     },
     "execution_count": 24,
     "metadata": {},
     "output_type": "execute_result"
    }
   ],
   "source": [
    "240*0.26"
   ]
  },
  {
   "cell_type": "code",
   "execution_count": 21,
   "id": "4d28b91c-fa58-42d3-a469-9ca4d6dcc886",
   "metadata": {},
   "outputs": [
    {
     "name": "stdout",
     "output_type": "stream",
     "text": [
      "KL Divergence: 0.6657627599310917\n"
     ]
    }
   ],
   "source": [
    "import numpy as np\n",
    "from scipy.stats import entropy\n",
    "\n",
    "# Define two probability distributions (can be arrays, lists, or pandas Series)\n",
    "p = np.array(red_dim_coords_tot2[0:index_apo_end,0])\n",
    "q = np.array(red_dim_coords_tot2[index_apo_end:index_tot_end,0])\n",
    "\n",
    "# Manually set bin edges\n",
    "custom_bin_edges = np.linspace(min(np.min(p), np.min(q)), max(np.max(p), np.max(q)), num=400)\n",
    "\n",
    "# Compute histograms to estimate the probability distributions\n",
    "hist1, bin_edges1 = np.histogram(p, bins=custom_bin_edges, density=True)\n",
    "hist2, bin_edges2 = np.histogram(q, bins=custom_bin_edges, density=True)\n",
    "\n",
    "# Add a small constant to avoid zero values\n",
    "epsilon = 1e-10\n",
    "hist1 = hist1 + epsilon\n",
    "hist2 = hist2 + epsilon\n",
    "\n",
    "# Normalize distributions to ensure they sum to 1\n",
    "hist1 /= np.sum(hist1)\n",
    "hist2 /= np.sum(hist2)\n",
    "\n",
    "\n",
    "# Compute KL divergence\n",
    "kl_divergence1 = entropy(hist1, hist2)\n",
    "kl_divergence2 = entropy(hist2, hist1)\n",
    "\n",
    "kl_divergence = (kl_divergence1 + kl_divergence2) / 2\n",
    "\n",
    "print(f\"KL Divergence: {kl_divergence}\")"
   ]
  },
  {
   "cell_type": "code",
   "execution_count": 22,
   "id": "824b96c7-13d8-4879-a1c9-4bc437680a1d",
   "metadata": {},
   "outputs": [
    {
     "name": "stdout",
     "output_type": "stream",
     "text": [
      "KL Divergence Mutant: 1.7841582987297082\n"
     ]
    }
   ],
   "source": [
    "# Define two probability distributions (can be arrays, lists, or pandas Series)\n",
    "p = np.array(red_dim_coords_mtot[0:index_apo_end,0])\n",
    "q = np.array(red_dim_coords_mtot[index_apo_end:index_tot_end,0])\n",
    "\n",
    "# Manually set bin edges\n",
    "custom_bin_edges = np.linspace(min(np.min(p), np.min(q)), max(np.max(p), np.max(q)), num=400)\n",
    "\n",
    "# Compute histograms to estimate the probability distributions\n",
    "hist1, bin_edges1 = np.histogram(p, bins=custom_bin_edges, density=True)\n",
    "hist2, bin_edges2 = np.histogram(q, bins=custom_bin_edges, density=True)\n",
    "\n",
    "# Add a small constant to avoid zero values\n",
    "# epsilon = 1e-10\n",
    "hist1 = hist1 + epsilon\n",
    "hist2 = hist2 + epsilon\n",
    "\n",
    "# Normalize distributions to ensure they sum to 1\n",
    "hist1 /= np.sum(hist1)\n",
    "hist2 /= np.sum(hist2)\n",
    "\n",
    "\n",
    "# Compute KL divergence\n",
    "kl_divergence1 = entropy(hist1, hist2)\n",
    "kl_divergence2 = entropy(hist2, hist1)\n",
    "\n",
    "kl_divergence = (kl_divergence1 + kl_divergence2) / 2\n",
    "\n",
    "print(f\"KL Divergence Mutant: {kl_divergence}\")"
   ]
  },
  {
   "cell_type": "code",
   "execution_count": 23,
   "id": "e0048e9f-5c3b-4676-8234-8cfcc7a1754f",
   "metadata": {},
   "outputs": [
    {
     "name": "stdout",
     "output_type": "stream",
     "text": [
      "KL Divergence Mutant Apo-Holo: 1.8505326255700771\n"
     ]
    }
   ],
   "source": [
    "# Define two probability distributions (can be arrays, lists, or pandas Series)\n",
    "p = np.array(red_dim_coords_mtot2[0:index_apo_end,0])\n",
    "q = np.array(red_dim_coords_mtot2[index_apo_end:index_tot_end,0])\n",
    "\n",
    "# Manually set bin edges\n",
    "custom_bin_edges = np.linspace(min(np.min(p), np.min(q)), max(np.max(p), np.max(q)), num=400)\n",
    "\n",
    "# Compute histograms to estimate the probability distributions\n",
    "hist1, bin_edges1 = np.histogram(p, bins=custom_bin_edges, density=True)\n",
    "hist2, bin_edges2 = np.histogram(q, bins=custom_bin_edges, density=True)\n",
    "\n",
    "# Add a small constant to avoid zero values\n",
    "# epsilon = 1e-10\n",
    "hist1 = hist1 + epsilon\n",
    "hist2 = hist2 + epsilon\n",
    "\n",
    "# Normalize distributions to ensure they sum to 1\n",
    "hist1 /= np.sum(hist1)\n",
    "hist2 /= np.sum(hist2)\n",
    "\n",
    "\n",
    "# Compute KL divergence\n",
    "kl_divergence1 = entropy(hist1, hist2)\n",
    "kl_divergence2 = entropy(hist2, hist1)\n",
    "\n",
    "kl_divergence = (kl_divergence1 + kl_divergence2) / 2\n",
    "\n",
    "print(f\"KL Divergence Mutant Apo-Holo: {kl_divergence}\")"
   ]
  },
  {
   "cell_type": "code",
   "execution_count": 7,
   "id": "028a4056",
   "metadata": {},
   "outputs": [
    {
     "name": "stderr",
     "output_type": "stream",
     "text": [
      "<ipython-input-7-7d736d3aa5b7>:27: UserWarning: You have mixed positional and keyword arguments, some input may be discarded.\n",
      "  ax.legend(['Apo','Holo'], frameon=False, fontsize=16, handles = legend_elements)\n"
     ]
    },
    {
     "data": {
      "image/png": "[encoded data removed]",
      "text/plain": [
       "<Figure size 360x360 with 1 Axes>"
      ]
     },
     "metadata": {
      "needs_background": "light"
     },
     "output_type": "display_data"
    }
   ],
   "source": [
    "fig, ax = plt.subplots(1,1, figsize=(5,5), sharey=True, sharex=True)\n",
    "\n",
    "min_pc = -4\n",
    "max_pc = 5\n",
    "\n",
    "sns.despine()\n",
    "ax.set_xlim([min_pc,max_pc])\n",
    "ax.set_ylim([0,1600])\n",
    "ax.set_xticks([-4,-3,-2,-1,0,1,2,3,4])\n",
    "ax.tick_params(axis = 'both', which = 'major', labelsize = 16)\n",
    "ax.set_xlabel(\"PC1\", fontsize=20)\n",
    "ax.set_ylabel(\"# Count\", fontsize=20)\n",
    "\n",
    "ax.hist(red_dim_coords_tot[0:29400,0], color='#F3B562', range=(min_pc, max_pc), bins=n_bins, histtype=\"step\")\n",
    "ax.hist(red_dim_coords_tot[0:29400,0], color='#F3B562', range=(min_pc, max_pc), bins=n_bins, alpha=0.3)\n",
    "\n",
    "ax.hist(red_dim_coords_tot[29401:58800,0], color='teal', range=(min_pc, max_pc), bins=n_bins, histtype=\"step\")\n",
    "ax.hist(red_dim_coords_tot[29401:58800,0], color='teal', range=(min_pc, max_pc), bins=n_bins, alpha=0.3)\n",
    "\n",
    "# ax.hist(red_dim_coords_tot[58801:88200,0], color='red', range=(min_pc, max_pc), bins=n_bins, histtype=\"step\")\n",
    "# ax.hist(red_dim_coords_tot[58801:88200,0], color='red', range=(min_pc, max_pc), bins=n_bins, alpha=0.3)\n",
    "\n",
    "ax.hist(red_dim_coords_apo[:,0], color='red', range=(min_pc, max_pc), bins=n_bins, histtype=\"step\")\n",
    "ax.hist(red_dim_coords_apo[:,0], color='red', range=(min_pc, max_pc), bins=n_bins, alpha=0.3)\n",
    "\n",
    "legend_elements = [Line2D([0], [0], color='#F3B562', lw=2, label='Apo'),Line2D([0], [0], color='teal', lw=2, label='Mutant'),Line2D([0], [0], color='red', lw=2, label='Holo')]\n",
    "ax.legend(['Apo','Holo'], frameon=False, fontsize=16, handles = legend_elements)\n",
    "ax.set_title(\"Apo vs. Mutant population\", fontsize=16)\n",
    "\n",
    "fig.tight_layout()\n",
    "fig.savefig(output_folder+'/IMAGES/histograms_apo_pc_cert_holo_0t.pdf')\n",
    "plt.show()"
   ]
  },
  {
   "cell_type": "markdown",
   "id": "42f7905e",
   "metadata": {},
   "source": [
    "### Clustering\n"
   ]
  },
  {
   "cell_type": "code",
   "execution_count": 11,
   "id": "75aef24a",
   "metadata": {},
   "outputs": [
    {
     "name": "stdout",
     "output_type": "stream",
     "text": [
      "Unique cluster found with set parameters.\n"
     ]
    },
    {
     "ename": "KeyboardInterrupt",
     "evalue": "",
     "output_type": "error",
     "traceback": [
      "\u001b[0;31m---------------------------------------------------------------------------\u001b[0m",
      "\u001b[0;31mKeyboardInterrupt\u001b[0m                         Traceback (most recent call last)",
      "Cell \u001b[0;32mIn [11], line 6\u001b[0m\n\u001b[1;32m      3\u001b[0m clone_apoholo \u001b[38;5;241m=\u001b[39m CLoNe(pdc\u001b[38;5;241m=\u001b[39m\u001b[38;5;241m6\u001b[39m)\n\u001b[1;32m      5\u001b[0m clone_apo\u001b[38;5;241m.\u001b[39mfit(red_dim_coords_tot[\u001b[38;5;241m0\u001b[39m:index_apo_end,\u001b[38;5;241m0\u001b[39m]\u001b[38;5;241m.\u001b[39mreshape(\u001b[38;5;241m-\u001b[39m\u001b[38;5;241m1\u001b[39m, \u001b[38;5;241m1\u001b[39m)) \n\u001b[0;32m----> 6\u001b[0m \u001b[43mclone_holo\u001b[49m\u001b[38;5;241;43m.\u001b[39;49m\u001b[43mfit\u001b[49m\u001b[43m(\u001b[49m\u001b[43mred_dim_coords_tot\u001b[49m\u001b[43m[\u001b[49m\u001b[43mindex_apo_end\u001b[49m\u001b[43m:\u001b[49m\u001b[43mindex_tot_end\u001b[49m\u001b[43m,\u001b[49m\u001b[38;5;241;43m0\u001b[39;49m\u001b[43m]\u001b[49m\u001b[38;5;241;43m.\u001b[39;49m\u001b[43mreshape\u001b[49m\u001b[43m(\u001b[49m\u001b[38;5;241;43m-\u001b[39;49m\u001b[38;5;241;43m1\u001b[39;49m\u001b[43m,\u001b[49m\u001b[43m \u001b[49m\u001b[38;5;241;43m1\u001b[39;49m\u001b[43m)\u001b[49m\u001b[43m)\u001b[49m\n",
      "File \u001b[0;32m/data/lucaa/software/CLoNe/clone.py:287\u001b[0m, in \u001b[0;36mCLoNe.fit\u001b[0;34m(self, vectors)\u001b[0m\n\u001b[1;32m    284\u001b[0m cl_knn_dist, cl_knn_idx \u001b[38;5;241m=\u001b[39m nbrs\u001b[38;5;241m.\u001b[39mkneighbors(cl_v)\n\u001b[1;32m    286\u001b[0m \u001b[38;5;66;03m# Gaussian based on core of center\u001b[39;00m\n\u001b[0;32m--> 287\u001b[0m cl_ordered_knn_dens \u001b[38;5;241m=\u001b[39m \u001b[43mnp\u001b[49m\u001b[38;5;241;43m.\u001b[39;49m\u001b[43mexp\u001b[49m\u001b[43m(\u001b[49m\u001b[38;5;241;43m-\u001b[39;49m\u001b[38;5;241;43m1\u001b[39;49m\u001b[43m \u001b[49m\u001b[38;5;241;43m*\u001b[39;49m\u001b[43m \u001b[49m\u001b[43mnp\u001b[49m\u001b[38;5;241;43m.\u001b[39;49m\u001b[43msquare\u001b[49m\u001b[43m(\u001b[49m\u001b[43mcl_knn_dist\u001b[49m\u001b[43m \u001b[49m\u001b[38;5;241;43m/\u001b[39;49m\u001b[43m \u001b[49m\u001b[43mcore_dc\u001b[49m\u001b[43m)\u001b[49m\u001b[43m)\u001b[49m\n\u001b[1;32m    289\u001b[0m \u001b[38;5;66;03m# Get local densities by summing over rows\u001b[39;00m\n\u001b[1;32m    290\u001b[0m cl_summed_okd \u001b[38;5;241m=\u001b[39m cl_ordered_knn_dens\u001b[38;5;241m.\u001b[39mcumsum(axis\u001b[38;5;241m=\u001b[39m\u001b[38;5;241m1\u001b[39m) \u001b[38;5;241m-\u001b[39m \u001b[38;5;241m1\u001b[39m\n",
      "\u001b[0;31mKeyboardInterrupt\u001b[0m: "
     ]
    }
   ],
   "source": [
    "clone_apo = CLoNe(pdc=10)\n",
    "clone_holo = CLoNe(pdc=pdc)\n",
    "clone_apoholo = CLoNe(pdc=6)\n",
    "\n",
    "clone_apo.fit(red_dim_coords_tot[0:index_apo_end,0].reshape(-1, 1)) \n",
    "clone_holo.fit(red_dim_coords_tot[index_apo_end:index_tot_end,0].reshape(-1, 1)) \n",
    "#clone_apoholo.fit(red_dim_coords_tot[:,3].reshape(-1, 1))   "
   ]
  },
  {
   "cell_type": "code",
   "execution_count": 3,
   "id": "3e160059-7b9a-4951-96d2-a5b5639be822",
   "metadata": {},
   "outputs": [],
   "source": [
    "vol_wt = np.loadtxt('stard11_apo_allatom_in_water/pocket/mdpout_descriptors.txt', skiprows=1, unpack=True)\n",
    "vol_mut = np.loadtxt('cert_5p/pocket/mdpout_descriptors.txt', skiprows=1, unpack=True)\n",
    "vol_tot = [[],[]]\n",
    "vol_tot[0] = vol_wt[1]\n",
    "vol_tot[1] = vol_mut[1]"
   ]
  },
  {
   "cell_type": "code",
   "execution_count": 4,
   "id": "d326cc5a-e979-4f1f-8e46-ced0da29b7ed",
   "metadata": {},
   "outputs": [
    {
     "name": "stdout",
     "output_type": "stream",
     "text": [
      "[array([1262.59, 1617.83, 1510.92, ..., 1402.24, 1472.05, 1128.69]), array([1204.99, 1285.99, 1394.39, ...,  932.96,  922.21,  863.36])]\n"
     ]
    }
   ],
   "source": [
    "print (vol_tot)"
   ]
  },
  {
   "cell_type": "code",
   "execution_count": 15,
   "id": "942d28b5-a8fd-4c55-b113-4a1ca3716c86",
   "metadata": {},
   "outputs": [
    {
     "data": {
      "image/png": "[encoded data removed]",
      "text/plain": [
       "<Figure size 800x600 with 1 Axes>"
      ]
     },
     "metadata": {},
     "output_type": "display_data"
    }
   ],
   "source": [
    "fig, ax = plt.subplots(figsize=(8, 6))\n",
    "\n",
    "medianprops = dict(color=\"black\",linewidth=1.5)\n",
    "names = [\"WT\",\"Mutant\"]\n",
    "colors = [\"blue\", \"orange\", \"green\", \"red\", \"purple\"]\n",
    "for i in range(2):\n",
    "    protein_data = vol_tot[i]\n",
    "    \n",
    "    bp = ax.boxplot(protein_data, positions=[i * 3 +1], \n",
    "                    widths=0.5, patch_artist=True, medianprops=medianprops, flierprops={'marker': 'D', 'markerfacecolor': 'black', 'markeredgecolor': 'gray'},\n",
    "                    boxprops=dict(facecolor=colors[i]))\n",
    "    \n",
    "    # Set facecolor of boxes\n",
    "    # patch.set_facecolor(colors[i])\n",
    "    \n",
    "    \n",
    "    ax.set_xticks([])  \n",
    "    ax.tick_params(left=True, labelsize = 15, length = 4)\n",
    "    \n",
    "    ax.text((i * 3 + 1), -45, names[i], rotation=0, ha='center', fontsize=15)\n",
    "    \n",
    "    # Set labels and title\n",
    "    ax.set_xlabel('Protein',labelpad=25, x=0.5, fontsize=15, fontweight='bold')\n",
    "    ax.set_ylabel('Volume', fontsize = 15, fontweight='bold')\n",
    "    #ax.set_title('Interaction of the Domains with the PM',fontsize = 15)\n",
    "    \n",
    "    # Draw vertical dashed line after every three boxplots\n",
    "    # if i < len(proteins) - 1:\n",
    "    #     ax.axvline((i + 1) * 3 + 0.5, color='gray', linestyle='--')\n",
    "\n",
    "# Create custom legend\n",
    "#legend_labels = ['Unmodified', '\\u03BB_PW = 1.10', '\\u03BB_PP = 0.88']\n",
    "# legend_labels = ['Unmodified', '$\\u03BB_{PW}$ = 1.10', '$\\u03BB_{PP}$ = 0.88']\n",
    "# legend_handles = [plt.Rectangle((0,0),1,1,fc=color) for color in colors]\n",
    "# ax.legend(legend_handles, legend_labels, loc='upper left', fontsize = 22)\n",
    "\n",
    "ax.spines['left'].set_linewidth(2.5)  \n",
    "ax.spines['bottom'].set_linewidth(2.5)\n",
    "ax.spines['left'].set_color('gray') \n",
    "ax.spines['bottom'].set_color('gray')\n",
    "\n",
    "ax.spines['right'].set_visible(False)\n",
    "ax.spines['top'].set_visible(False)\n",
    "\n",
    "plt.tight_layout()\n",
    "\n",
    "#plt.ylim([0,100])\n",
    "plt.show()\n",
    "\n",
    "fig.savefig(\"Volume_STARD11.png\", dpi=400, bbox_inches = 'tight')"
   ]
  },
  {
   "cell_type": "markdown",
   "id": "57c77232",
   "metadata": {},
   "source": [
    "# Population analysis"
   ]
  },
  {
   "cell_type": "code",
   "execution_count": 9,
   "id": "5d45363d",
   "metadata": {},
   "outputs": [
    {
     "ename": "NameError",
     "evalue": "name 'clone_apoholo' is not defined",
     "output_type": "error",
     "traceback": [
      "\u001b[0;31m---------------------------------------------------------------------------\u001b[0m",
      "\u001b[0;31mNameError\u001b[0m                                 Traceback (most recent call last)",
      "Cell \u001b[0;32mIn [9], line 1\u001b[0m\n\u001b[0;32m----> 1\u001b[0m clusters \u001b[38;5;241m=\u001b[39m np\u001b[38;5;241m.\u001b[39munique(\u001b[43mclone_apoholo\u001b[49m\u001b[38;5;241m.\u001b[39mlabels_)\n\u001b[1;32m      2\u001b[0m labels_apo \u001b[38;5;241m=\u001b[39m clone_apoholo\u001b[38;5;241m.\u001b[39mlabels_[\u001b[38;5;241m0\u001b[39m:index_apo_end]\n\u001b[1;32m      3\u001b[0m labels_holo \u001b[38;5;241m=\u001b[39m clone_apoholo\u001b[38;5;241m.\u001b[39mlabels_[index_apo_end:index_tot_end]\n",
      "\u001b[0;31mNameError\u001b[0m: name 'clone_apoholo' is not defined"
     ]
    }
   ],
   "source": [
    "clusters = np.unique(clone_apoholo.labels_)\n",
    "labels_apo = clone_apoholo.labels_[0:index_apo_end]\n",
    "labels_holo = clone_apoholo.labels_[index_apo_end:index_tot_end]\n",
    "pop_list = []\n",
    "for label in clusters:\n",
    "    \n",
    "    count_apo = np.count_nonzero(labels_apo == label)\n",
    "    count_holo = np.count_nonzero(labels_holo == label)\n",
    "    count_tot= np.count_nonzero(clone_apoholo.labels_[0:index_tot_end] == label)\n",
    "    pop_list.append([label, count_apo/count_tot*100, count_holo/count_tot*100, count_tot/len(clone_apoholo.labels_)*100])\n",
    "    #print(label, count_apo, count_holo, count_tot)\n",
    "\n",
    "df = pd.DataFrame(pop_list, columns=['cluster', 'frames apo (%)', 'frames holo (%)', 'cluster relevance (%)'])  \n",
    "\n",
    "df.to_csv(output_folder+'/'+tot_name+\"_1/population_analysis.txt\", sep=\" \", float_format=\"%2.2f\")"
   ]
  },
  {
   "cell_type": "markdown",
   "id": "f75bd191",
   "metadata": {},
   "source": [
    "# Cluster plots"
   ]
  },
  {
   "cell_type": "code",
   "execution_count": 16,
   "id": "e8c47cf8",
   "metadata": {},
   "outputs": [
    {
     "name": "stderr",
     "output_type": "stream",
     "text": [
      "/Users/andrea/anaconda3/lib/python3.7/site-packages/scipy/stats/stats.py:1713: FutureWarning: Using a non-tuple sequence for multidimensional indexing is deprecated; use `arr[tuple(seq)]` instead of `arr[seq]`. In the future this will be interpreted as an array index, `arr[np.array(seq)]`, which will result either in an error or a different result.\n",
      "  return np.add.reduce(sorted[indexer] * weights, axis=axis) / sumval\n"
     ]
    },
    {
     "data": {
      "image/png": "[encoded data removed]",
      "text/plain": [
       "<Figure size 288x144 with 2 Axes>"
      ]
     },
     "metadata": {
      "needs_background": "light"
     },
     "output_type": "display_data"
    },
    {
     "data": {
      "image/png": "[encoded data removed]",
      "text/plain": [
       "<Figure size 288x288 with 1 Axes>"
      ]
     },
     "metadata": {
      "needs_background": "light"
     },
     "output_type": "display_data"
    }
   ],
   "source": [
    "pca_headers = [\"PC%i\"%(x + 1) for x in range(n_pca)]\n",
    "plot_clusters(clone_apo, red_dim_coords_tot[0:index_apo_end,0].reshape(-1, 1), output_folder+'/apo_1',pca_headers[:2] ) \n",
    "#plot_clusters(clone_holo, red_dim_coords_tot[index_apo_end:index_tot_end,0].reshape(-1, 1), output_folder+'/holo_1',pca_headers[:2] )\n",
    "#plot_clusters(clone_apoholo, red_dim_coords_tot[:,3].reshape(-1, 1), output_folder+'/'+tot_name+'_1',pca_headers[:2] )"
   ]
  },
  {
   "cell_type": "markdown",
   "id": "7bd6db78",
   "metadata": {},
   "source": [
    "# Save clusters"
   ]
  },
  {
   "cell_type": "code",
   "execution_count": 11,
   "id": "6a202c8e",
   "metadata": {},
   "outputs": [],
   "source": [
    "# Load trajectories\n",
    "struct_apo = mdtraj.load(trj_apo, top=topo_apo)\n",
    "struct_holo = mdtraj.load(trj_holo, top=topo_apo)\n",
    "struct_apoholo = mdtraj.load(trj_tot, top=topo_apo)"
   ]
  },
  {
   "cell_type": "code",
   "execution_count": 12,
   "id": "ed432f31",
   "metadata": {},
   "outputs": [
    {
     "data": {
      "text/plain": [
       "[None, None, None]"
      ]
     },
     "execution_count": 12,
     "metadata": {},
     "output_type": "execute_result"
    }
   ],
   "source": [
    "unique_labels = range(len(clone_apoholo.centers)) \n",
    "folder = output_folder+'/'+tot_name+'_1'\n",
    "\n",
    "# Save center\n",
    "[struct_apoholo[center].save(folder+\"/Center_%d.pdb\"%(center_id + 1)) for center, center_id in zip(clone_apoholo.centers, unique_labels)]\n",
    "# Save trajs\n",
    "[struct_apo[clone_apoholo.labels_[0:index_apo_end] == lab].save(folder+\"/Cluster_apo_%d.xtc\"%(lab + 1)) for lab in unique_labels]\n",
    "[struct_holo[clone_apoholo.labels_[index_apo_end:] == lab].save(folder+\"/Cluster_holo_%d.xtc\"%(lab + 1)) for lab in unique_labels]"
   ]
  },
  {
   "cell_type": "markdown",
   "id": "b9fee76b",
   "metadata": {},
   "source": [
    "# Save extreme structures"
   ]
  },
  {
   "cell_type": "code",
   "execution_count": 13,
   "id": "3c6405c8",
   "metadata": {},
   "outputs": [],
   "source": [
    "minframe=[100,-1,-2]\n",
    "maxframe=[-100,-1,-2]\n",
    "for frame in zip(red_dim_coords_tot[:,0].reshape(-1, 1), clone_apoholo.labels_, range(len(clone_apoholo.labels_))):\n",
    "    if frame[1] != -1:\n",
    "        if frame[0] < minframe[0]:\n",
    "            minframe = frame\n",
    "        if frame[0] > maxframe[0]:\n",
    "            maxframe = frame\n",
    "\n",
    "folder = output_folder+'/'+tot_name+'_1'\n",
    "struct_apoholo[minframe[2]].save(folder+\"/extremeleft.pdb\")          \n",
    "struct_apoholo[maxframe[2]].save(folder+\"/extremeright.pdb\")          \n"
   ]
  },
  {
   "cell_type": "code",
   "execution_count": 53,
   "id": "4ee6c399",
   "metadata": {},
   "outputs": [],
   "source": [
    "a = sorted(zip(red_dim_coords_tot[:,0].reshape(-1, 1), clone_apoholo.labels_, range(len(clone_apoholo.labels_))))\n",
    "a = [el for el in a if el[1] != -1]\n",
    "a[0]\n",
    "struct_apoholo[a[0][2]].save(folder+\"/extremeleft1.pdb\")\n",
    "struct_apoholo[a[1][2]].save(folder+\"/extremeleft2.pdb\")\n",
    "struct_apoholo[a[2][2]].save(folder+\"/extremeleft3.pdb\")\n",
    "struct_apoholo[a[3][2]].save(folder+\"/extremeleft4.pdb\")\n",
    "struct_apoholo[a[4][2]].save(folder+\"/extremeleft5.pdb\")\n",
    "\n",
    "struct_apoholo[a[-1][2]].save(folder+\"/extremeright1.pdb\")\n",
    "struct_apoholo[a[-2][2]].save(folder+\"/extremeright2.pdb\")\n",
    "struct_apoholo[a[-3][2]].save(folder+\"/extremeright3.pdb\")\n",
    "struct_apoholo[a[-4][2]].save(folder+\"/extremeright4.pdb\") \n",
    "struct_apoholo[a[-5][2]].save(folder+\"/extremeright5.pdb\")"
   ]
  },
  {
   "cell_type": "markdown",
   "id": "cd618c54",
   "metadata": {},
   "source": [
    " # Save  PC in B-fact"
   ]
  },
  {
   "cell_type": "code",
   "execution_count": 15,
   "id": "f6f59692",
   "metadata": {},
   "outputs": [],
   "source": [
    "folder = output_folder\n",
    "struct_apo = mdtraj.load(\"../mdm12_monomer_disulf_resid28-213_whichis_resid28-244incrystal/apo_wt_ca.xtc\", top=\"../mdm12_monomer_disulf_resid28-213_whichis_resid28-244incrystal/apo_ca.gro\")\n",
    "bfact_apo = np.append(np.append(np.zeros(15),np.insert(np.insert(calc_magn_vector(pca_apo.components_[0]),60,[0]*11),137,[0]*30)),np.zeros(6))\n",
    "bfact_holo = np.append(np.append(np.zeros(15),np.insert(np.insert(calc_magn_vector(pca_holo.components_[0]),60,[0]*11),137,[0]*30)),np.zeros(6))\n",
    "bfact_tot = np.append(np.append(np.zeros(15),np.insert(np.insert(calc_magn_vector(pca_tot.components_[0]),60,[0]*11),137,[0]*30)),np.zeros(6))\n",
    "struct_apo[0].save_pdb(\"apo_PCA.pdb\", bfactors=bfact_apo*100)\n",
    "struct_apo[0].save_pdb(\"mut_PCA.pdb\", bfactors=bfact_holo*100)\n",
    "struct_apo[0].save_pdb(\"tot_PCA.pdb\", bfactors=bfact_tot*100)"
   ]
  }
 ],
 "metadata": {
  "kernelspec": {
   "display_name": "Python 3 (ipykernel)",
   "language": "python",
   "name": "python3"
  },
  "language_info": {
   "codemirror_mode": {
    "name": "ipython",
    "version": 3
   },
   "file_extension": ".py",
   "mimetype": "text/x-python",
   "name": "python",
   "nbconvert_exporter": "python",
   "pygments_lexer": "ipython3",
   "version": "3.10.12"
  }
 },
 "nbformat": 4,
 "nbformat_minor": 5
}
