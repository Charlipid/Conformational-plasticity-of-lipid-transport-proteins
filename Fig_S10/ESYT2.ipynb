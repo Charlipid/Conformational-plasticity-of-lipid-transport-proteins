{
 "cells": [
  {
   "cell_type": "code",
   "execution_count": 7,
   "id": "seventh-reputation",
   "metadata": {},
   "outputs": [
    {
     "name": "stdout",
     "output_type": "stream",
     "text": [
      "Automatically created module for IPython interactive environment\n"
     ]
    }
   ],
   "source": [
    "import os\n",
    "import matplotlib.pyplot as plt\n",
    "import matplotlib.ticker as ticker\n",
    "from matplotlib.lines import Line2D\n",
    "from matplotlib import rc\n",
    "import seaborn as sns\n",
    "plt.rcParams['ps.useafm'] = True\n",
    "rc('font',**{'family':'sans-serif','sans-serif':['Helvetica']})\n",
    "\n",
    "import pandas as pd\n",
    "import time\n",
    "import shutil\n",
    "import argparse\n",
    "import numpy as np\n",
    "from sklearn.decomposition import PCA, KernelPCA\n",
    "from sklearn.preprocessing import StandardScaler\n",
    "import sys\n",
    "sys.path.append('/DATA/lucaa/software/CLoNe')\n",
    "\n",
    "from clone import CLoNe\n",
    "from plot import plot_clusters\n",
    "from structural_utils import load_md_args, show_cluster_info\n",
    "\n",
    "import mdtraj\n",
    "import pyemma\n",
    "\n",
    "print(__doc__)\n",
    "start = time.time()\n",
    "\n",
    "\n",
    "def calculate_pca(topo, traj, main_folder, syst, at_sel, n_pca ):\n",
    "    # Load trajectory\n",
    "    topology = mdtraj.load(topo).topology\n",
    "    struct_ens = mdtraj.load(traj, top=topo)\n",
    "\n",
    "    # Create result folder based on dataset nam\\e\n",
    "    if not os.path.exists(main_folder):\n",
    "        os.makedirs(main_folder)\n",
    "    out_idx =  1\n",
    "    output_folder = main_folder+\"/%s_%i/\"\n",
    "    while os.path.exists(output_folder%(syst, out_idx)):\n",
    "        out_idx += 1\n",
    "    output_folder = output_folder%(syst, out_idx)\n",
    "    os.makedirs(output_folder)\n",
    "    \n",
    "\n",
    "    selection = struct_ens.topology.select(at_sel)\n",
    "    coords = struct_ens.xyz[:, selection]\n",
    "    coords = coords.reshape(coords.shape[0], coords.shape[1] * coords.shape[2])\n",
    "    headers = [\"C%i\"%x for x in range(len(coords[0]))]  # general headers\n",
    "\n",
    "    # Principal component analysis\n",
    "    original_coords = coords.copy()\n",
    "    pca_obj = PCA(n_components=n_pca)\n",
    "    reddim_coords = pca_obj.fit_transform(coords)\n",
    "    eigenvalues = pca_obj.explained_variance_ratio_\n",
    "    ratio = np.sum(eigenvalues[:n_pca])\n",
    "    pca_headers = [\"PC%i (%.2f)\"%(x + 1, eigenvalues[x]) for x in range(n_pca)]\n",
    "    \n",
    "    print(\"> PCA: %i => %i dimension(s) with eigenval.: %s\"%(len(headers), n_pca, str(eigenvalues)))\n",
    "    print(\"sum of Variance: %s\"%(np.sum(eigenvalues)))\n",
    "    with open(\"%sPCA_coords.txt\"%output_folder, \"w\") as f:\n",
    "        for x in range(n_pca):\n",
    "            f.write(\"PC%i(%.2f) \"%(x + 1, eigenvalues[x]))\n",
    "        f.write(\"\\n\")\n",
    "        for el in reddim_coords:\n",
    "            for n in el:\n",
    "                f.write(\"%f \"%n)\n",
    "            f.write(\"\\n\")  \n",
    "    return pca_obj, reddim_coords, original_coords\n",
    "\n",
    "\n",
    "def calc_magn_vector(pc):\n",
    "    final_length = int(len(pc)/3)\n",
    "    pc_magn = np.empty(final_length)\n",
    "    \n",
    "    for i in range(final_length):\n",
    "        pc_magn[i] = np.sqrt(pc[i*3]**2+pc[i*3+1]**2+pc[i*3+2]**2)\n",
    "    \n",
    "    return pc_magn\n",
    "\n",
    "\n",
    "def save_pc_bfact(init_padding, length_pc, final_padding, structure, pc_component, outpdb):\n",
    "\n",
    "    pc_elongated = np.concatenate((np.zeros(init_padding),calc_magn_vector(pc_component),np.zeros(final_padding)))\n",
    "    system_length_res = len([residue for residue in structure.topology.residues])\n",
    "    system_length_atoms = len([ atom for atom in structure.topology.atoms])\n",
    "\n",
    "    syst_bfact=np.zeros(system_length_atoms)\n",
    "    index=0\n",
    "    for resid in range(system_length_res):\n",
    "        res_len = len(structure.topology.select('resid '+str(resid)))\n",
    "        res_bfact= res_len\n",
    "        syst_bfact[index:index+res_len] = pc_elongated[resid]\n",
    "        index += res_len\n",
    "\n",
    "    structure[0].save_pdb(outpdb, bfactors=syst_bfact*100)\n",
    "    \n",
    "# Check convercence PC\n",
    "def calculate_pca_convergence(topo, traj, main_folder, syst, at_sel, n_pca, nframes, nsim ):\n",
    "    # Load trajectory\n",
    "    topology = mdtraj.load(topo).topology\n",
    "    struct_ens = mdtraj.load(traj, top=topo)\n",
    "\n",
    "    # Create result folder based on dataset nam\\e\n",
    "    if not os.path.exists(main_folder):\n",
    "        os.makedirs(main_folder)\n",
    "    out_idx =  1\n",
    "    output_folder = main_folder+\"/%s_%i/\"\n",
    "    while os.path.exists(output_folder%(syst, out_idx)):\n",
    "        out_idx += 1\n",
    "    output_folder = output_folder%(syst, out_idx)\n",
    "    os.makedirs(output_folder)\n",
    "    \n",
    "    selection = struct_ens.topology.select(at_sel)\n",
    "    coords = struct_ens.xyz[:, selection]\n",
    "    coords = coords.reshape(coords.shape[0], coords.shape[1] * coords.shape[2])\n",
    "    headers = [\"C%i\"%x for x in range(len(coords[0]))]  # general headers\n",
    "    \n",
    "    frameslist = np.multiply(np.arange(1,nsim+1),nframes)\n",
    "    original_coords = coords.copy()\n",
    "    pcas_list = []\n",
    "    reddim_coords_list = []\n",
    "    print(np.shape(coords))\n",
    "    # Principal component analysis\n",
    "    for section in frameslist:\n",
    "        pca_obj = PCA(n_components=n_pca)\n",
    "        \n",
    "        reddim_coords = pca_obj.fit_transform(coords[0:section])\n",
    "        pcas_list.append(pca_obj)\n",
    "        #eigenvalues = pca_obj.explained_variance_ratio_\n",
    "        #ratio = np.sum(eigenvalues[:n_pca])\n",
    "        #pca_headers = [\"PC%i (%.2f)\"%(x + 1, eigenvalues[x]) for x in range(n_pca)]\n",
    "    \n",
    "        #print(\"> PCA: %i => %i dimension(s) with eigenval.: %s\"%(len(headers), n_pca, str(eigenvalues)))\n",
    "        #print(\"sum of Variance: %s\"%(np.sum(eigenvalues)))\n",
    "  \n",
    "    return pcas_list"
   ]
  },
  {
   "cell_type": "code",
   "execution_count": 2,
   "id": "unexpected-carolina",
   "metadata": {},
   "outputs": [],
   "source": [
    "# PARAMETERS SETUP\n",
    "\n",
    "# Clustering parameters \n",
    "pdc=8   # neighbour search during clusterint\n",
    "n_resize=4 \n",
    "filt=0.1 \n",
    "verbose=False\n",
    "n_pca=10 # number of PC to include in calculations \n",
    "n_bins= 100  # number of bins for PC hist\n",
    "# Simulations and topology \n",
    "\n",
    "trj_tot='smp_tot_chain1.xtc'   # concatenated total traj\n",
    "trj_tot_wres='smp_3states_chain1.xtc'\n",
    "\n",
    "topo_apo='apo_chain1.gro'  # pdb or gro of apo\n",
    "#topo_holo='22dog.gro' # pdb or gro of holo\n",
    "\n",
    "# Selection for PCA calculation (see mdtraj syntax)\n",
    "at_sel=\"name CA and residue 4 to 179\"  # try to exclude end loops or regions that move but are not interesting (hides the true PC)\n",
    "n_res=175   # number of residues (still manual insertion, i know...)\n",
    "resmin=4\n",
    "resmax=179\n",
    "feat=\"None\"\n",
    "\n",
    "output_folder = \"results\"\n",
    "\n",
    "apo_name=\"apo\"\n",
    "holo_name=\"holo\"\n",
    "tot_name=\"tot\""
   ]
  },
  {
   "cell_type": "code",
   "execution_count": 9,
   "id": "meaning-russian",
   "metadata": {},
   "outputs": [
    {
     "name": "stdout",
     "output_type": "stream",
     "text": [
      "> PCA: 528 => 10 dimension(s) with eigenval.: [0.3632338  0.16154808 0.06673901 0.05785625 0.04241489 0.0281762\n",
      " 0.02229902 0.01836157 0.0162691  0.013907  ]\n",
      "sum of Variance: 0.7908049\n"
     ]
    }
   ],
   "source": [
    "try:\n",
    "    os.mkdir(output_folder)\n",
    "except FileExistsError:\n",
    "    pass\n",
    "try:\n",
    "    os.mkdir(output_folder+'/IMAGES/')\n",
    "except FileExistsError:\n",
    "    pass\n",
    "# Calculate PCA\n",
    "#pca_apo, red_dim_coords_apo, orig_coords_apo = calculate_pca(topo_apo, trj_apo, output_folder, apo_name, at_sel, n_pca)\n",
    "#pca_holo, red_dim_coords_holo, orig_coords_holo = calculate_pca(topo_holo, trj_holo, output_folder, holo_name, at_sel, n_pca)\n",
    "pca_tot, red_dim_coords_tot, orig_coords_tot = calculate_pca(topo_apo, trj_tot, output_folder, tot_name, at_sel, n_pca)"
   ]
  },
  {
   "cell_type": "code",
   "execution_count": 10,
   "id": "living-dominant",
   "metadata": {},
   "outputs": [
    {
     "name": "stdout",
     "output_type": "stream",
     "text": [
      "> PCA: 528 => 10 dimension(s) with eigenval.: [0.32045849 0.19550644 0.06888537 0.05604967 0.03710073 0.03009798\n",
      " 0.02701014 0.01827619 0.01610845 0.01582107]\n",
      "sum of Variance: 0.7853145293341569\n"
     ]
    }
   ],
   "source": [
    "pca_tot_wres, red_dim_coords_tot_wres, orig_coords_tot_wres = calculate_pca(topo_apo, trj_tot_wres, output_folder, tot_name, at_sel, n_pca)"
   ]
  },
  {
   "cell_type": "code",
   "execution_count": 11,
   "id": "embedded-beijing",
   "metadata": {},
   "outputs": [],
   "source": [
    "index_apo_end= 29400 #np.shape(red_dim_coords_apo)[0]\n",
    "index_tot_end=np.shape(red_dim_coords_tot)[0]\n",
    "index_tot_wres_end=np.shape(red_dim_coords_tot_wres)[0]\n"
   ]
  },
  {
   "cell_type": "markdown",
   "id": "trained-message",
   "metadata": {},
   "source": [
    "Figures PC and histogrames checking that all pc apo, holo and tot are the same "
   ]
  },
  {
   "cell_type": "code",
   "execution_count": null,
   "id": "handmade-transfer",
   "metadata": {},
   "outputs": [],
   "source": [
    "fig, ax = plt.subplots(1,2, figsize=(10,3), sharex=True, sharey=True)\n",
    "n_res_pc = len(calc_magn_vector(pca_apo.components_[0]))\n",
    "# TODO: check dimensions or automatize axis generation \n",
    "tick_spacing = 20\n",
    "ax[0].xaxis.set_major_locator(ticker.MultipleLocator(tick_spacing))\n",
    "ax[0].tick_params(axis='x', rotation=90)\n",
    "\n",
    "ax[0].set_xlim(resmin,resmax)\n",
    "ax[0].plot(np.arange(resmin, resmax+1),calc_magn_vector(pca_tot.components_[0,0:528]), linewidth=0.8, color='green')\n",
    "ax[1].plot(np.arange(resmin, resmax+1),calc_magn_vector(pca_tot_wres.components_[0,0:528]), linewidth=0.8, color='dodgerblue')\n",
    "\n",
    "sns.despine()\n",
    "\n",
    "ax[0].legend(['Apo+Holo'], frameon=False)\n",
    "ax[1].legend(['Apo+Holo+Resample'], frameon=False)\n",
    "\n",
    "ax[0].set_xlabel(\"# Residue\", fontsize=20, labelpad=5)\n",
    "ax[1].set_xlabel(\"# Residue\", fontsize=20, labelpad=5)\n",
    "ax[0].set_ylabel(\"PC component (a.u.)\", fontsize=20, labelpad=5)\n",
    "fig.tight_layout()\n",
    "\n",
    "fig.savefig(output_folder+'/IMAGES/comparison_pc_apo_holo_tot.pdf')\n",
    "\n",
    "plt.show()"
   ]
  },
  {
   "cell_type": "code",
   "execution_count": 15,
   "id": "infinite-wagner",
   "metadata": {},
   "outputs": [
    {
     "data": {
      "image/png": "[encoded data removed]",
      "text/plain": [
       "<Figure size 360x360 with 1 Axes>"
      ]
     },
     "metadata": {
      "needs_background": "light"
     },
     "output_type": "display_data"
    }
   ],
   "source": [
    "fig, ax = plt.subplots(1,1, figsize=(5,5), sharey=True, sharex=True)\n",
    "\n",
    "min_pc = -4\n",
    "max_pc = 5\n",
    "\n",
    "sns.despine()\n",
    "ax.set_xlim([min_pc,max_pc])\n",
    "ax.set_xticks([-3,-2,-1,0,1,2,3,4])\n",
    "ax.tick_params(axis = 'both', which = 'major', labelsize = 16)\n",
    "ax.set_xlabel(\"PC1\", fontsize=20)\n",
    "ax.set_ylabel(\"# Count\", fontsize=20)\n",
    "#F3B562 #998EC3\n",
    "ax.hist(red_dim_coords_tot_wres[0:index_apo_end,0], color='#F3B562', range=(min_pc, max_pc), bins=n_bins, histtype=\"step\")\n",
    "ax.hist(red_dim_coords_tot_wres[0:index_apo_end,0], color='#F3B562', range=(min_pc, max_pc), bins=n_bins, alpha=0.3)\n",
    "\n",
    "ax.hist(red_dim_coords_tot_wres[index_apo_end:index_tot_end,0], color='#998EC3', range=(min_pc, max_pc), bins=n_bins, histtype=\"step\")\n",
    "ax.hist(red_dim_coords_tot_wres[index_apo_end:index_tot_end,0], color='#998EC3', range=(min_pc, max_pc), bins=n_bins, alpha=0.3)\n",
    "\n",
    "ax.hist(red_dim_coords_tot_wres[index_tot_end:index_tot_wres_end,0], color='forestgreen', range=(min_pc, max_pc), bins=n_bins, histtype=\"step\")\n",
    "ax.hist(red_dim_coords_tot_wres[index_tot_end:index_tot_wres_end,0], color='forestgreen', range=(min_pc, max_pc), bins=n_bins, alpha=0.3)\n",
    "\n",
    "legend_elements = [Line2D([0], [0], color='#F3B562', lw=2, label='Apo'),\n",
    "                   Line2D([0], [0], color='#998EC3', lw=2, label='Holo'), \n",
    "                   Line2D([0], [0], color='forestgreen', lw=2, label='Apo\\nresampling\\nfrom Holo')]\n",
    "ax.legend(frameon=False, fontsize=16, handles = legend_elements, loc=(1.05,0.7))\n",
    "#ax.set_title(\"Apo vs. Holo population\", fontsize=16)\n",
    "\n",
    "#fig.tight_layout()\n",
    "fig.savefig(output_folder+'/IMAGES/histograms_pc_withapofromholo.pdf')\n",
    "plt.show()"
   ]
  },
  {
   "cell_type": "code",
   "execution_count": 13,
   "id": "weekly-diesel",
   "metadata": {},
   "outputs": [],
   "source": []
  },
  {
   "cell_type": "code",
   "execution_count": 14,
   "id": "behavioral-transformation",
   "metadata": {},
   "outputs": [
    {
     "data": {
      "image/png": "[encoded data removed]",
      "text/plain": [
       "<Figure size 360x360 with 1 Axes>"
      ]
     },
     "metadata": {
      "needs_background": "light"
     },
     "output_type": "display_data"
    }
   ],
   "source": []
  },
  {
   "cell_type": "markdown",
   "id": "described-kingston",
   "metadata": {},
   "source": [
    "# Clustering\n"
   ]
  },
  {
   "cell_type": "code",
   "execution_count": null,
   "id": "exempt-hierarchy",
   "metadata": {},
   "outputs": [],
   "source": [
    "clone_apo = CLoNe(pdc=pdc)\n",
    "clone_holo = CLoNe(pdc=pdc)\n",
    "\n",
    "\n",
    "clone_apo.fit(red_dim_coords_tot[0:index_apo_end,0].reshape(-1, 1)) \n",
    "clone_holo.fit(red_dim_coords_tot[index_apo_end:index_tot_end,0].reshape(-1, 1)) "
   ]
  },
  {
   "cell_type": "code",
   "execution_count": null,
   "id": "genetic-intent",
   "metadata": {},
   "outputs": [],
   "source": [
    "pca_headers = [\"PC%i\"%(x + 1) for x in range(n_pca)]\n",
    "plot_clusters(clone_apo, red_dim_coords_tot[0:index_apo_end,0].reshape(-1, 1), output_folder,pca_headers[:2] ) \n",
    "plot_clusters(clone_holo, red_dim_coords_tot[index_apo_end:index_tot_end,0].reshape(-1, 1), output_folder,pca_headers[:2] )"
   ]
  },
  {
   "cell_type": "markdown",
   "id": "intellectual-cleaners",
   "metadata": {},
   "source": [
    "Save Clusters with water DANGEROUS FOR MEMORY"
   ]
  },
  {
   "cell_type": "code",
   "execution_count": 20,
   "id": "portable-college",
   "metadata": {},
   "outputs": [],
   "source": [
    "# Load trajectories\n",
    "struct_apo = mdtraj.load(\"new_500ns/apo_tot.xtc\", top=\"new_500ns/apo/md_cptp_apo_seed1_center_pbcmol_fit_rot_trans_prot.gro\")\n",
    "struct_holo = mdtraj.load(\"new_500ns/holo_tot.xtc\", top=\"new_500ns/holo_dlpa/md_cptp_holo_seed1_center_pbcmol_fit_rot_trans_prot.gro\")\n"
   ]
  },
  {
   "cell_type": "code",
   "execution_count": 21,
   "id": "searching-investment",
   "metadata": {},
   "outputs": [],
   "source": [
    "save_clusters(clone_apo,struct_apo, output_folder+'/'+apo_name+'_1')\n",
    "save_clusters(clone_holo,struct_holo, output_folder+'/'+holo_name+'_1')\n",
    "# TODO: here the folder is selected manually. This should be automated but I don't have time to rewrite everything now"
   ]
  }
 ],
 "metadata": {
  "kernelspec": {
   "display_name": "Python 3",
   "language": "python",
   "name": "python3"
  },
  "language_info": {
   "codemirror_mode": {
    "name": "ipython",
    "version": 3
   },
   "file_extension": ".py",
   "mimetype": "text/x-python",
   "name": "python",
   "nbconvert_exporter": "python",
   "pygments_lexer": "ipython3",
   "version": "3.7.10"
  }
 },
 "nbformat": 4,
 "nbformat_minor": 5
}
