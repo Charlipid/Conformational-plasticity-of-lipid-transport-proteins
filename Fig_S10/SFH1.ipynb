{
 "cells": [
  {
   "cell_type": "code",
   "execution_count": 3,
   "id": "nonprofit-bowling",
   "metadata": {},
   "outputs": [
    {
     "name": "stdout",
     "output_type": "stream",
     "text": [
      "Automatically created module for IPython interactive environment\n"
     ]
    }
   ],
   "source": [
    "import os\n",
    "import matplotlib.pyplot as plt\n",
    "import matplotlib.ticker as ticker\n",
    "from matplotlib.lines import Line2D\n",
    "from matplotlib import rc\n",
    "import seaborn as sns\n",
    "plt.rcParams['ps.useafm'] = True\n",
    "rc('font',**{'family':'sans-serif','sans-serif':['Helvetica']})\n",
    "\n",
    "import pandas as pd\n",
    "import time\n",
    "import shutil\n",
    "import argparse\n",
    "import numpy as np\n",
    "from sklearn.decomposition import PCA, KernelPCA\n",
    "from sklearn.preprocessing import StandardScaler\n",
    "import sys\n",
    "sys.path.append('/DATA/lucaa/software/CLoNe')\n",
    "\n",
    "from clone import CLoNe\n",
    "from plot import plot_clusters\n",
    "from structural_utils import load_md_args, show_cluster_info\n",
    "\n",
    "import mdtraj\n",
    "import pyemma\n",
    "\n",
    "print(__doc__)\n",
    "start = time.time()\n",
    "\n",
    "\n",
    "def calculate_pca(topo, traj, main_folder, syst, at_sel, n_pca ):\n",
    "    # Load trajectory\n",
    "    topology = mdtraj.load(topo).topology\n",
    "    struct_ens = mdtraj.load(traj, top=topo)\n",
    "\n",
    "    # Create result folder based on dataset nam\\e\n",
    "    if not os.path.exists(main_folder):\n",
    "        os.makedirs(main_folder)\n",
    "    out_idx =  1\n",
    "    output_folder = main_folder+\"/%s_%i/\"\n",
    "    while os.path.exists(output_folder%(syst, out_idx)):\n",
    "        out_idx += 1\n",
    "    output_folder = output_folder%(syst, out_idx)\n",
    "    os.makedirs(output_folder)\n",
    "    \n",
    "\n",
    "    selection = struct_ens.topology.select(at_sel)\n",
    "    coords = struct_ens.xyz[:, selection]\n",
    "    coords = coords.reshape(coords.shape[0], coords.shape[1] * coords.shape[2])\n",
    "    headers = [\"C%i\"%x for x in range(len(coords[0]))]  # general headers\n",
    "\n",
    "    # Principal component analysis\n",
    "    original_coords = coords.copy()\n",
    "    pca_obj = PCA(n_components=n_pca)\n",
    "    reddim_coords = pca_obj.fit_transform(coords)\n",
    "    eigenvalues = pca_obj.explained_variance_ratio_\n",
    "    ratio = np.sum(eigenvalues[:n_pca])\n",
    "    pca_headers = [\"PC%i (%.2f)\"%(x + 1, eigenvalues[x]) for x in range(n_pca)]\n",
    "    \n",
    "    print(\"> PCA: %i => %i dimension(s) with eigenval.: %s\"%(len(headers), n_pca, str(eigenvalues)))\n",
    "    print(\"sum of Variance: %s\"%(np.sum(eigenvalues)))\n",
    "    with open(\"%sPCA_coords.txt\"%output_folder, \"w\") as f:\n",
    "        for x in range(n_pca):\n",
    "            f.write(\"PC%i(%.2f) \"%(x + 1, eigenvalues[x]))\n",
    "        f.write(\"\\n\")\n",
    "        for el in reddim_coords:\n",
    "            for n in el:\n",
    "                f.write(\"%f \"%n)\n",
    "            f.write(\"\\n\")  \n",
    "    return pca_obj, reddim_coords, original_coords\n",
    "\n",
    "\n",
    "def calc_magn_vector(pc):\n",
    "    final_length = int(len(pc)/3)\n",
    "    pc_magn = np.empty(final_length)\n",
    "    \n",
    "    for i in range(final_length):\n",
    "        pc_magn[i] = np.sqrt(pc[i*3]**2+pc[i*3+1]**2+pc[i*3+2]**2)\n",
    "    \n",
    "    return pc_magn\n",
    "\n",
    "\n",
    "def save_pc_bfact(init_padding, length_pc, final_padding, structure, pc_component, outpdb):\n",
    "\n",
    "    pc_elongated = np.concatenate((np.zeros(init_padding),calc_magn_vector(pc_component),np.zeros(final_padding)))\n",
    "    system_length_res = len([residue for residue in structure.topology.residues])\n",
    "    system_length_atoms = len([ atom for atom in structure.topology.atoms])\n",
    "\n",
    "    syst_bfact=np.zeros(system_length_atoms)\n",
    "    index=0\n",
    "    for resid in range(system_length_res):\n",
    "        res_len = len(structure.topology.select('resid '+str(resid)))\n",
    "        res_bfact= res_len\n",
    "        syst_bfact[index:index+res_len] = pc_elongated[resid]\n",
    "        index += res_len\n",
    "\n",
    "    structure[0].save_pdb(outpdb, bfactors=syst_bfact*100)\n",
    "    \n",
    "# Check convercence PC\n",
    "def calculate_pca_convergence(topo, traj, main_folder, syst, at_sel, n_pca, nframes, nsim ):\n",
    "    # Load trajectory\n",
    "    topology = mdtraj.load(topo).topology\n",
    "    struct_ens = mdtraj.load(traj, top=topo)\n",
    "\n",
    "    # Create result folder based on dataset nam\\e\n",
    "    if not os.path.exists(main_folder):\n",
    "        os.makedirs(main_folder)\n",
    "    out_idx =  1\n",
    "    output_folder = main_folder+\"/%s_%i/\"\n",
    "    while os.path.exists(output_folder%(syst, out_idx)):\n",
    "        out_idx += 1\n",
    "    output_folder = output_folder%(syst, out_idx)\n",
    "    os.makedirs(output_folder)\n",
    "    \n",
    "    selection = struct_ens.topology.select(at_sel)\n",
    "    coords = struct_ens.xyz[:, selection]\n",
    "    coords = coords.reshape(coords.shape[0], coords.shape[1] * coords.shape[2])\n",
    "    headers = [\"C%i\"%x for x in range(len(coords[0]))]  # general headers\n",
    "    \n",
    "    frameslist = np.multiply(np.arange(1,nsim+1),nframes)\n",
    "    original_coords = coords.copy()\n",
    "    pcas_list = []\n",
    "    reddim_coords_list = []\n",
    "    print(np.shape(coords))\n",
    "    # Principal component analysis\n",
    "    for section in frameslist:\n",
    "        pca_obj = PCA(n_components=n_pca)\n",
    "        \n",
    "        reddim_coords = pca_obj.fit_transform(coords[0:section])\n",
    "        pcas_list.append(pca_obj)\n",
    "        #eigenvalues = pca_obj.explained_variance_ratio_\n",
    "        #ratio = np.sum(eigenvalues[:n_pca])\n",
    "        #pca_headers = [\"PC%i (%.2f)\"%(x + 1, eigenvalues[x]) for x in range(n_pca)]\n",
    "    \n",
    "        #print(\"> PCA: %i => %i dimension(s) with eigenval.: %s\"%(len(headers), n_pca, str(eigenvalues)))\n",
    "        #print(\"sum of Variance: %s\"%(np.sum(eigenvalues)))\n",
    "  \n",
    "    return pcas_list"
   ]
  },
  {
   "cell_type": "code",
   "execution_count": 4,
   "id": "southeast-throw",
   "metadata": {},
   "outputs": [],
   "source": [
    "# PARAMETERS SETUP\n",
    "\n",
    "# Clustering parameters \n",
    "pdc=8  # neighbour search during clusterint\n",
    "n_resize=4 \n",
    "filt=0.1 \n",
    "verbose=False\n",
    "n_pca=10 # number of PC to include in calculations \n",
    "n_bins= 200  # number of bins for PC hist\n",
    "# Simulations and topology \n",
    "trj_apo='apo.xtc'   # apo traj\n",
    "trj_holo='holo_protonly.xtc'# holo traj\n",
    "trj_tot='sfh1_tot.xtc'   # concatenated total traj\n",
    "trj_tot_wres='sfh1_3states.xtc'\n",
    "topo_apo='apo.gro'  # pdb or gro of apo\n",
    "\n",
    "# Selection for PCA calculation (see mdtraj syntax)\n",
    "at_sel=\"name CA and residue 101 to 274\"  # try to exclude end loops or regions that move but are not interesting (hides the true PC)\n",
    "n_res=173   # number of residues (still manual insertion, i know...)\n",
    "feat=\"None\"\n",
    "resmin=101\n",
    "resmax=274\n",
    "output_folder = \"results\"\n",
    "\n",
    "apo_name=\"apo\"\n",
    "holo_name=\"holo\"\n",
    "tot_name=\"tot\""
   ]
  },
  {
   "cell_type": "code",
   "execution_count": null,
   "id": "alien-sensitivity",
   "metadata": {},
   "outputs": [],
   "source": []
  },
  {
   "cell_type": "code",
   "execution_count": 6,
   "id": "false-november",
   "metadata": {},
   "outputs": [
    {
     "name": "stdout",
     "output_type": "stream",
     "text": [
      "> PCA: 522 => 10 dimension(s) with eigenval.: [0.27815402 0.11447361 0.07687408 0.05830991 0.03938652 0.03299287\n",
      " 0.03139775 0.02647197 0.02033955 0.01935332]\n",
      "sum of Variance: 0.69775367\n",
      "> PCA: 522 => 10 dimension(s) with eigenval.: [0.12364642 0.07429013 0.05290206 0.05054895 0.04535627 0.03379471\n",
      " 0.03193338 0.02756319 0.02415863 0.02297882]\n",
      "sum of Variance: 0.48717254\n",
      "> PCA: 522 => 10 dimension(s) with eigenval.: [0.5154568  0.09181951 0.04735955 0.0336902  0.02765442 0.02158543\n",
      " 0.01841615 0.01597271 0.01418705 0.01219274]\n",
      "sum of Variance: 0.79833454\n",
      "> PCA: 522 => 10 dimension(s) with eigenval.: [0.39821858 0.08310486 0.07084099 0.04065833 0.03405894 0.02667086\n",
      " 0.02499788 0.02137825 0.01820322 0.01574573]\n",
      "sum of Variance: 0.733877630058471\n"
     ]
    }
   ],
   "source": [
    "# make results folder \n",
    "try:\n",
    "    os.mkdir(output_folder)\n",
    "except FileExistsError:\n",
    "    pass\n",
    "# make images folder \n",
    "try:\n",
    "    os.mkdir(output_folder+'/IMAGES/')\n",
    "except FileExistsError:\n",
    "    pass\n",
    "# Calculate PCA\n",
    "pca_apo, red_dim_coords_apo, orig_coords_apo = calculate_pca(topo_apo, trj_apo, output_folder, apo_name, at_sel, n_pca)\n",
    "pca_holo, red_dim_coords_holo, orig_coords_holo = calculate_pca(topo_apo, trj_holo, output_folder, holo_name, at_sel, n_pca)\n",
    "pca_tot, red_dim_coords_tot, orig_coords_tot = calculate_pca(topo_apo, trj_tot, output_folder, tot_name, at_sel, n_pca)\n",
    "pca_tot_wres, red_dim_coords_tot_wres, orig_coords_tot_wres = calculate_pca(topo_apo, trj_tot_wres, output_folder, tot_name, at_sel, n_pca)"
   ]
  },
  {
   "cell_type": "code",
   "execution_count": null,
   "id": "industrial-clinton",
   "metadata": {},
   "outputs": [],
   "source": []
  },
  {
   "cell_type": "code",
   "execution_count": 7,
   "id": "sudden-investor",
   "metadata": {},
   "outputs": [],
   "source": [
    "index_apo_end=np.shape(red_dim_coords_apo)[0]\n",
    "index_tot_end=np.shape(red_dim_coords_tot)[0]\n",
    "index_tot_wres_end=np.shape(red_dim_coords_tot_wres)[0]\n"
   ]
  },
  {
   "cell_type": "markdown",
   "id": "alive-madness",
   "metadata": {},
   "source": [
    "# Figures PC and histograms checking that all pc apo, holo and tot are the similar "
   ]
  },
  {
   "cell_type": "code",
   "execution_count": 21,
   "id": "formed-occasions",
   "metadata": {},
   "outputs": [
    {
     "data": {
      "image/png": "[encoded data removed]",
      "text/plain": [
       "<Figure size 720x216 with 2 Axes>"
      ]
     },
     "metadata": {
      "needs_background": "light"
     },
     "output_type": "display_data"
    }
   ],
   "source": [
    "fig, ax = plt.subplots(1,2, figsize=(10,3), sharey=True, sharex=True)\n",
    "tick_spacing = 20\n",
    "ax[0].xaxis.set_major_locator(ticker.MultipleLocator(tick_spacing))\n",
    "ax[0].tick_params(axis='x', rotation=90)\n",
    "ax[1].tick_params(axis='x', rotation=90)\n",
    "\n",
    "ax[0].set_xlim(resmin,resmax)\n",
    "ax[0].plot(np.arange(resmin, resmax+1),calc_magn_vector(pca_tot.components_[0]), linewidth=0.8, color='green')\n",
    "ax[1].plot(np.arange(resmin, resmax+1),calc_magn_vector(pca_tot_wres.components_[0]), linewidth=0.8, color='dodgerblue')\n",
    "\n",
    "sns.despine()\n",
    "\n",
    "ax[0].legend(['Apo+Holo'], frameon=False)\n",
    "ax[1].legend(['Apo+Holo+Resampling'], frameon=False)\n",
    "\n",
    "ax[0].set_xlabel(\"Residue number\", fontsize=12, labelpad=5)\n",
    "ax[1].set_xlabel(\"Residue number\", fontsize=12, labelpad=5)\n",
    "ax[0].set_ylabel(\"PC component (a.u.)\", fontsize=12, labelpad=5)\n",
    "fig.tight_layout()\n",
    "\n",
    "fig.savefig(output_folder+'/IMAGES/pc_withapofromhholo.pdf')\n",
    "\n",
    "plt.show()"
   ]
  },
  {
   "cell_type": "code",
   "execution_count": 20,
   "id": "underlying-fancy",
   "metadata": {},
   "outputs": [
    {
     "data": {
      "image/png": "[encoded data removed]",
      "text/plain": [
       "<Figure size 360x360 with 1 Axes>"
      ]
     },
     "metadata": {
      "needs_background": "light"
     },
     "output_type": "display_data"
    }
   ],
   "source": [
    "fig, ax = plt.subplots(1,1, figsize=(5,5), sharey=True, sharex=True)\n",
    "\n",
    "min_pc = -4\n",
    "max_pc = 5\n",
    "\n",
    "sns.despine()\n",
    "ax.set_xlim([min_pc,max_pc])\n",
    "ax.set_xticks([-3,-2,-1,0,1,2,3,4])\n",
    "ax.tick_params(axis = 'both', which = 'major', labelsize = 16)\n",
    "ax.set_xlabel(\"PC1\", fontsize=20)\n",
    "ax.set_ylabel(\"# Count\", fontsize=20)\n",
    "#F3B562 #998EC3\n",
    "ax.hist(red_dim_coords_tot_wres[0:index_apo_end,0], color='#F3B562', range=(min_pc, max_pc), bins=n_bins, histtype=\"step\")\n",
    "ax.hist(red_dim_coords_tot_wres[0:index_apo_end,0], color='#F3B562', range=(min_pc, max_pc), bins=n_bins, alpha=0.3)\n",
    "\n",
    "ax.hist(red_dim_coords_tot_wres[index_apo_end:index_tot_end,0], color='#998EC3', range=(min_pc, max_pc), bins=n_bins, histtype=\"step\")\n",
    "ax.hist(red_dim_coords_tot_wres[index_apo_end:index_tot_end,0], color='#998EC3', range=(min_pc, max_pc), bins=n_bins, alpha=0.3)\n",
    "\n",
    "ax.hist(red_dim_coords_tot_wres[index_tot_end:index_tot_wres_end,0], color='forestgreen', range=(min_pc, max_pc), bins=n_bins, histtype=\"step\")\n",
    "ax.hist(red_dim_coords_tot_wres[index_tot_end:index_tot_wres_end,0], color='forestgreen', range=(min_pc, max_pc), bins=n_bins, alpha=0.3)\n",
    "\n",
    "legend_elements = [Line2D([0], [0], color='#F3B562', lw=2, label='Apo'),\n",
    "                   Line2D([0], [0], color='#998EC3', lw=2, label='Holo'), \n",
    "                   Line2D([0], [0], color='forestgreen', lw=2, label='Apo\\nresampling\\nfrom Holo')]\n",
    "ax.legend(frameon=False, fontsize=16, handles = legend_elements)\n",
    "#ax.set_title(\"Apo vs. Holo population\", fontsize=16)\n",
    "\n",
    "fig.tight_layout()\n",
    "fig.savefig(output_folder+'/IMAGES/histograms_pc_withapofromholo.pdf')\n",
    "plt.show()"
   ]
  },
  {
   "cell_type": "code",
   "execution_count": 8,
   "id": "local-glenn",
   "metadata": {},
   "outputs": [
    {
     "name": "stderr",
     "output_type": "stream",
     "text": [
      "/DATA/lucaa/software/anaconda3/envs/cloneenv/lib/python3.7/site-packages/ipykernel_launcher.py:24: UserWarning: You have mixed positional and keyword arguments, some input may be discarded.\n"
     ]
    },
    {
     "data": {
      "image/png": "[encoded data removed]",
      "text/plain": [
       "<Figure size 360x360 with 1 Axes>"
      ]
     },
     "metadata": {
      "needs_background": "light"
     },
     "output_type": "display_data"
    }
   ],
   "source": [
    "fig, ax = plt.subplots(1,1, figsize=(5,5), sharey=True, sharex=True)\n",
    "\n",
    "min_pc = -4\n",
    "max_pc = 5\n",
    "\n",
    "sns.despine()\n",
    "ax.set_xlim([min_pc,max_pc])\n",
    "ax.set_xticks([-3,-2,-1,0,1,2,3,4])\n",
    "ax.tick_params(axis = 'both', which = 'major', labelsize = 16)\n",
    "ax.set_xlabel(\"PC1\", fontsize=20)\n",
    "ax.set_ylabel(\"# Count\", fontsize=20)\n",
    "\n",
    "ax.scatter(red_dim_coords_tot[0:4900,0],red_dim_coords_tot[0:4900,1], color='green', s=0.1)\n",
    "ax.scatter(red_dim_coords_tot[4900:9800,0],red_dim_coords_tot[4900:9800,1], color='red', s=0.1)\n",
    "ax.scatter(red_dim_coords_tot[9800:14700,0],red_dim_coords_tot[9800:14700,1], color='blue', s=0.1)\n",
    "ax.scatter(red_dim_coords_tot[14700:19600,0],red_dim_coords_tot[14700:19600,1], color='yellow', s=0.1)\n",
    "ax.scatter(red_dim_coords_tot[19600:24500,0],red_dim_coords_tot[19600:24500,1], color='orange', s=0.1)\n",
    "ax.scatter(red_dim_coords_tot[24500:29400,0],red_dim_coords_tot[24500:29400,1], color='purple', s=0.1)\n",
    "\n",
    "\n",
    "#ax.scatter(red_dim_coords_tot[index_apo_end:index_tot_end,0],red_dim_coords_tot[index_apo_end:index_tot_end,1], color='dodgerblue', s=0.1)\n",
    "\n",
    "legend_elements = [Line2D([0], [0], color='green', lw=2, label='Apo'),Line2D([0], [0], color='dodgerblue', lw=2, label='Holo')]\n",
    "ax.legend(['Apo','Holo'], frameon=False, fontsize=16, handles = legend_elements)\n",
    "ax.set_title(\"Apo vs. Holo population\", fontsize=16)\n",
    "\n",
    "fig.tight_layout()\n",
    "fig.savefig(output_folder+'/IMAGES/scatter_pc12.pdf')\n",
    "plt.show()"
   ]
  },
  {
   "cell_type": "code",
   "execution_count": 7,
   "id": "higher-british",
   "metadata": {},
   "outputs": [
    {
     "data": {
      "image/png": "[encoded data removed]",
      "text/plain": [
       "<Figure size 432x216 with 2 Axes>"
      ]
     },
     "metadata": {},
     "output_type": "display_data"
    }
   ],
   "source": [
    "new_data = (red_dim_coords_tot[0:29400,0].reshape(6,4900))\n",
    "new_data_holo = (red_dim_coords_tot[29400:58800,0].reshape(6,4900))\n",
    "\n",
    "fig, ax1 = plt.subplots(1, 2, figsize=(6,3), sharex=True, sharey=True )\n",
    "color_list = np.array(['#E1E6FA','#C4D7ED','#ABC8E2','#375D81','#183152','#0e1d31'])\n",
    "color_list2 = np.array(['#e8f7e2','#d0eec5','#b9e6a8','#8ad56d','#5ec137','#418626'])\n",
    "color_list3=np.array(['#ffc0c3','#ffa1a5','#ff8186','#ff6268','#ff424a','#ff222c',\n",
    "                      '#ff030e','#e3000a','#c30008','#a30007','#840006','#650004'])\n",
    "color_list4=np.array(['#def3d5','#cdedc1','#bce7ac','#ace197','#9bdb82','#8ad56d',\n",
    "                      '#7acf58','#69c944','#5bbc36','#51a730','#47932a','#3d7e24'])\n",
    "color_list5=np.array(['#c2dbff','#a3c9ff','#85b7ff','#67a5ff','#4893ff','#2a81ff',\n",
    "                      '#0b6fff','#0060ec','#0054cd','#0047af','#003b90','#002e72'])\n",
    "\n",
    "min_pc = -5\n",
    "max_pc = 5\n",
    "axcolor = '#222222'\n",
    "axcolor2 = '#AAAAAA'\n",
    "hfont = {'fontname':'Helvetica'}\n",
    "\n",
    "sns.despine(left=True)\n",
    "\n",
    "#PLOT 1 \n",
    "ax1[0].set_xlim([min_pc,max_pc])\n",
    "#ax1[0].set_ylim([0,1.5])\n",
    "ax1[0].set_xticks([-4,-2,0,2,4])\n",
    "#ax1[0].set_yticks([0,0.5, 1,1.5])\n",
    "ax1[0].set_xlabel(\"PC1\", fontsize=12, labelpad=3)\n",
    "ax1[0].set_ylabel(\"Prob. density\", fontsize=12)\n",
    "ax1[0].tick_params(axis = 'both', which = 'major', labelsize =12, pad=1.5, length=2)\n",
    "ax1[0].tick_params(width=0.5)\n",
    "# change all spines\n",
    "for axis in ['top','bottom','left','right']:\n",
    "    ax1[0].spines[axis].set_linewidth(0.5)\n",
    "# axes colors\n",
    "ax1[0].xaxis.label.set_color(axcolor)\n",
    "ax1[0].yaxis.label.set_color(axcolor2)         \n",
    "ax1[0].tick_params(axis='x', colors=axcolor)    \n",
    "ax1[0].tick_params(axis='y', colors=axcolor2)  \n",
    "ax1[0].spines['left'].set_color(axcolor2)\n",
    "ax1[0].spines['bottom'].set_color(axcolor)  \n",
    "\n",
    "ax1[0].hist(new_data[0:6].T, range=(min_pc, max_pc), bins=n_bins, histtype=\"bar\", stacked=True, zorder=-1, density=True, linewidth=0.2, color=color_list)\n",
    "ax1[1].hist(new_data_holo[0:6].T, range=(min_pc, max_pc), bins=n_bins, histtype=\"bar\", stacked=True, zorder=-1, density=True, linewidth=0.2, color=color_list2)\n",
    "\n",
    "#ax1.hist(red_dim_coords_apo[:,0], color='#FAA336', range=(min_pc, max_pc), bins=n_bins, histtype=\"stepfilled\", zorder=-1, alpha=0.3, density=True, linewidth=0.2)\n",
    "custom_lines = [Line2D([0], [0], color='#002e72', lw=4),\n",
    "                Line2D([0], [0], color='#418626', lw=4)]\n",
    "ax1[0].legend(custom_lines, ['Apo', 'Holo'], frameon=False, fontsize=12)\n",
    "\n",
    "#plt.show()\n",
    "fig.savefig(output_folder+'/IMAGES/hist_convergence.png', dpi=600, bbox_inches='tight')"
   ]
  },
  {
   "cell_type": "code",
   "execution_count": null,
   "id": "cleared-uniform",
   "metadata": {},
   "outputs": [],
   "source": [
    "nframes=4900\n",
    "nsim=12\n",
    "pc_list_conv = calculate_pca_convergence(topo_apo, trj_tot, output_folder, tot_name, at_sel, n_pca, nframes, nsim)\n",
    "product=[0]*12\n",
    "for i in range(12):\n",
    "    product[i] = np.dot(pc_list_conv[i].components_[0],pc_list_conv[5].components_[0])\n",
    "    \n",
    "print(product)"
   ]
  },
  {
   "cell_type": "code",
   "execution_count": 11,
   "id": "internal-decision",
   "metadata": {},
   "outputs": [
    {
     "data": {
      "image/png": "[encoded data removed]",
      "text/plain": [
       "<Figure size 360x216 with 1 Axes>"
      ]
     },
     "metadata": {
      "needs_background": "light"
     },
     "output_type": "display_data"
    }
   ],
   "source": [
    "fig, ax1 = plt.subplots(1, 1, figsize=(5,3))\n",
    "tick_spacing = 20\n",
    "sns.despine()\n",
    "color_list = ['#ffa7ab','#ff898f','#ff6c72','#ff4f56','#ff313a','#ff313a','#ff141e','#f5000b','#d80009','#bb0008','#9d0007','#800006','#620004']\n",
    "ax1.xaxis.set_major_locator(ticker.MultipleLocator(tick_spacing))\n",
    "ax1.tick_params(axis='x', rotation=90)\n",
    "#ax1.set_xlim(resmin,resmax)\n",
    "ax1.set_ylabel(\"PC1\", fontsize=16, labelpad=3)\n",
    "ax1.set_xlabel(\"Residue Number\", fontsize=16)\n",
    "\n",
    "ax1.plot(calc_magn_vector(pc_list_conv[0].components_[0]), color=color_list[0])\n",
    "ax1.plot(calc_magn_vector(pc_list_conv[1].components_[0]), color=color_list[1])\n",
    "ax1.plot(calc_magn_vector(pc_list_conv[2].components_[0]), color=color_list[2])\n",
    "ax1.plot(calc_magn_vector(pc_list_conv[3].components_[0]), color=color_list[3])\n",
    "ax1.plot(calc_magn_vector(pc_list_conv[4].components_[0]), color=color_list[4])\n",
    "ax1.plot(calc_magn_vector(pc_list_conv[5].components_[0]), color=color_list[5])\n",
    "ax1.plot(calc_magn_vector(pc_list_conv[6].components_[0]), color=color_list[6])\n",
    "ax1.plot(calc_magn_vector(pc_list_conv[7].components_[0]), color=color_list[7])\n",
    "ax1.plot(calc_magn_vector(pc_list_conv[8].components_[0]), color=color_list[8])\n",
    "ax1.plot(calc_magn_vector(pc_list_conv[9].components_[0]), color=color_list[9])\n",
    "ax1.plot(calc_magn_vector(pc_list_conv[10].components_[0]), color=color_list[10])\n",
    "ax1.plot(calc_magn_vector(pc_list_conv[11].components_[0]), color=color_list[11])\n",
    "ax1.legend(['0.5 \\u00b5s','1.0 \\u00b5s','1.5 \\u00b5s','2.0 \\u00b5s','2.5 \\u00b5s','3.0 \\u00b5s', \n",
    "            '3.5 \\u00b5s','4.0 \\u00b5s','4.5 \\u00b5s','5.0 \\u00b5s','5.5 \\u00b5s','6.0 \\u00b5s'], frameon=False, loc=(1.04,-0.2) )\n",
    "\n",
    "\n",
    "\n",
    "\n",
    "fig.tight_layout()\n",
    "fig.savefig('pc_conv.png')"
   ]
  },
  {
   "cell_type": "markdown",
   "id": "chicken-albert",
   "metadata": {},
   "source": [
    "# Clustering\n"
   ]
  },
  {
   "cell_type": "code",
   "execution_count": 5,
   "id": "silent-method",
   "metadata": {},
   "outputs": [],
   "source": [
    "clone_apo = CLoNe(pdc=pdc)\n",
    "clone_holo = CLoNe(pdc=pdc)\n",
    "clone_apoholo = CLoNe(pdc=8)\n",
    "\n",
    "#clone_apo.fit(red_dim_coords_tot[0:index_apo_end,0].reshape(-1, 1)) \n",
    "#clone_holo.fit(red_dim_coords_tot[index_apo_end:index_tot_end,0].reshape(-1, 1)) \n",
    "clone_apoholo.fit(red_dim_coords_tot[:,0].reshape(-1, 1)) "
   ]
  },
  {
   "cell_type": "markdown",
   "id": "arbitrary-story",
   "metadata": {},
   "source": [
    "# Population analysis"
   ]
  },
  {
   "cell_type": "code",
   "execution_count": null,
   "id": "invalid-pulse",
   "metadata": {},
   "outputs": [],
   "source": [
    "clusters = np.unique(clone_apoholo.labels_)\n",
    "labels_apo = clone_apoholo.labels_[0:index_apo_end]\n",
    "labels_holo = clone_apoholo.labels_[index_apo_end:index_tot_end]\n",
    "pop_list = []\n",
    "for label in clusters:\n",
    "    \n",
    "    count_apo = np.count_nonzero(labels_apo == label)\n",
    "    count_holo = np.count_nonzero(labels_holo == label)\n",
    "    count_tot= np.count_nonzero(clone_apoholo.labels_[0:index_tot_end] == label)\n",
    "    pop_list.append([label, count_apo/count_tot*100, count_holo/count_tot*100, count_tot/len(clone_apoholo.labels_)*100])\n",
    "    #print(label, count_apo, count_holo, count_tot)\n",
    "\n",
    "df = pd.DataFrame(pop_list, columns=['cluster', 'frames apo (%)', 'frames holo (%)', 'cluster relevance (%)'])  \n",
    "\n",
    "df.to_csv(output_folder+'/'+tot_name+\"_1/population_analysis.txt\", sep=\" \", float_format=\"%2.2f\")"
   ]
  },
  {
   "cell_type": "markdown",
   "id": "descending-wedding",
   "metadata": {},
   "source": [
    "# Cluster plots"
   ]
  },
  {
   "cell_type": "code",
   "execution_count": 6,
   "id": "aerial-charm",
   "metadata": {},
   "outputs": [
    {
     "data": {
      "image/png": "[encoded data removed]",
      "text/plain": [
       "<Figure size 288x144 with 2 Axes>"
      ]
     },
     "metadata": {
      "needs_background": "light"
     },
     "output_type": "display_data"
    },
    {
     "data": {
      "image/png": "[encoded data removed]",
      "text/plain": [
       "<Figure size 288x288 with 1 Axes>"
      ]
     },
     "metadata": {
      "needs_background": "light"
     },
     "output_type": "display_data"
    }
   ],
   "source": [
    "pca_headers = [\"PC%i\"%(x + 1) for x in range(n_pca)]\n",
    "#plot_clusters(clone_apo, red_dim_coords_tot[0:index_apo_end,0].reshape(-1, 1), output_folder+'/apo_1',pca_headers[:2] ) \n",
    "#plot_clusters(clone_holo, red_dim_coords_tot[index_apo_end:index_tot_end,0].reshape(-1, 1), output_folder+'/holo_1',pca_headers[:2] )\n",
    "plot_clusters(clone_apoholo, red_dim_coords_tot[:,0].reshape(-1, 1), output_folder+'/'+tot_name+'_1',pca_headers[:2] )"
   ]
  },
  {
   "cell_type": "markdown",
   "id": "surgical-freight",
   "metadata": {},
   "source": [
    "# Save clusters"
   ]
  },
  {
   "cell_type": "code",
   "execution_count": 11,
   "id": "known-karaoke",
   "metadata": {},
   "outputs": [],
   "source": [
    "# Load trajectories\n",
    "struct_apo = mdtraj.load(trj_apo, top=topo_apo)\n",
    "struct_holo = mdtraj.load(trj_holo, top=topo_apo)\n",
    "struct_apoholo = mdtraj.load(trj_tot, top=topo_apo)"
   ]
  },
  {
   "cell_type": "code",
   "execution_count": 12,
   "id": "threatened-python",
   "metadata": {},
   "outputs": [
    {
     "name": "stderr",
     "output_type": "stream",
     "text": [
      "/DATA/lucaa/software/anaconda3/envs/cloneenv/lib/python3.7/site-packages/mdtraj/utils/unitcell.py:78: UserWarning: All your angles were less than 2*pi. Did you accidentally give me radians?\n",
      "  warnings.warn('All your angles were less than 2*pi. Did you accidentally give me radians?')\n"
     ]
    },
    {
     "data": {
      "text/plain": [
       "[None, None, None]"
      ]
     },
     "execution_count": 12,
     "metadata": {},
     "output_type": "execute_result"
    }
   ],
   "source": [
    "unique_labels = range(len(clone_apoholo.centers)) \n",
    "folder = output_folder+'/'+tot_name+'_1'\n",
    "\n",
    "# Save center\n",
    "[struct_apoholo[center].save(folder+\"/Center_%d.pdb\"%(center_id + 1)) for center, center_id in zip(clone_apoholo.centers, unique_labels)]\n",
    "# Save trajs\n",
    "[struct_apo[clone_apoholo.labels_[0:index_apo_end] == lab].save(folder+\"/Cluster_apo_%d.xtc\"%(lab + 1)) for lab in unique_labels]\n",
    "[struct_holo[clone_apoholo.labels_[index_apo_end:] == lab].save(folder+\"/Cluster_holo_%d.xtc\"%(lab + 1)) for lab in unique_labels]"
   ]
  },
  {
   "cell_type": "markdown",
   "id": "experienced-reason",
   "metadata": {},
   "source": [
    "# Save extreme structures"
   ]
  },
  {
   "cell_type": "code",
   "execution_count": 18,
   "id": "governmental-indicator",
   "metadata": {},
   "outputs": [],
   "source": [
    "minframe=[100,-1,-2]\n",
    "maxframe=[-100,-1,-2]\n",
    "for frame in zip(red_dim_coords_tot[:,0].reshape(-1, 1), clone_apoholo.labels_, range(len(clone_apoholo.labels_))):\n",
    "    if frame[1] != -1:\n",
    "        if frame[0] < minframe[0]:\n",
    "            minframe = frame\n",
    "        if frame[0] > maxframe[0]:\n",
    "            maxframe = frame\n",
    "\n",
    "folder = output_folder+'/'+tot_name+'_1'\n",
    "struct_apoholo[minframe[2]].save(folder+\"/extremeleft.pdb\")          \n",
    "struct_apoholo[maxframe[2]].save(folder+\"/extremeright.pdb\")          \n"
   ]
  },
  {
   "cell_type": "code",
   "execution_count": 19,
   "id": "later-calculator",
   "metadata": {},
   "outputs": [],
   "source": [
    "a = sorted(zip(red_dim_coords_tot[:,0].reshape(-1, 1), clone_apoholo.labels_, range(len(clone_apoholo.labels_))))\n",
    "a = [el for el in a if el[1] != -1]\n",
    "a[0]\n",
    "struct_apoholo[a[0][2]].save(folder+\"/extremeleft1.pdb\")\n",
    "struct_apoholo[a[1][2]].save(folder+\"/extremeleft2.pdb\")\n",
    "struct_apoholo[a[2][2]].save(folder+\"/extremeleft3.pdb\")\n",
    "struct_apoholo[a[3][2]].save(folder+\"/extremeleft4.pdb\")\n",
    "struct_apoholo[a[4][2]].save(folder+\"/extremeleft5.pdb\")\n",
    "struct_apoholo[a[5][2]].save(folder+\"/extremeleft6.pdb\")\n",
    "struct_apoholo[a[6][2]].save(folder+\"/extremeleft7.pdb\")\n",
    "struct_apoholo[a[7][2]].save(folder+\"/extremeleft8.pdb\")\n",
    "struct_apoholo[a[8][2]].save(folder+\"/extremeleft9.pdb\")\n",
    "struct_apoholo[a[9][2]].save(folder+\"/extremeleft10.pdb\")\n",
    "struct_apoholo[a[10][2]].save(folder+\"/extremeleft11.pdb\")\n",
    "struct_apoholo[a[11][2]].save(folder+\"/extremeleft12.pdb\")\n",
    "struct_apoholo[a[12][2]].save(folder+\"/extremeleft13.pdb\")\n",
    "struct_apoholo[a[13][2]].save(folder+\"/extremeleft14.pdb\")\n",
    "struct_apoholo[a[14][2]].save(folder+\"/extremeleft15.pdb\")\n",
    "struct_apoholo[a[15][2]].save(folder+\"/extremeleft16.pdb\")\n",
    "struct_apoholo[a[16][2]].save(folder+\"/extremeleft17.pdb\")\n",
    "struct_apoholo[a[17][2]].save(folder+\"/extremeleft18.pdb\")\n",
    "struct_apoholo[a[18][2]].save(folder+\"/extremeleft19.pdb\")\n",
    "struct_apoholo[a[19][2]].save(folder+\"/extremeleft20.pdb\")\n",
    "\n",
    "struct_apoholo[a[-1][2]].save(folder+\"/extremeright1.pdb\")\n",
    "struct_apoholo[a[-2][2]].save(folder+\"/extremeright2.pdb\")\n",
    "struct_apoholo[a[-3][2]].save(folder+\"/extremeright3.pdb\")\n",
    "struct_apoholo[a[-4][2]].save(folder+\"/extremeright4.pdb\") \n",
    "struct_apoholo[a[-5][2]].save(folder+\"/extremeright5.pdb\")\n",
    "struct_apoholo[a[-6][2]].save(folder+\"/extremeright6.pdb\")\n",
    "struct_apoholo[a[-7][2]].save(folder+\"/extremeright7.pdb\")\n",
    "struct_apoholo[a[-8][2]].save(folder+\"/extremeright8.pdb\")\n",
    "struct_apoholo[a[-9][2]].save(folder+\"/extremeright9.pdb\")\n",
    "struct_apoholo[a[-10][2]].save(folder+\"/extremeright10.pdb\")\n",
    "struct_apoholo[a[-11][2]].save(folder+\"/extremeright11.pdb\")\n",
    "struct_apoholo[a[-12][2]].save(folder+\"/extremeright12.pdb\")\n",
    "struct_apoholo[a[-13][2]].save(folder+\"/extremeright13.pdb\")\n",
    "struct_apoholo[a[-14][2]].save(folder+\"/extremeright14.pdb\") \n",
    "struct_apoholo[a[-15][2]].save(folder+\"/extremeright15.pdb\")\n",
    "struct_apoholo[a[-16][2]].save(folder+\"/extremeright16.pdb\")\n",
    "struct_apoholo[a[-17][2]].save(folder+\"/extremeright17.pdb\")\n",
    "struct_apoholo[a[-18][2]].save(folder+\"/extremeright18.pdb\")\n",
    "struct_apoholo[a[-19][2]].save(folder+\"/extremeright19.pdb\")\n",
    "struct_apoholo[a[-20][2]].save(folder+\"/extremeright20.pdb\")"
   ]
  },
  {
   "cell_type": "markdown",
   "id": "processed-herald",
   "metadata": {},
   "source": [
    " # Save  PC in B-fact"
   ]
  },
  {
   "cell_type": "code",
   "execution_count": 18,
   "id": "paperback-independence",
   "metadata": {},
   "outputs": [],
   "source": [
    "folder = output_folder\n",
    "save_pc_bfact(97,173,36,struct_apo, pca_apo.components_[0],folder+\"/IMAGES/sfh1_apo_pc0.pdb\")\n",
    "save_pc_bfact(97,173,36,struct_apo, pca_holo.components_[0],folder+\"/IMAGES/sfh1_holo_pc0.pdb\")\n",
    "save_pc_bfact(97,173,36,struct_apo, pca_tot.components_[0],folder+\"/IMAGES/sfh1_apoholo_pc0.pdb\")"
   ]
  },
  {
   "cell_type": "code",
   "execution_count": null,
   "id": "fuzzy-improvement",
   "metadata": {},
   "outputs": [],
   "source": []
  },
  {
   "cell_type": "code",
   "execution_count": 10,
   "id": "worth-dallas",
   "metadata": {},
   "outputs": [
    {
     "name": "stdout",
     "output_type": "stream",
     "text": [
      "0 100.0 0.0 24.05020237406891 24.05020237406891 0.0\n",
      "1 100.0 0.0 24.59780279582327 24.59780279582327 0.0\n",
      "2 0.0 100.00708340711881 48.017074249175195 0.0 48.020475494030805\n",
      "-1 40.58192955589586 59.41807044410413 3.3315193360770037 1.3519948301078193 1.9795245059691846\n"
     ]
    },
    {
     "data": {
      "image/png": "[encoded data removed]",
      "text/plain": [
       "<Figure size 180x72 with 2 Axes>"
      ]
     },
     "metadata": {},
     "output_type": "display_data"
    }
   ],
   "source": [
    "clusters = np.unique(clone_apoholo.labels_)\n",
    "labels_apo = clone_apoholo.labels_[0:index_apo_end]\n",
    "labels_holo = clone_apoholo.labels_[index_apo_end:index_tot_end]\n",
    "pop_list = []\n",
    "for label in [0,1,2,-1]:\n",
    "    count_apo = np.count_nonzero(labels_apo == label)\n",
    "    count_holo = np.count_nonzero(labels_holo == label)\n",
    "    count_tot= np.count_nonzero(clone_apoholo.labels_[0:58800] == label)\n",
    "    pop_list.append([label, count_apo/count_tot*100, count_holo/count_tot*100, count_tot/len(clone_apoholo.labels_)*100, count_apo/count_tot*100*count_tot/len(clone_apoholo.labels_), count_holo/count_tot*100*count_tot/len(clone_apoholo.labels_)])\n",
    "    print(label, count_apo/count_tot*100, count_holo/count_tot*100, count_tot/len(clone_apoholo.labels_)*100,count_apo/count_tot*100*count_tot/len(clone_apoholo.labels_),count_holo/count_tot*100*count_tot/len(clone_apoholo.labels_) )\n",
    "\n",
    "df = pd.DataFrame(pop_list, columns=['cluster', 'frames apo (%)', 'frames holo (%)', 'cluster relevance (%)', 'weighted_cluster_relevance_apo','weighted_cluster_relevance_holo', ])  \n",
    "\n",
    "df.to_csv(output_folder+'/'+tot_name+\"_1/population_analysis.txt\", sep=\" \", float_format=\"%2.2f\")\n",
    "\n",
    "\n",
    "\n",
    "from itertools import islice, cycle\n",
    "import statsmodels.api as sm\n",
    "import matplotlib.cm as cm\n",
    "fig, (ax1, ax2) = plt.subplots(1, 2, gridspec_kw={'width_ratios': [4, 1]}, figsize=(2.5,1), )\n",
    "plt.subplots_adjust(wspace=0.5)\n",
    "color_list = np.array(['#8CBEB2','#F2EBBF','#6C9AC4', \"#5C4B51\"])\n",
    "colors = np.array(list(islice(cycle(color_list),len(clone_apoholo.centers))))\n",
    "min_pc = -3\n",
    "max_pc = 4\n",
    "axcolor = '#222222'\n",
    "axcolor2 = '#AAAAAA'\n",
    "hfont = {'fontname':'Helvetica'}\n",
    "\n",
    "\n",
    "centers = np.array(clone_apoholo.centers)\n",
    "labels = np.array(clone_apoholo.labels_)\n",
    "labels_all = np.array(clone_apoholo.labels_all)\n",
    "core = clone_apoholo.core_card\n",
    "\n",
    "sns.despine(left=True)\n",
    "#PLOT 1 \n",
    "ax1.set_xlim([min_pc,max_pc])\n",
    "ax1.set_ylim([0,2])\n",
    "ax1.set_xticks([-3,-2,-1,0,1,2,3,4])\n",
    "ax1.set_yticks([0,1.0, 2,3])\n",
    "ax1.set_xlabel(\"PC1\", fontsize=8, labelpad=3)\n",
    "ax1.set_ylabel(\"Prob. density\", fontsize=8)\n",
    "\n",
    "ax1.tick_params(axis = 'both', which = 'major', labelsize = 8, pad=1.5, length=2)\n",
    "ax1.tick_params(width=0.5)\n",
    "# change all spines\n",
    "for axis in ['top','bottom','left','right']:\n",
    "    ax1.spines[axis].set_linewidth(0.5)\n",
    "# axes colors \n",
    "ax1.xaxis.label.set_color(axcolor)\n",
    "ax1.yaxis.label.set_color(axcolor2)         \n",
    "ax1.tick_params(axis='x', colors=axcolor)    \n",
    "ax1.tick_params(axis='y', colors=axcolor2)  \n",
    "ax1.spines['left'].set_color(axcolor2)\n",
    "ax1.spines['bottom'].set_color(axcolor)  \n",
    "    \n",
    "ax1.hist(red_dim_coords_tot[0:index_apo_end,0], color='#F3B562', range=(min_pc, max_pc), bins=n_bins, histtype=\"step\", zorder=-1, density=True, linewidth=0.2,  alpha=0.5)\n",
    "ax1.hist(red_dim_coords_tot[0:index_apo_end,0], color='#F3B562', range=(min_pc, max_pc), bins=n_bins, histtype=\"stepfilled\", zorder=-1, alpha=0.4, density=True, linewidth=0.2)\n",
    "ax1.hist(red_dim_coords_tot[index_apo_end:index_tot_end:2,0], color='#998EC3', range=(min_pc, max_pc), bins=n_bins, histtype=\"step\", zorder=-1, density=True, linewidth=0.2)\n",
    "ax1.hist(red_dim_coords_tot[index_apo_end:index_tot_end:2,0], color='#998EC3', range=(min_pc, max_pc), bins=n_bins, histtype=\"stepfilled\", zorder=-1, alpha=0.6, density=True, linewidth=0.2)\n",
    "    \n",
    "# Mask for plotting\n",
    "assigned_mask = np.where(labels != -1)\n",
    "outliers_mask = np.where(labels == -1)\n",
    "\n",
    "# Sort some values for better visualization after\n",
    "data = red_dim_coords_tot[:,0].reshape(-1, 1)\n",
    "arcore = np.argsort(core)\n",
    "s_cores = core[arcore]\n",
    "s_x = data[arcore]\n",
    "\n",
    "ypos=[2.9]\n",
    "# Plot clusters\n",
    "ax1.axvline(x=1.4, color='#AAAAAA', linestyle='--', ymax=0.95, linewidth=0.2, zorder=-1)\n",
    "ax1.scatter(data[assigned_mask, 0], ypos * len(data[assigned_mask]), marker='|', s=3, color=colors[labels[assigned_mask]], zorder=1, clip_on=False)\n",
    "ax1.scatter(data[outliers_mask, 0], ypos * len(data[outliers_mask]), marker='D', s=0.05, color=color_list[3], zorder=1, clip_on=False)\n",
    "ax1.scatter(data[centers, 0], ypos * len(data[centers]), marker='D', s=2, color='black', zorder=1, clip_on=False)\n",
    "\n",
    "ax1.text(-1.68,3.07, \"C1\", fontsize=6)\n",
    "ax1.text(0.71,3.07, \"C2\", fontsize=6)\n",
    "ax1.text(1.44,3.07, \"C3\", fontsize=6)\n",
    "\n",
    "    \n",
    "    \n",
    "#PLOT 2 \n",
    "ax2.set_ylim([0,50])\n",
    "ax2.set_yticks([0,12.5,25,37.5,50])\n",
    "ax2.set_yticklabels([0,25,50,75,100])\n",
    "ax2.tick_params(axis = 'both', which = 'major', labelsize = 8, pad=1, length=2)\n",
    "#ax2.set_xlabel(\"Clusters\", fontsize=20, labelpad=5)\n",
    "ax2.set_ylabel(\"Population %\", fontsize=8, labelpad=-2, **hfont)\n",
    "    \n",
    "# set colors \n",
    "ax2.tick_params(width=0.5)\n",
    "ax2.xaxis.label.set_color(axcolor)       \n",
    "ax2.yaxis.label.set_color(axcolor2)          \n",
    "ax2.tick_params(axis='x', colors=axcolor) \n",
    "ax2.tick_params(axis='y', colors=axcolor2)\n",
    "ax2.spines['left'].set_color(axcolor2)        \n",
    "ax2.spines['bottom'].set_color(axcolor)  \n",
    "# change all spines\n",
    "for axis in ['top','bottom','left','right']:\n",
    "    ax2.spines[axis].set_linewidth(0.5)\n",
    "\n",
    "\n",
    "new_df = df[['weighted_cluster_relevance_holo','weighted_cluster_relevance_apo', ]]\n",
    "new_df.transpose().plot(kind='bar', legend=False, width=0.8, ax=ax2, color=color_list, stacked=True)\n",
    "\n",
    "ax2.set_xticklabels([\"Holo\", \"Apo\"], rotation = 90, ha='center',**hfont, fontsize=8)\n",
    "ax2.get_xticklabels()[0].set_color(\"#998EC3\")\n",
    "ax2.get_xticklabels()[1].set_color(\"#FAA336\")\n",
    "\n",
    "\n",
    "#fig.tight_layout()\n",
    "fig.savefig(output_folder+'/IMAGES/total_figure_v2.png', dpi=600, bbox_inches='tight')\n"
   ]
  },
  {
   "cell_type": "code",
   "execution_count": 32,
   "id": "southeast-spelling",
   "metadata": {},
   "outputs": [
    {
     "data": {
      "text/html": [
       "<div>\n",
       "<style scoped>\n",
       "    .dataframe tbody tr th:only-of-type {\n",
       "        vertical-align: middle;\n",
       "    }\n",
       "\n",
       "    .dataframe tbody tr th {\n",
       "        vertical-align: top;\n",
       "    }\n",
       "\n",
       "    .dataframe thead th {\n",
       "        text-align: right;\n",
       "    }\n",
       "</style>\n",
       "<table border=\"1\" class=\"dataframe\">\n",
       "  <thead>\n",
       "    <tr style=\"text-align: right;\">\n",
       "      <th></th>\n",
       "      <th>0</th>\n",
       "      <th>1</th>\n",
       "      <th>2</th>\n",
       "      <th>3</th>\n",
       "    </tr>\n",
       "  </thead>\n",
       "  <tbody>\n",
       "    <tr>\n",
       "      <th>weighted_cluster_relevance_apo</th>\n",
       "      <td>24.050202</td>\n",
       "      <td>24.597803</td>\n",
       "      <td>0.000000</td>\n",
       "      <td>1.351995</td>\n",
       "    </tr>\n",
       "    <tr>\n",
       "      <th>weighted_cluster_relevance_holo</th>\n",
       "      <td>0.000000</td>\n",
       "      <td>0.000000</td>\n",
       "      <td>48.020475</td>\n",
       "      <td>1.979525</td>\n",
       "    </tr>\n",
       "  </tbody>\n",
       "</table>\n",
       "</div>"
      ],
      "text/plain": [
       "                                         0          1          2         3\n",
       "weighted_cluster_relevance_apo   24.050202  24.597803   0.000000  1.351995\n",
       "weighted_cluster_relevance_holo   0.000000   0.000000  48.020475  1.979525"
      ]
     },
     "execution_count": 32,
     "metadata": {},
     "output_type": "execute_result"
    }
   ],
   "source": [
    "new_df.transpose() #.reindex([1,0])"
   ]
  },
  {
   "cell_type": "code",
   "execution_count": null,
   "id": "congressional-species",
   "metadata": {},
   "outputs": [],
   "source": []
  }
 ],
 "metadata": {
  "kernelspec": {
   "display_name": "Python 3",
   "language": "python",
   "name": "python3"
  },
  "language_info": {
   "codemirror_mode": {
    "name": "ipython",
    "version": 3
   },
   "file_extension": ".py",
   "mimetype": "text/x-python",
   "name": "python",
   "nbconvert_exporter": "python",
   "pygments_lexer": "ipython3",
   "version": "3.7.10"
  }
 },
 "nbformat": 4,
 "nbformat_minor": 5
}
